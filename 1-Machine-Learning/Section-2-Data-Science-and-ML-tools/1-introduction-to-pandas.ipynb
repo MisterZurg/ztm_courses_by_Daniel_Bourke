{
 "cells":[
  {
   "cell_type":"markdown",
   "source":[
    "# A Quick Introduction to Data Analysis and Manipulation with Python and pandas"
   ],
   "attachments":{
    
   },
   "metadata":{
    "datalore":{
     "node_id":"odDLliPTFLX0nCn79n7av4",
     "type":"MD",
     "hide_input_from_viewers":false,
     "hide_output_from_viewers":false,
     "report_properties":{
      "rowId":"KqQrPNkuzWtKw2olyfjPw6"
     }
    }
   }
  },
  {
   "cell_type":"code",
   "source":[
    "import datetime\n",
    "print(f\"Last updated: {datetime.datetime.now()}\")"
   ],
   "execution_count":2,
   "outputs":[
    {
     "name":"stdout",
     "text":[
      "Last updated: 2024-01-24 18:14:54.582784\n"
     ],
     "output_type":"stream"
    }
   ],
   "metadata":{
    "datalore":{
     "node_id":"Pt1tr3cugbAg7jItmjFhog",
     "type":"CODE",
     "hide_input_from_viewers":false,
     "hide_output_from_viewers":false,
     "report_properties":{
      "rowId":"H9XuxtNItnAw2Id96pZCmq"
     }
    }
   }
  },
  {
   "cell_type":"markdown",
   "source":[
    "## What is pandas?\n",
    "\n",
    "If you're getting into machine learning and data science and you're using Python, you're going to use pandas.\n",
    "\n",
    "[pandas](https:\/\/pandas.pydata.org\/) is an open source library which helps you analyse and manipulate data.\n",
    "\n",
    "<img src=\"..\/images\/pandas-6-step-ml-framework-tools-highlight.png\" alt=\"a 6 step machine learning framework along will tools you can use for each step\" width=\"700\"\/>"
   ],
   "attachments":{
    
   },
   "metadata":{
    "datalore":{
     "node_id":"5CQa2QufACiZFM6xjBQvlc",
     "type":"MD",
     "hide_input_from_viewers":false,
     "hide_output_from_viewers":false,
     "report_properties":{
      "rowId":"iCtBgAlsPsHxZsK0iBwYFv"
     }
    }
   }
  },
  {
   "cell_type":"markdown",
   "source":[
    "## Why pandas?\n",
    "\n",
    "pandas provides a simple to use but very capable set of functions you can use to on your data.\n",
    "\n",
    "It's integrated with many other data science and machine learning tools which use Python so having an understanding of it will be helpful throughout your journey.\n",
    "\n",
    "One of the main use cases you'll come across is using pandas to transform your data in a way which makes it usable with machine learning algorithms."
   ],
   "attachments":{
    
   },
   "metadata":{
    "datalore":{
     "node_id":"j08OPMdmHP9qjDRRUqfh1J",
     "type":"MD",
     "hide_input_from_viewers":false,
     "hide_output_from_viewers":false,
     "report_properties":{
      "rowId":"2oyJFS7yKsCZ12ToG3hgfU"
     }
    }
   }
  },
  {
   "cell_type":"markdown",
   "source":[
    "## What does this notebook cover?\n",
    "\n",
    "Because the pandas library is vast, there's often many ways to do the same thing. This notebook covers some of the most fundamental functions of the library, which are more than enough to get started."
   ],
   "attachments":{
    
   },
   "metadata":{
    "datalore":{
     "node_id":"VVaUYXWiRdwqOo1oKsi4GC",
     "type":"MD",
     "hide_input_from_viewers":false,
     "hide_output_from_viewers":false,
     "report_properties":{
      "rowId":"wS6iq6IiSWaPV9KQMoTTby"
     }
    }
   }
  },
  {
   "cell_type":"markdown",
   "source":[
    "## Where can I get help?\n",
    "\n",
    "If you get stuck or think of something you'd like to do which this notebook doesn't cover, don't fear!\n",
    "\n",
    "The recommended steps you take are:\n",
    "1. **Try it** - Since pandas is very friendly, your first step should be to use what you know and try figure out the answer to your own question (getting it wrong is part of the process). If in doubt, run your code.\n",
    "2. **Search for it** - If trying it on your own doesn't work, since someone else has probably tried to do something similar, try searching for your problem in the following places (either via a search engine or direct):\n",
    "    * [pandas documentation](https:\/\/pandas.pydata.org\/pandas-docs\/stable\/) - the best place for learning pandas, this resource covers all of the pandas functionality.\n",
    "    * [Stack Overflow](https:\/\/stackoverflow.com\/) - this is the developers Q&A hub, it's full of questions and answers of different problems across a wide range of software development topics and chances are, there's one related to your problem.\n",
    "    * [ChatGPT](https:\/\/chat.openai.com\/) - ChatGPT is very good at explaining code, however, it can make mistakes. Best to verify the code it writes first before using it. Try asking \"Can you explain the following code for me? {your code here}\" and then continue with follow up questions from there.\n",
    "    \n",
    "An example of searching for a pandas function might be:\n",
    "\n",
    "> \"how to fill all the missing values of two columns using pandas\"\n",
    "\n",
    "Searching this on Google leads to this post on Stack Overflow: https:\/\/stackoverflow.com\/questions\/36556256\/how-do-i-fill-na-values-in-multiple-columns-in-pandas\n",
    "\n",
    "The next steps here are to read through the post and see if it relates to your problem. If it does, great, take the code\/information you need and **rewrite it** to suit your own problem.\n",
    "\n",
    "3. **Ask for help** - If you've been through the above 2 steps and you're still stuck, you might want to ask your question on Stack Overflow. Remember to be specific as possible and provide details on what you've tried.\n",
    "\n",
    "Remember, you don't have to learn all of these functions off by heart to begin with. \n",
    "\n",
    "What's most important is remembering to continually ask yourself, \"what am I trying to do with the data?\".\n",
    "\n",
    "Start by answering that question and then practicing finding the code which does it.\n",
    "\n",
    "Let's get started."
   ],
   "attachments":{
    
   },
   "metadata":{
    "datalore":{
     "node_id":"6WaGBNozF3EY6nY5ABHCoL",
     "type":"MD",
     "hide_input_from_viewers":false,
     "hide_output_from_viewers":false,
     "report_properties":{
      "rowId":"T8cQiWnIYrP4STjNFdeIP5"
     }
    }
   }
  },
  {
   "cell_type":"markdown",
   "source":[
    "## 0. Importing pandas\n",
    "\n",
    "To get started using pandas, the first step is to import it. \n",
    "\n",
    "The most common way (and method you should use) is to import pandas as the abbreviation `pd` (e.g. `pandas` -> `pd`).\n",
    "\n",
    "If you see the letters `pd` used anywhere in machine learning or data science, it's probably referring to the pandas library."
   ],
   "attachments":{
    
   },
   "metadata":{
    "datalore":{
     "node_id":"Fv3Ky4Fvi9s4Ky8Plg0tAX",
     "type":"MD",
     "hide_input_from_viewers":false,
     "hide_output_from_viewers":false,
     "report_properties":{
      "rowId":"bOE186Y1p1YVTcUAofm6rF"
     }
    }
   }
  },
  {
   "cell_type":"code",
   "source":[
    "import pandas as pd\n",
    "\n",
    "# Print the version\n",
    "print(f\"pandas version: {pd.__version__}\")"
   ],
   "execution_count":3,
   "outputs":[
    {
     "name":"stdout",
     "text":[
      "pandas version: 1.5.3\n"
     ],
     "output_type":"stream"
    }
   ],
   "metadata":{
    "datalore":{
     "node_id":"R6r4d6XZS1ukjeYlVyZhqw",
     "type":"CODE",
     "hide_input_from_viewers":false,
     "hide_output_from_viewers":false,
     "report_properties":{
      "rowId":"dnxT6jDuHS52Yh7u144a1W"
     }
    }
   }
  },
  {
   "cell_type":"markdown",
   "source":[
    "## 1. Datatypes\n",
    "\n",
    "pandas has two main datatypes, `Series` and `DataFrame`.\n",
    "* [`pandas.Series`](https:\/\/pandas.pydata.org\/docs\/reference\/api\/pandas.Series.html) - a 1-dimensional column of data.\n",
    "* [`pandas.DataFrame`](https:\/\/pandas.pydata.org\/docs\/reference\/api\/pandas.DataFrame.html) (most common) - a 2-dimesional table of data with rows and columns.\n",
    "\n",
    "You can create a `Series` using `pd.Series()` and passing it a Python list."
   ],
   "attachments":{
    
   },
   "metadata":{
    "datalore":{
     "node_id":"kio5lW0fCGRubWR42FIKZP",
     "type":"MD",
     "hide_input_from_viewers":false,
     "hide_output_from_viewers":false,
     "report_properties":{
      "rowId":"jsV1TVYCh1gM4N90y15Odm"
     }
    }
   }
  },
  {
   "cell_type":"code",
   "source":[
    "# Creating a series of car types\n",
    "cars = pd.Series([\"BMW\", \"Toyota\", \"Honda\"])\n",
    "cars"
   ],
   "execution_count":3,
   "outputs":[
    {
     "data":{
      "text\/html":[
       "<pre>0       BMW\n",
       "1    Toyota\n",
       "2     Honda\n",
       "dtype: object<\/pre>"
      ]
     },
     "metadata":{
      
     },
     "output_type":"display_data"
    }
   ],
   "metadata":{
    "datalore":{
     "node_id":"7Kb9LRQLQzEn0covUlX9LS",
     "type":"CODE",
     "hide_input_from_viewers":false,
     "hide_output_from_viewers":false,
     "report_properties":{
      "rowId":"fk3fbrPHs66Sttz0x6EOzC"
     }
    }
   }
  },
  {
   "cell_type":"code",
   "source":[
    "# Creating a series of colours\n",
    "colours = pd.Series([\"Blue\", \"Red\", \"White\"])\n",
    "colours"
   ],
   "execution_count":4,
   "outputs":[
    {
     "data":{
      "text\/html":[
       "<pre>0     Blue\n",
       "1      Red\n",
       "2    White\n",
       "dtype: object<\/pre>"
      ]
     },
     "metadata":{
      
     },
     "output_type":"display_data"
    }
   ],
   "metadata":{
    "datalore":{
     "node_id":"eGINj5ArFMmx4Q5BtZKU6s",
     "type":"CODE",
     "hide_input_from_viewers":false,
     "hide_output_from_viewers":false,
     "report_properties":{
      "rowId":"jMWbaXOabPk8fetUjoYa7w"
     }
    }
   }
  },
  {
   "cell_type":"markdown",
   "source":[
    "You can create a `DataFrame` by using `pd.DataFrame()` and passing it a Python dictionary.\n",
    "\n",
    "Let's use our two `Series` as the values."
   ],
   "attachments":{
    
   },
   "metadata":{
    "datalore":{
     "node_id":"xb8C2H7zLXfCGQlqZ3mbLX",
     "type":"MD",
     "hide_input_from_viewers":false,
     "hide_output_from_viewers":false,
     "report_properties":{
      "rowId":"g2MYLyw7EDqhcYmLDNE9cF"
     }
    }
   }
  },
  {
   "cell_type":"code",
   "source":[
    "# Creating a DataFrame of cars and colours\n",
    "car_data = pd.DataFrame({\n",
    "    \"Car type\": cars, \n",
    "    \"Colour\": colours,\n",
    "})\n",
    "\n",
    "car_data"
   ],
   "execution_count":5,
   "outputs":[
    {
     "data":{
      "text\/html":[
       "<div>\n",
       "<style scoped>\n",
       "    .dataframe tbody tr th:only-of-type {\n",
       "        vertical-align: middle;\n",
       "    }\n",
       "\n",
       "    .dataframe tbody tr th {\n",
       "        vertical-align: top;\n",
       "    }\n",
       "\n",
       "    .dataframe thead th {\n",
       "        text-align: right;\n",
       "    }\n",
       "<\/style>\n",
       "<table border=\"1\" class=\"dataframe\">\n",
       "  <thead>\n",
       "    <tr style=\"text-align: right;\">\n",
       "      <th><\/th>\n",
       "      <th>Car type<\/th>\n",
       "      <th>Colour<\/th>\n",
       "    <\/tr>\n",
       "  <\/thead>\n",
       "  <tbody>\n",
       "    <tr>\n",
       "      <th>0<\/th>\n",
       "      <td>BMW<\/td>\n",
       "      <td>Blue<\/td>\n",
       "    <\/tr>\n",
       "    <tr>\n",
       "      <th>1<\/th>\n",
       "      <td>Toyota<\/td>\n",
       "      <td>Red<\/td>\n",
       "    <\/tr>\n",
       "    <tr>\n",
       "      <th>2<\/th>\n",
       "      <td>Honda<\/td>\n",
       "      <td>White<\/td>\n",
       "    <\/tr>\n",
       "  <\/tbody>\n",
       "<\/table>\n",
       "<\/div>"
      ]
     },
     "metadata":{
      
     },
     "output_type":"display_data"
    }
   ],
   "metadata":{
    "datalore":{
     "node_id":"o7uTy3ZCAI47Zk1sZyNs59",
     "type":"CODE",
     "hide_input_from_viewers":false,
     "hide_output_from_viewers":false,
     "report_properties":{
      "rowId":"rzlv5aqgIRlI8lSzyTDCON"
     }
    }
   }
  },
  {
   "cell_type":"markdown",
   "source":[
    "You can see the keys of the dictionary became the column headings (text in bold) and the values of the two `Series`'s became the values in the DataFrame.\n",
    "\n",
    "It's important to note, many different types of data could go into the DataFrame. \n",
    "\n",
    "Here we've used only text but you could use floats, integers, dates and more."
   ],
   "attachments":{
    
   },
   "metadata":{
    "datalore":{
     "node_id":"3MuPLTiVjuhXcWQWsJGpqw",
     "type":"MD",
     "hide_input_from_viewers":false,
     "hide_output_from_viewers":false,
     "report_properties":{
      "rowId":"vqYMYyamW4KdLBMJQHr2OD"
     }
    }
   }
  },
  {
   "cell_type":"markdown",
   "source":[
    "> <picture>\n",
    ">   <source media=\"(prefers-color-scheme: light)\" srcset=\"https:\/\/raw.githubusercontent.com\/Mqxx\/GitHub-Markdown\/main\/blockquotes\/badge\/light-theme\/issue.svg\">\n",
    ">   <img alt=\"Issue\" src=\"https:\/\/raw.githubusercontent.com\/Mqxx\/GitHub-Markdown\/main\/blockquotes\/badge\/dark-theme\/issue.svg\">\n",
    "> <\/picture><br>\n",
    ">\n",
    "> ### Exercises\n",
    "> \n",
    "> 1. Make a `Series` of different foods.\n",
    "> 2. Make a `Series` of different dollar values (these can be integers).\n",
    "> 3. Combine your `Series`'s of foods and dollar values into a `DataFrame`.\n",
    "> \n",
    "> Try it out for yourself first, then see how your code goes against the solution.\n",
    "> \n",
    "> <picture>\n",
    ">   <source media=\"(prefers-color-scheme: light)\" srcset=\"https:\/\/raw.githubusercontent.com\/Mqxx\/GitHub-Markdown\/main\/blockquotes\/badge\/light-theme\/note.svg\">\n",
    ">   <img alt=\"Note\" src=\"https:\/\/raw.githubusercontent.com\/Mqxx\/GitHub-Markdown\/main\/blockquotes\/badge\/dark-theme\/note.svg\">\n",
    "> <\/picture><br> \n",
    "> \n",
    "> **Note:** Make sure your two `Series` are the same size before combining them in a DataFrame."
   ],
   "attachments":{
    
   },
   "metadata":{
    "datalore":{
     "node_id":"turUY7Q5gC7pytciKeVFwZ",
     "type":"MD",
     "hide_input_from_viewers":false,
     "hide_output_from_viewers":false,
     "report_properties":{
      "rowId":"U47RpIFE2KyDFsarW2uV7U"
     }
    }
   }
  },
  {
   "cell_type":"code",
   "source":[
    "# Your code here\n",
    "food = pd.Series([\"Pizza\", \"Grandmothers' Roast Chikin Dish\", \"Borscht\"])\n",
    "\n",
    "denomination = pd.Series([\"1$\", \"2$\", \"5$\"])\n",
    "\n",
    "combined = pd.DataFrame({\n",
    "    \"Foods\" : food,\n",
    "    \"Denomination\" : denomination,\n",
    "})\n",
    "\n",
    "combined"
   ],
   "execution_count":4,
   "outputs":[
    {
     "data":{
      "text\/html":[
       "<div>\n",
       "<style scoped>\n",
       "    .dataframe tbody tr th:only-of-type {\n",
       "        vertical-align: middle;\n",
       "    }\n",
       "\n",
       "    .dataframe tbody tr th {\n",
       "        vertical-align: top;\n",
       "    }\n",
       "\n",
       "    .dataframe thead th {\n",
       "        text-align: right;\n",
       "    }\n",
       "<\/style>\n",
       "<table border=\"1\" class=\"dataframe\">\n",
       "  <thead>\n",
       "    <tr style=\"text-align: right;\">\n",
       "      <th><\/th>\n",
       "      <th>Foods<\/th>\n",
       "      <th>Denomination<\/th>\n",
       "    <\/tr>\n",
       "  <\/thead>\n",
       "  <tbody>\n",
       "    <tr>\n",
       "      <th>0<\/th>\n",
       "      <td>Pizza<\/td>\n",
       "      <td>1$<\/td>\n",
       "    <\/tr>\n",
       "    <tr>\n",
       "      <th>1<\/th>\n",
       "      <td>Grandmothers' Roast Chikin Dish<\/td>\n",
       "      <td>2$<\/td>\n",
       "    <\/tr>\n",
       "    <tr>\n",
       "      <th>2<\/th>\n",
       "      <td>Borscht<\/td>\n",
       "      <td>5$<\/td>\n",
       "    <\/tr>\n",
       "  <\/tbody>\n",
       "<\/table>\n",
       "<\/div>"
      ]
     },
     "metadata":{
      
     },
     "output_type":"display_data"
    }
   ],
   "metadata":{
    "datalore":{
     "node_id":"5GxQsB7cQUdQsRisKHtSeD",
     "type":"CODE",
     "hide_input_from_viewers":false,
     "hide_output_from_viewers":false,
     "report_properties":{
      "rowId":"WpPpUyKU97gbjJo227lPA3"
     }
    }
   }
  },
  {
   "cell_type":"code",
   "source":[
    "# Example solution\n",
    "\n",
    "# Make a Series of different foods\n",
    "foods = pd.Series([\"Almond butter\", \"Eggs\", \"Avocado\"])\n",
    "\n",
    "# Make a Series of different dollar values \n",
    "prices = pd.Series([9, 6, 2])\n",
    "\n",
    "# Combine your Series of foods and dollar values into a DataFrame\n",
    "food_data = pd.DataFrame({\"Foods\": foods,\n",
    "                          \"Price\": prices})\n",
    "\n",
    "food_data"
   ],
   "execution_count":7,
   "outputs":[
    {
     "data":{
      "text\/html":[
       "<div>\n",
       "<style scoped>\n",
       "    .dataframe tbody tr th:only-of-type {\n",
       "        vertical-align: middle;\n",
       "    }\n",
       "\n",
       "    .dataframe tbody tr th {\n",
       "        vertical-align: top;\n",
       "    }\n",
       "\n",
       "    .dataframe thead th {\n",
       "        text-align: right;\n",
       "    }\n",
       "<\/style>\n",
       "<table border=\"1\" class=\"dataframe\">\n",
       "  <thead>\n",
       "    <tr style=\"text-align: right;\">\n",
       "      <th><\/th>\n",
       "      <th>Foods<\/th>\n",
       "      <th>Price<\/th>\n",
       "    <\/tr>\n",
       "  <\/thead>\n",
       "  <tbody>\n",
       "    <tr>\n",
       "      <th>0<\/th>\n",
       "      <td>Almond butter<\/td>\n",
       "      <td>9<\/td>\n",
       "    <\/tr>\n",
       "    <tr>\n",
       "      <th>1<\/th>\n",
       "      <td>Eggs<\/td>\n",
       "      <td>6<\/td>\n",
       "    <\/tr>\n",
       "    <tr>\n",
       "      <th>2<\/th>\n",
       "      <td>Avocado<\/td>\n",
       "      <td>2<\/td>\n",
       "    <\/tr>\n",
       "  <\/tbody>\n",
       "<\/table>\n",
       "<\/div>"
      ]
     },
     "metadata":{
      
     },
     "output_type":"display_data"
    },
    {
     "data":{
      "text\/plain":[
       "           Foods  Price\n",
       "0  Almond butter      9\n",
       "1           Eggs      6\n",
       "2        Avocado      2"
      ]
     },
     "metadata":{
      
     },
     "output_type":"display_data"
    }
   ],
   "metadata":{
    "datalore":{
     "node_id":"SOIYVrzVMtBMcKOWHdCJa5",
     "type":"CODE",
     "hide_input_from_viewers":false,
     "hide_output_from_viewers":false,
     "report_properties":{
      "rowId":"svcTNHWyS0WRO2Cr2A3D3E"
     }
    }
   }
  },
  {
   "cell_type":"markdown",
   "source":[
    "## 2. Importing data\n",
    "\n",
    "Creating `Series` and `DataFrame`'s from scratch is nice but what you'll usually be doing is importing your data in the form of a `.csv` (comma separated value), spreadsheet file or something similar such as an [SQL database](https:\/\/pandas.pydata.org\/docs\/reference\/api\/pandas.read_sql.html).\n",
    "\n",
    "pandas allows for easy importing of data like this through functions such as [`pd.read_csv()`](https:\/\/pandas.pydata.org\/docs\/reference\/api\/pandas.read_csv.html) and [`pd.read_excel()`](https:\/\/pandas.pydata.org\/docs\/reference\/api\/pandas.read_excel.html) (for Microsoft Excel files).\n",
    "\n",
    "Say you wanted to get this information from this Google Sheet document into a pandas `DataFrame`. \n",
    "\n",
    "<img src=\"..\/images\/pandas-car-sales-csv.png\" alt=\"spreadsheet with car sales information\" width=\"600\">\n",
    "\n",
    "You could export it as a `.csv` file and then import it using `pd.read_csv()`. \n",
    "\n",
    "> **Tip:** If the Google Sheet is public, `pd.read_csv()` can read it via URL, try searching for \"pandas read Google Sheet with URL\".\n",
    "\n",
    "In this case, the exported `.csv` file is called `car-sales.csv`."
   ],
   "attachments":{
    
   },
   "metadata":{
    "datalore":{
     "node_id":"3wAMcqokgSZJCyRyk95lSW",
     "type":"MD",
     "hide_input_from_viewers":false,
     "hide_output_from_viewers":false,
     "report_properties":{
      "rowId":"qrk4pIXLzVzzhRSlPC4Msn"
     }
    }
   }
  },
  {
   "cell_type":"code",
   "source":[
    "# Import car sales data\n",
    "car_sales = pd.read_csv(\n",
    "    \"https:\/\/raw.githubusercontent.com\/mrdbourke\/zero-to-mastery-ml\/master\/data\/car-sales.csv\"\n",
    ") # takes a filename as string as input\n",
    "\n",
    "car_sales"
   ],
   "execution_count":5,
   "outputs":[
    {
     "data":{
      "text\/html":[
       "<div>\n",
       "<style scoped>\n",
       "    .dataframe tbody tr th:only-of-type {\n",
       "        vertical-align: middle;\n",
       "    }\n",
       "\n",
       "    .dataframe tbody tr th {\n",
       "        vertical-align: top;\n",
       "    }\n",
       "\n",
       "    .dataframe thead th {\n",
       "        text-align: right;\n",
       "    }\n",
       "<\/style>\n",
       "<table border=\"1\" class=\"dataframe\">\n",
       "  <thead>\n",
       "    <tr style=\"text-align: right;\">\n",
       "      <th><\/th>\n",
       "      <th>Make<\/th>\n",
       "      <th>Colour<\/th>\n",
       "      <th>Odometer (KM)<\/th>\n",
       "      <th>Doors<\/th>\n",
       "      <th>Price<\/th>\n",
       "    <\/tr>\n",
       "  <\/thead>\n",
       "  <tbody>\n",
       "    <tr>\n",
       "      <th>0<\/th>\n",
       "      <td>Toyota<\/td>\n",
       "      <td>White<\/td>\n",
       "      <td>150043<\/td>\n",
       "      <td>4<\/td>\n",
       "      <td>$4,000.00<\/td>\n",
       "    <\/tr>\n",
       "    <tr>\n",
       "      <th>1<\/th>\n",
       "      <td>Honda<\/td>\n",
       "      <td>Red<\/td>\n",
       "      <td>87899<\/td>\n",
       "      <td>4<\/td>\n",
       "      <td>$5,000.00<\/td>\n",
       "    <\/tr>\n",
       "    <tr>\n",
       "      <th>2<\/th>\n",
       "      <td>Toyota<\/td>\n",
       "      <td>Blue<\/td>\n",
       "      <td>32549<\/td>\n",
       "      <td>3<\/td>\n",
       "      <td>$7,000.00<\/td>\n",
       "    <\/tr>\n",
       "    <tr>\n",
       "      <th>3<\/th>\n",
       "      <td>BMW<\/td>\n",
       "      <td>Black<\/td>\n",
       "      <td>11179<\/td>\n",
       "      <td>5<\/td>\n",
       "      <td>$22,000.00<\/td>\n",
       "    <\/tr>\n",
       "    <tr>\n",
       "      <th>4<\/th>\n",
       "      <td>Nissan<\/td>\n",
       "      <td>White<\/td>\n",
       "      <td>213095<\/td>\n",
       "      <td>4<\/td>\n",
       "      <td>$3,500.00<\/td>\n",
       "    <\/tr>\n",
       "    <tr>\n",
       "      <th>5<\/th>\n",
       "      <td>Toyota<\/td>\n",
       "      <td>Green<\/td>\n",
       "      <td>99213<\/td>\n",
       "      <td>4<\/td>\n",
       "      <td>$4,500.00<\/td>\n",
       "    <\/tr>\n",
       "    <tr>\n",
       "      <th>6<\/th>\n",
       "      <td>Honda<\/td>\n",
       "      <td>Blue<\/td>\n",
       "      <td>45698<\/td>\n",
       "      <td>4<\/td>\n",
       "      <td>$7,500.00<\/td>\n",
       "    <\/tr>\n",
       "    <tr>\n",
       "      <th>7<\/th>\n",
       "      <td>Honda<\/td>\n",
       "      <td>Blue<\/td>\n",
       "      <td>54738<\/td>\n",
       "      <td>4<\/td>\n",
       "      <td>$7,000.00<\/td>\n",
       "    <\/tr>\n",
       "    <tr>\n",
       "      <th>8<\/th>\n",
       "      <td>Toyota<\/td>\n",
       "      <td>White<\/td>\n",
       "      <td>60000<\/td>\n",
       "      <td>4<\/td>\n",
       "      <td>$6,250.00<\/td>\n",
       "    <\/tr>\n",
       "    <tr>\n",
       "      <th>9<\/th>\n",
       "      <td>Nissan<\/td>\n",
       "      <td>White<\/td>\n",
       "      <td>31600<\/td>\n",
       "      <td>4<\/td>\n",
       "      <td>$9,700.00<\/td>\n",
       "    <\/tr>\n",
       "  <\/tbody>\n",
       "<\/table>\n",
       "<\/div>"
      ]
     },
     "metadata":{
      
     },
     "output_type":"display_data"
    }
   ],
   "metadata":{
    "datalore":{
     "node_id":"Td7CoC1XXQ9rm2JueWIQwS",
     "type":"CODE",
     "hide_input_from_viewers":false,
     "hide_output_from_viewers":false,
     "report_properties":{
      "rowId":"Mz5j5Bkm98HFMIqT7zDgPr"
     }
    }
   }
  },
  {
   "cell_type":"markdown",
   "source":[
    "Now we've got the same data from the spreadsheet available in a pandas `DataFrame` called `car_sales`. \n",
    "\n",
    "Having your data available in a `DataFrame` allows you to take advantage of all of pandas functionality on it.\n",
    "\n",
    "Another common practice you'll see is data being imported to `DataFrame` called `df` (short for `DataFrame`)."
   ],
   "attachments":{
    
   },
   "metadata":{
    "datalore":{
     "node_id":"SaWm2h0OgOalq1usHdvwyn",
     "type":"MD",
     "hide_input_from_viewers":false,
     "hide_output_from_viewers":false,
     "report_properties":{
      "rowId":"4UMlT1TAClMFdwDubwzsJK"
     }
    }
   }
  },
  {
   "cell_type":"code",
   "source":[
    "# Import the car sales data and save it to df\n",
    "df = pd.read_csv(\n",
    "    \"https:\/\/raw.githubusercontent.com\/mrdbourke\/zero-to-mastery-ml\/master\/data\/car-sales.csv\"\n",
    ")\n",
    "\n",
    "df"
   ],
   "execution_count":6,
   "outputs":[
    {
     "data":{
      "text\/html":[
       "<div>\n",
       "<style scoped>\n",
       "    .dataframe tbody tr th:only-of-type {\n",
       "        vertical-align: middle;\n",
       "    }\n",
       "\n",
       "    .dataframe tbody tr th {\n",
       "        vertical-align: top;\n",
       "    }\n",
       "\n",
       "    .dataframe thead th {\n",
       "        text-align: right;\n",
       "    }\n",
       "<\/style>\n",
       "<table border=\"1\" class=\"dataframe\">\n",
       "  <thead>\n",
       "    <tr style=\"text-align: right;\">\n",
       "      <th><\/th>\n",
       "      <th>Make<\/th>\n",
       "      <th>Colour<\/th>\n",
       "      <th>Odometer (KM)<\/th>\n",
       "      <th>Doors<\/th>\n",
       "      <th>Price<\/th>\n",
       "    <\/tr>\n",
       "  <\/thead>\n",
       "  <tbody>\n",
       "    <tr>\n",
       "      <th>0<\/th>\n",
       "      <td>Toyota<\/td>\n",
       "      <td>White<\/td>\n",
       "      <td>150043<\/td>\n",
       "      <td>4<\/td>\n",
       "      <td>$4,000.00<\/td>\n",
       "    <\/tr>\n",
       "    <tr>\n",
       "      <th>1<\/th>\n",
       "      <td>Honda<\/td>\n",
       "      <td>Red<\/td>\n",
       "      <td>87899<\/td>\n",
       "      <td>4<\/td>\n",
       "      <td>$5,000.00<\/td>\n",
       "    <\/tr>\n",
       "    <tr>\n",
       "      <th>2<\/th>\n",
       "      <td>Toyota<\/td>\n",
       "      <td>Blue<\/td>\n",
       "      <td>32549<\/td>\n",
       "      <td>3<\/td>\n",
       "      <td>$7,000.00<\/td>\n",
       "    <\/tr>\n",
       "    <tr>\n",
       "      <th>3<\/th>\n",
       "      <td>BMW<\/td>\n",
       "      <td>Black<\/td>\n",
       "      <td>11179<\/td>\n",
       "      <td>5<\/td>\n",
       "      <td>$22,000.00<\/td>\n",
       "    <\/tr>\n",
       "    <tr>\n",
       "      <th>4<\/th>\n",
       "      <td>Nissan<\/td>\n",
       "      <td>White<\/td>\n",
       "      <td>213095<\/td>\n",
       "      <td>4<\/td>\n",
       "      <td>$3,500.00<\/td>\n",
       "    <\/tr>\n",
       "    <tr>\n",
       "      <th>5<\/th>\n",
       "      <td>Toyota<\/td>\n",
       "      <td>Green<\/td>\n",
       "      <td>99213<\/td>\n",
       "      <td>4<\/td>\n",
       "      <td>$4,500.00<\/td>\n",
       "    <\/tr>\n",
       "    <tr>\n",
       "      <th>6<\/th>\n",
       "      <td>Honda<\/td>\n",
       "      <td>Blue<\/td>\n",
       "      <td>45698<\/td>\n",
       "      <td>4<\/td>\n",
       "      <td>$7,500.00<\/td>\n",
       "    <\/tr>\n",
       "    <tr>\n",
       "      <th>7<\/th>\n",
       "      <td>Honda<\/td>\n",
       "      <td>Blue<\/td>\n",
       "      <td>54738<\/td>\n",
       "      <td>4<\/td>\n",
       "      <td>$7,000.00<\/td>\n",
       "    <\/tr>\n",
       "    <tr>\n",
       "      <th>8<\/th>\n",
       "      <td>Toyota<\/td>\n",
       "      <td>White<\/td>\n",
       "      <td>60000<\/td>\n",
       "      <td>4<\/td>\n",
       "      <td>$6,250.00<\/td>\n",
       "    <\/tr>\n",
       "    <tr>\n",
       "      <th>9<\/th>\n",
       "      <td>Nissan<\/td>\n",
       "      <td>White<\/td>\n",
       "      <td>31600<\/td>\n",
       "      <td>4<\/td>\n",
       "      <td>$9,700.00<\/td>\n",
       "    <\/tr>\n",
       "  <\/tbody>\n",
       "<\/table>\n",
       "<\/div>"
      ]
     },
     "metadata":{
      
     },
     "output_type":"display_data"
    }
   ],
   "metadata":{
    "datalore":{
     "node_id":"f9ooxIkU2U4al6SP5HSWYR",
     "type":"CODE",
     "hide_input_from_viewers":false,
     "hide_output_from_viewers":false,
     "report_properties":{
      "rowId":"RxqyxRfYe5SFzWPBNGf3kW"
     }
    }
   }
  },
  {
   "cell_type":"markdown",
   "source":[
    "Now `car_sales` and `df` contain the exact same information, the only difference is the name. Like any other variable, you can name your `DataFrame`'s whatever you want. But best to choose something simple.\n",
    "\n",
    "### Anatomy of a DataFrame\n",
    "\n",
    "Different functions use different labels for different things. This graphic sums up some of the main components of `DataFrame`'s and their different names.\n",
    "\n",
    "<img src=\"..\/images\/pandas-dataframe-anatomy.png\" alt=\"pandas dataframe with different sections labelled\" width=\"800\"\/>"
   ],
   "attachments":{
    
   },
   "metadata":{
    "datalore":{
     "node_id":"9aUUXVfkjJatKPgy1BZrzu",
     "type":"MD",
     "hide_input_from_viewers":false,
     "hide_output_from_viewers":false,
     "report_properties":{
      "rowId":"uxHuV5ssxVqWVOX1MaWlkS"
     }
    }
   }
  },
  {
   "cell_type":"markdown",
   "source":[
    "## 3. Exporting data\n",
    "\n",
    "After you've made a few changes to your data, you might want to export it and save it so someone else can access the changes.\n",
    "\n",
    "pandas allows you to export `DataFrame`'s to `.csv` format using [`.to_csv()`](https:\/\/pandas.pydata.org\/docs\/reference\/api\/pandas.DataFrame.to_csv.html) or spreadsheet format using [`.to_excel()`](https:\/\/pandas.pydata.org\/docs\/reference\/api\/pandas.DataFrame.to_excel.html).\n",
    "\n",
    "We haven't made any changes yet to the `car_sales` `DataFrame` but let's try export it."
   ],
   "attachments":{
    
   },
   "metadata":{
    "datalore":{
     "node_id":"UoM1KPZpX5NrWkY9ieyobO",
     "type":"MD",
     "hide_input_from_viewers":false,
     "hide_output_from_viewers":false,
     "report_properties":{
      "rowId":"WIhQtO1xdyLyEuXhvHa8dJ"
     }
    }
   }
  },
  {
   "cell_type":"code",
   "source":[
    "# Export the car sales DataFrame to csv\n",
    "car_sales.to_csv(\".\/exported-car-sales.csv\")"
   ],
   "execution_count":10,
   "outputs":[
    
   ],
   "metadata":{
    "datalore":{
     "node_id":"FAOjVDzGh1tLvazM5Ih6r1",
     "type":"CODE",
     "hide_input_from_viewers":false,
     "hide_output_from_viewers":false,
     "report_properties":{
      "rowId":"D6f5AMSb479IXqPCdJoRnb"
     }
    }
   }
  },
  {
   "cell_type":"markdown",
   "source":[
    "Running this will save a file called `export-car-sales.csv` to the current folder.\n",
    "\n",
    "<img src=\"..\/images\/pandas-exported-car-sales-csv.png\" alt=\"folder with exported car sales csv file highlighted\" width=\"600\"\/>"
   ],
   "attachments":{
    
   },
   "metadata":{
    "datalore":{
     "node_id":"hUbRJpbB5FAzye8szuA96q",
     "type":"MD",
     "hide_input_from_viewers":false,
     "hide_output_from_viewers":false,
     "report_properties":{
      "rowId":"m4S5XDnDe0w8WBxji0HJ8y"
     }
    }
   }
  },
  {
   "cell_type":"markdown",
   "source":[
    "## Exercises\n",
    "\n",
    "1. Practice importing a `.csv` file using `pd.read_csv()`, you can download `heart-disease.csv`. This file contains annonymous patient medical records and whether or not they have heart disease.\n",
    "2. Practice exporting a `DataFrame` using `.to_csv()`. You could export the heart disease `DataFrame` after you've imported it.\n",
    "\n",
    "**Note:** \n",
    "* Make sure the `heart-disease.csv` file is in the same folder as your notebook orbe sure to use the filepath where the file is.\n",
    "* You can name the variables and exported files whatever you like but make sure they're readable."
   ],
   "attachments":{
    
   },
   "metadata":{
    "datalore":{
     "node_id":"hZpB0DlXZOMeGeiIB3EgEq",
     "type":"MD",
     "hide_input_from_viewers":false,
     "hide_output_from_viewers":false,
     "report_properties":{
      "rowId":"YViAT7Unu4cC0Q1IVQqQvv"
     }
    }
   }
  },
  {
   "cell_type":"code",
   "source":[
    "# Your code here\n",
    "heart_disease_df = pd.read_csv(\n",
    "    \"https:\/\/raw.githubusercontent.com\/mrdbourke\/zero-to-mastery-ml\/master\/data\/heart-disease.csv\"\n",
    ")\n",
    "\n",
    "heart_disease_df.to_csv(\".\/exported-heart-disease.csv\")"
   ],
   "execution_count":13,
   "outputs":[
    
   ],
   "metadata":{
    "datalore":{
     "node_id":"XVidBNUxti1YDy5vUe09Oq",
     "type":"CODE",
     "hide_input_from_viewers":false,
     "hide_output_from_viewers":false,
     "report_properties":{
      "rowId":"96xiNSOBtmtPGZ7aGOWLdv"
     }
    }
   }
  },
  {
   "cell_type":"markdown",
   "source":[
    "### Example solution"
   ],
   "attachments":{
    
   },
   "metadata":{
    "datalore":{
     "node_id":"BvudeZIBVm7xdb4sFCM7RO",
     "type":"MD",
     "hide_input_from_viewers":false,
     "hide_output_from_viewers":false,
     "report_properties":{
      "rowId":"ekXrnzFkkbZNbG6pSpvklw"
     }
    }
   }
  },
  {
   "cell_type":"code",
   "source":[
    "# Importing heart-disease.csv\n",
    "patient_data = pd.read_csv(\"..\/data\/heart-disease.csv\")\n",
    "patient_data"
   ],
   "execution_count":14,
   "outputs":[
    {
     "data":{
      "text\/html":[
       "<div>\n",
       "<style scoped>\n",
       "    .dataframe tbody tr th:only-of-type {\n",
       "        vertical-align: middle;\n",
       "    }\n",
       "\n",
       "    .dataframe tbody tr th {\n",
       "        vertical-align: top;\n",
       "    }\n",
       "\n",
       "    .dataframe thead th {\n",
       "        text-align: right;\n",
       "    }\n",
       "<\/style>\n",
       "<table border=\"1\" class=\"dataframe\">\n",
       "  <thead>\n",
       "    <tr style=\"text-align: right;\">\n",
       "      <th><\/th>\n",
       "      <th>Unnamed: 0<\/th>\n",
       "      <th>age<\/th>\n",
       "      <th>sex<\/th>\n",
       "      <th>cp<\/th>\n",
       "      <th>trestbps<\/th>\n",
       "      <th>chol<\/th>\n",
       "      <th>fbs<\/th>\n",
       "      <th>restecg<\/th>\n",
       "      <th>thalach<\/th>\n",
       "      <th>exang<\/th>\n",
       "      <th>oldpeak<\/th>\n",
       "      <th>slope<\/th>\n",
       "      <th>ca<\/th>\n",
       "      <th>thal<\/th>\n",
       "      <th>target<\/th>\n",
       "    <\/tr>\n",
       "  <\/thead>\n",
       "  <tbody>\n",
       "    <tr>\n",
       "      <th>0<\/th>\n",
       "      <td>0<\/td>\n",
       "      <td>63<\/td>\n",
       "      <td>1<\/td>\n",
       "      <td>3<\/td>\n",
       "      <td>145<\/td>\n",
       "      <td>233<\/td>\n",
       "      <td>1<\/td>\n",
       "      <td>0<\/td>\n",
       "      <td>150<\/td>\n",
       "      <td>0<\/td>\n",
       "      <td>2.3<\/td>\n",
       "      <td>0<\/td>\n",
       "      <td>0<\/td>\n",
       "      <td>1<\/td>\n",
       "      <td>1<\/td>\n",
       "    <\/tr>\n",
       "    <tr>\n",
       "      <th>1<\/th>\n",
       "      <td>1<\/td>\n",
       "      <td>37<\/td>\n",
       "      <td>1<\/td>\n",
       "      <td>2<\/td>\n",
       "      <td>130<\/td>\n",
       "      <td>250<\/td>\n",
       "      <td>0<\/td>\n",
       "      <td>1<\/td>\n",
       "      <td>187<\/td>\n",
       "      <td>0<\/td>\n",
       "      <td>3.5<\/td>\n",
       "      <td>0<\/td>\n",
       "      <td>0<\/td>\n",
       "      <td>2<\/td>\n",
       "      <td>1<\/td>\n",
       "    <\/tr>\n",
       "    <tr>\n",
       "      <th>2<\/th>\n",
       "      <td>2<\/td>\n",
       "      <td>41<\/td>\n",
       "      <td>0<\/td>\n",
       "      <td>1<\/td>\n",
       "      <td>130<\/td>\n",
       "      <td>204<\/td>\n",
       "      <td>0<\/td>\n",
       "      <td>0<\/td>\n",
       "      <td>172<\/td>\n",
       "      <td>0<\/td>\n",
       "      <td>1.4<\/td>\n",
       "      <td>2<\/td>\n",
       "      <td>0<\/td>\n",
       "      <td>2<\/td>\n",
       "      <td>1<\/td>\n",
       "    <\/tr>\n",
       "    <tr>\n",
       "      <th>3<\/th>\n",
       "      <td>3<\/td>\n",
       "      <td>56<\/td>\n",
       "      <td>1<\/td>\n",
       "      <td>1<\/td>\n",
       "      <td>120<\/td>\n",
       "      <td>236<\/td>\n",
       "      <td>0<\/td>\n",
       "      <td>1<\/td>\n",
       "      <td>178<\/td>\n",
       "      <td>0<\/td>\n",
       "      <td>0.8<\/td>\n",
       "      <td>2<\/td>\n",
       "      <td>0<\/td>\n",
       "      <td>2<\/td>\n",
       "      <td>1<\/td>\n",
       "    <\/tr>\n",
       "    <tr>\n",
       "      <th>4<\/th>\n",
       "      <td>4<\/td>\n",
       "      <td>57<\/td>\n",
       "      <td>0<\/td>\n",
       "      <td>0<\/td>\n",
       "      <td>120<\/td>\n",
       "      <td>354<\/td>\n",
       "      <td>0<\/td>\n",
       "      <td>1<\/td>\n",
       "      <td>163<\/td>\n",
       "      <td>1<\/td>\n",
       "      <td>0.6<\/td>\n",
       "      <td>2<\/td>\n",
       "      <td>0<\/td>\n",
       "      <td>2<\/td>\n",
       "      <td>1<\/td>\n",
       "    <\/tr>\n",
       "    <tr>\n",
       "      <th>...<\/th>\n",
       "      <td>...<\/td>\n",
       "      <td>...<\/td>\n",
       "      <td>...<\/td>\n",
       "      <td>...<\/td>\n",
       "      <td>...<\/td>\n",
       "      <td>...<\/td>\n",
       "      <td>...<\/td>\n",
       "      <td>...<\/td>\n",
       "      <td>...<\/td>\n",
       "      <td>...<\/td>\n",
       "      <td>...<\/td>\n",
       "      <td>...<\/td>\n",
       "      <td>...<\/td>\n",
       "      <td>...<\/td>\n",
       "      <td>...<\/td>\n",
       "    <\/tr>\n",
       "    <tr>\n",
       "      <th>298<\/th>\n",
       "      <td>298<\/td>\n",
       "      <td>57<\/td>\n",
       "      <td>0<\/td>\n",
       "      <td>0<\/td>\n",
       "      <td>140<\/td>\n",
       "      <td>241<\/td>\n",
       "      <td>0<\/td>\n",
       "      <td>1<\/td>\n",
       "      <td>123<\/td>\n",
       "      <td>1<\/td>\n",
       "      <td>0.2<\/td>\n",
       "      <td>1<\/td>\n",
       "      <td>0<\/td>\n",
       "      <td>3<\/td>\n",
       "      <td>0<\/td>\n",
       "    <\/tr>\n",
       "    <tr>\n",
       "      <th>299<\/th>\n",
       "      <td>299<\/td>\n",
       "      <td>45<\/td>\n",
       "      <td>1<\/td>\n",
       "      <td>3<\/td>\n",
       "      <td>110<\/td>\n",
       "      <td>264<\/td>\n",
       "      <td>0<\/td>\n",
       "      <td>1<\/td>\n",
       "      <td>132<\/td>\n",
       "      <td>0<\/td>\n",
       "      <td>1.2<\/td>\n",
       "      <td>1<\/td>\n",
       "      <td>0<\/td>\n",
       "      <td>3<\/td>\n",
       "      <td>0<\/td>\n",
       "    <\/tr>\n",
       "    <tr>\n",
       "      <th>300<\/th>\n",
       "      <td>300<\/td>\n",
       "      <td>68<\/td>\n",
       "      <td>1<\/td>\n",
       "      <td>0<\/td>\n",
       "      <td>144<\/td>\n",
       "      <td>193<\/td>\n",
       "      <td>1<\/td>\n",
       "      <td>1<\/td>\n",
       "      <td>141<\/td>\n",
       "      <td>0<\/td>\n",
       "      <td>3.4<\/td>\n",
       "      <td>1<\/td>\n",
       "      <td>2<\/td>\n",
       "      <td>3<\/td>\n",
       "      <td>0<\/td>\n",
       "    <\/tr>\n",
       "    <tr>\n",
       "      <th>301<\/th>\n",
       "      <td>301<\/td>\n",
       "      <td>57<\/td>\n",
       "      <td>1<\/td>\n",
       "      <td>0<\/td>\n",
       "      <td>130<\/td>\n",
       "      <td>131<\/td>\n",
       "      <td>0<\/td>\n",
       "      <td>1<\/td>\n",
       "      <td>115<\/td>\n",
       "      <td>1<\/td>\n",
       "      <td>1.2<\/td>\n",
       "      <td>1<\/td>\n",
       "      <td>1<\/td>\n",
       "      <td>3<\/td>\n",
       "      <td>0<\/td>\n",
       "    <\/tr>\n",
       "    <tr>\n",
       "      <th>302<\/th>\n",
       "      <td>302<\/td>\n",
       "      <td>57<\/td>\n",
       "      <td>0<\/td>\n",
       "      <td>1<\/td>\n",
       "      <td>130<\/td>\n",
       "      <td>236<\/td>\n",
       "      <td>0<\/td>\n",
       "      <td>0<\/td>\n",
       "      <td>174<\/td>\n",
       "      <td>0<\/td>\n",
       "      <td>0.0<\/td>\n",
       "      <td>1<\/td>\n",
       "      <td>1<\/td>\n",
       "      <td>2<\/td>\n",
       "      <td>0<\/td>\n",
       "    <\/tr>\n",
       "  <\/tbody>\n",
       "<\/table>\n",
       "<p>303 rows × 15 columns<\/p>\n",
       "<\/div>"
      ]
     },
     "metadata":{
      
     },
     "output_type":"display_data"
    }
   ],
   "metadata":{
    "datalore":{
     "node_id":"rqakLjHBPv2NKkZ4TtfNZN",
     "type":"CODE",
     "hide_input_from_viewers":false,
     "hide_output_from_viewers":false,
     "report_properties":{
      "rowId":"QvVE63PzuzcV0vILL0bo71"
     }
    }
   }
  },
  {
   "cell_type":"code",
   "source":[
    "# Exporting the patient_data DataFrame to csv\n",
    "patient_data.to_csv(\"..\/data\/exported-patient-data.csv\")"
   ],
   "execution_count":null,
   "outputs":[
    
   ],
   "metadata":{
    "datalore":{
     "node_id":"pCrlbJ3trqoLXHFLUFX83T",
     "type":"CODE",
     "hide_input_from_viewers":false,
     "hide_output_from_viewers":false,
     "report_properties":{
      "rowId":"YRs3jaZYE8NdfYAlqBkJw9"
     }
    }
   }
  },
  {
   "cell_type":"markdown",
   "source":[
    "<img src=\"..\/images\/pandas-exported-patient-data-csv.png\" alt=\"folder containing exported patient data csv file\" width=\"600\"\/>"
   ],
   "attachments":{
    
   },
   "metadata":{
    "datalore":{
     "node_id":"wlPVc3oghSuGeaeGimgw8f",
     "type":"MD",
     "hide_input_from_viewers":false,
     "hide_output_from_viewers":false,
     "report_properties":{
      "rowId":"YHgFelBy29KC1eEAHnO3zn"
     }
    }
   }
  },
  {
   "cell_type":"markdown",
   "source":[
    "## 4. Describing data\n",
    "\n",
    "One of the first things you'll want to do after you import some data into a pandas `DataFrame` is to start exploring it.\n",
    "\n",
    "pandas has many built in functions which allow you to quickly get information about a `DataFrame`.\n",
    "\n",
    "Let's explore some using the `car_sales` `DataFrame`."
   ],
   "attachments":{
    
   },
   "metadata":{
    "datalore":{
     "node_id":"TEsW4trhK6H3C7NVfYKWYV",
     "type":"MD",
     "hide_input_from_viewers":false,
     "hide_output_from_viewers":false,
     "report_properties":{
      "rowId":"Pl2CaAkiuFsQWAmtwUJMn6"
     }
    }
   }
  },
  {
   "cell_type":"code",
   "source":[
    "car_sales"
   ],
   "execution_count":15,
   "outputs":[
    {
     "data":{
      "text\/html":[
       "<div>\n",
       "<style scoped>\n",
       "    .dataframe tbody tr th:only-of-type {\n",
       "        vertical-align: middle;\n",
       "    }\n",
       "\n",
       "    .dataframe tbody tr th {\n",
       "        vertical-align: top;\n",
       "    }\n",
       "\n",
       "    .dataframe thead th {\n",
       "        text-align: right;\n",
       "    }\n",
       "<\/style>\n",
       "<table border=\"1\" class=\"dataframe\">\n",
       "  <thead>\n",
       "    <tr style=\"text-align: right;\">\n",
       "      <th><\/th>\n",
       "      <th>Make<\/th>\n",
       "      <th>Colour<\/th>\n",
       "      <th>Odometer (KM)<\/th>\n",
       "      <th>Doors<\/th>\n",
       "      <th>Price<\/th>\n",
       "    <\/tr>\n",
       "  <\/thead>\n",
       "  <tbody>\n",
       "    <tr>\n",
       "      <th>0<\/th>\n",
       "      <td>Toyota<\/td>\n",
       "      <td>White<\/td>\n",
       "      <td>150043<\/td>\n",
       "      <td>4<\/td>\n",
       "      <td>$4,000.00<\/td>\n",
       "    <\/tr>\n",
       "    <tr>\n",
       "      <th>1<\/th>\n",
       "      <td>Honda<\/td>\n",
       "      <td>Red<\/td>\n",
       "      <td>87899<\/td>\n",
       "      <td>4<\/td>\n",
       "      <td>$5,000.00<\/td>\n",
       "    <\/tr>\n",
       "    <tr>\n",
       "      <th>2<\/th>\n",
       "      <td>Toyota<\/td>\n",
       "      <td>Blue<\/td>\n",
       "      <td>32549<\/td>\n",
       "      <td>3<\/td>\n",
       "      <td>$7,000.00<\/td>\n",
       "    <\/tr>\n",
       "    <tr>\n",
       "      <th>3<\/th>\n",
       "      <td>BMW<\/td>\n",
       "      <td>Black<\/td>\n",
       "      <td>11179<\/td>\n",
       "      <td>5<\/td>\n",
       "      <td>$22,000.00<\/td>\n",
       "    <\/tr>\n",
       "    <tr>\n",
       "      <th>4<\/th>\n",
       "      <td>Nissan<\/td>\n",
       "      <td>White<\/td>\n",
       "      <td>213095<\/td>\n",
       "      <td>4<\/td>\n",
       "      <td>$3,500.00<\/td>\n",
       "    <\/tr>\n",
       "    <tr>\n",
       "      <th>5<\/th>\n",
       "      <td>Toyota<\/td>\n",
       "      <td>Green<\/td>\n",
       "      <td>99213<\/td>\n",
       "      <td>4<\/td>\n",
       "      <td>$4,500.00<\/td>\n",
       "    <\/tr>\n",
       "    <tr>\n",
       "      <th>6<\/th>\n",
       "      <td>Honda<\/td>\n",
       "      <td>Blue<\/td>\n",
       "      <td>45698<\/td>\n",
       "      <td>4<\/td>\n",
       "      <td>$7,500.00<\/td>\n",
       "    <\/tr>\n",
       "    <tr>\n",
       "      <th>7<\/th>\n",
       "      <td>Honda<\/td>\n",
       "      <td>Blue<\/td>\n",
       "      <td>54738<\/td>\n",
       "      <td>4<\/td>\n",
       "      <td>$7,000.00<\/td>\n",
       "    <\/tr>\n",
       "    <tr>\n",
       "      <th>8<\/th>\n",
       "      <td>Toyota<\/td>\n",
       "      <td>White<\/td>\n",
       "      <td>60000<\/td>\n",
       "      <td>4<\/td>\n",
       "      <td>$6,250.00<\/td>\n",
       "    <\/tr>\n",
       "    <tr>\n",
       "      <th>9<\/th>\n",
       "      <td>Nissan<\/td>\n",
       "      <td>White<\/td>\n",
       "      <td>31600<\/td>\n",
       "      <td>4<\/td>\n",
       "      <td>$9,700.00<\/td>\n",
       "    <\/tr>\n",
       "  <\/tbody>\n",
       "<\/table>\n",
       "<\/div>"
      ]
     },
     "metadata":{
      
     },
     "output_type":"display_data"
    }
   ],
   "metadata":{
    "datalore":{
     "node_id":"b19VtsTXTY2CY65yGTDNUN",
     "type":"CODE",
     "hide_input_from_viewers":false,
     "hide_output_from_viewers":false,
     "report_properties":{
      "rowId":"zH96UklpAiISsr68kWhPKb"
     }
    }
   }
  },
  {
   "cell_type":"markdown",
   "source":[
    "[`.dtypes`](https:\/\/pandas.pydata.org\/docs\/reference\/api\/pandas.DataFrame.dtypes.html) shows us what datatype each column contains."
   ],
   "attachments":{
    
   },
   "metadata":{
    "datalore":{
     "node_id":"WasL1fcIrCrJR6hcnbVt8D",
     "type":"MD",
     "hide_input_from_viewers":false,
     "hide_output_from_viewers":false,
     "report_properties":{
      "rowId":"D3SIg5wGcKD8mK9OMxMvy8"
     }
    }
   }
  },
  {
   "cell_type":"code",
   "source":[
    "car_sales.dtypes"
   ],
   "execution_count":16,
   "outputs":[
    {
     "data":{
      "text\/html":[
       "<pre>Make             object\n",
       "Colour           object\n",
       "Odometer (KM)     int64\n",
       "Doors             int64\n",
       "Price            object\n",
       "dtype: object<\/pre>"
      ]
     },
     "metadata":{
      
     },
     "output_type":"display_data"
    }
   ],
   "metadata":{
    "datalore":{
     "node_id":"cvxHJAHYdXXh335Nre4xCl",
     "type":"CODE",
     "hide_input_from_viewers":false,
     "hide_output_from_viewers":false,
     "report_properties":{
      "rowId":"gjT6cgotKE3H7S65U0Ff1F"
     }
    }
   }
  },
  {
   "cell_type":"markdown",
   "source":[
    "Notice how the `Price` column isn't an integer like `Odometer` or `Doors`. Don't worry, pandas makes this easy to fix."
   ],
   "attachments":{
    
   },
   "metadata":{
    "datalore":{
     "node_id":"B7AHJucdiUlrOldKfZqpkV",
     "type":"MD",
     "hide_input_from_viewers":false,
     "hide_output_from_viewers":false,
     "report_properties":{
      "rowId":"4RGNYHp4KHrk7LzlhvuaB3"
     }
    }
   }
  },
  {
   "cell_type":"markdown",
   "source":[
    "[`.describe()`](https:\/\/pandas.pydata.org\/docs\/reference\/api\/pandas.DataFrame.describe.html) gives you a quick statistical overview of the numerical columns."
   ],
   "attachments":{
    
   },
   "metadata":{
    "datalore":{
     "node_id":"xGcyPBVQbjjupvyjBIPO6U",
     "type":"MD",
     "hide_input_from_viewers":false,
     "hide_output_from_viewers":false,
     "report_properties":{
      "rowId":"CR5VYKz0y4TYHl73JqjvCZ"
     }
    }
   }
  },
  {
   "cell_type":"code",
   "source":[
    "car_sales.describe()"
   ],
   "execution_count":17,
   "outputs":[
    {
     "data":{
      "text\/html":[
       "<div>\n",
       "<style scoped>\n",
       "    .dataframe tbody tr th:only-of-type {\n",
       "        vertical-align: middle;\n",
       "    }\n",
       "\n",
       "    .dataframe tbody tr th {\n",
       "        vertical-align: top;\n",
       "    }\n",
       "\n",
       "    .dataframe thead th {\n",
       "        text-align: right;\n",
       "    }\n",
       "<\/style>\n",
       "<table border=\"1\" class=\"dataframe\">\n",
       "  <thead>\n",
       "    <tr style=\"text-align: right;\">\n",
       "      <th><\/th>\n",
       "      <th>Odometer (KM)<\/th>\n",
       "      <th>Doors<\/th>\n",
       "    <\/tr>\n",
       "  <\/thead>\n",
       "  <tbody>\n",
       "    <tr>\n",
       "      <th>count<\/th>\n",
       "      <td>10.000000<\/td>\n",
       "      <td>10.000000<\/td>\n",
       "    <\/tr>\n",
       "    <tr>\n",
       "      <th>mean<\/th>\n",
       "      <td>78601.400000<\/td>\n",
       "      <td>4.000000<\/td>\n",
       "    <\/tr>\n",
       "    <tr>\n",
       "      <th>std<\/th>\n",
       "      <td>61983.471735<\/td>\n",
       "      <td>0.471405<\/td>\n",
       "    <\/tr>\n",
       "    <tr>\n",
       "      <th>min<\/th>\n",
       "      <td>11179.000000<\/td>\n",
       "      <td>3.000000<\/td>\n",
       "    <\/tr>\n",
       "    <tr>\n",
       "      <th>25%<\/th>\n",
       "      <td>35836.250000<\/td>\n",
       "      <td>4.000000<\/td>\n",
       "    <\/tr>\n",
       "    <tr>\n",
       "      <th>50%<\/th>\n",
       "      <td>57369.000000<\/td>\n",
       "      <td>4.000000<\/td>\n",
       "    <\/tr>\n",
       "    <tr>\n",
       "      <th>75%<\/th>\n",
       "      <td>96384.500000<\/td>\n",
       "      <td>4.000000<\/td>\n",
       "    <\/tr>\n",
       "    <tr>\n",
       "      <th>max<\/th>\n",
       "      <td>213095.000000<\/td>\n",
       "      <td>5.000000<\/td>\n",
       "    <\/tr>\n",
       "  <\/tbody>\n",
       "<\/table>\n",
       "<\/div>"
      ]
     },
     "metadata":{
      
     },
     "output_type":"display_data"
    }
   ],
   "metadata":{
    "datalore":{
     "node_id":"cN56zYRti7xLT964TyHTLz",
     "type":"CODE",
     "hide_input_from_viewers":false,
     "hide_output_from_viewers":false,
     "report_properties":{
      "rowId":"Yi3ZGCf4CaT6QMFsjC1NFR"
     }
    }
   }
  },
  {
   "cell_type":"markdown",
   "source":[
    "[`.info()`](https:\/\/pandas.pydata.org\/docs\/reference\/api\/pandas.DataFrame.info.html) shows a handful of useful information about a `DataFrame` such as: \n",
    "* How many entries (rows) there are \n",
    "* Whether there are missing values (if a columns non-null value is less than the number of entries, it has missing values)\n",
    "* The datatypes of each column"
   ],
   "attachments":{
    
   },
   "metadata":{
    "datalore":{
     "node_id":"nRclTCqCnWQEUb6rvtjD2I",
     "type":"MD",
     "hide_input_from_viewers":false,
     "hide_output_from_viewers":false,
     "report_properties":{
      "rowId":"jISs1Lu1CLVpmQjUO58XfF"
     }
    }
   }
  },
  {
   "cell_type":"code",
   "source":[
    "car_sales.info()"
   ],
   "execution_count":18,
   "outputs":[
    {
     "name":"stdout",
     "text":[
      "<class 'pandas.core.frame.DataFrame'>\n",
      "RangeIndex: 10 entries, 0 to 9\n",
      "Data columns (total 5 columns):\n",
      " #   Column         Non-Null Count  Dtype \n",
      "---  ------         --------------  ----- \n",
      " 0   Make           10 non-null     object\n",
      " 1   Colour         10 non-null     object\n",
      " 2   Odometer (KM)  10 non-null     int64 \n",
      " 3   Doors          10 non-null     int64 \n",
      " 4   Price          10 non-null     object\n",
      "dtypes: int64(2), object(3)\n",
      "memory usage: 528.0+ bytes\n"
     ],
     "output_type":"stream"
    }
   ],
   "metadata":{
    "datalore":{
     "node_id":"8REjw6xYB12ShOZz3EPx39",
     "type":"CODE",
     "hide_input_from_viewers":false,
     "hide_output_from_viewers":false,
     "report_properties":{
      "rowId":"aYQlgOz1RFRK8glBZ7ftCC"
     }
    }
   }
  },
  {
   "cell_type":"markdown",
   "source":[
    "You can also call various statistical and mathematical methods such as [`.mean()`](https:\/\/pandas.pydata.org\/docs\/reference\/api\/pandas.DataFrame.mean.html) or [`.sum()`](https:\/\/pandas.pydata.org\/docs\/reference\/api\/pandas.DataFrame.sum.html) directly on a `DataFrame` or `Series`."
   ],
   "attachments":{
    
   },
   "metadata":{
    "datalore":{
     "node_id":"k72BLFwwj2qmbLXrTm2ESR",
     "type":"MD",
     "hide_input_from_viewers":false,
     "hide_output_from_viewers":false,
     "report_properties":{
      "rowId":"34AAvR1cPj4Uaz4S05pTTe"
     }
    }
   }
  },
  {
   "cell_type":"code",
   "source":[
    "# Calling .mean() on a DataFrame\n",
    "car_sales.mean(numeric_only=True) # numeric_only = get mean values of numeric columnns only"
   ],
   "execution_count":19,
   "outputs":[
    {
     "data":{
      "text\/html":[
       "<pre>Odometer (KM)    78601.4\n",
       "Doors                4.0\n",
       "dtype: float64<\/pre>"
      ]
     },
     "metadata":{
      
     },
     "output_type":"display_data"
    }
   ],
   "metadata":{
    "datalore":{
     "node_id":"Er73KwZQN9xbfFe4YnJrc8",
     "type":"CODE",
     "hide_input_from_viewers":false,
     "hide_output_from_viewers":false,
     "report_properties":{
      "rowId":"2cowhxevU1o9IMcBrfzffS"
     }
    }
   }
  },
  {
   "cell_type":"code",
   "source":[
    "# Calling .mean() on a Series\n",
    "car_prices = pd.Series([3000, 3500, 11250])\n",
    "car_prices.mean()"
   ],
   "execution_count":20,
   "outputs":[
    {
     "data":{
      "text\/plain":[
       "5916.666666666667"
      ]
     },
     "metadata":{
      
     },
     "output_type":"display_data"
    }
   ],
   "metadata":{
    "datalore":{
     "node_id":"wBogAO3n4Auf5iN6dCAjDS",
     "type":"CODE",
     "hide_input_from_viewers":false,
     "hide_output_from_viewers":false,
     "report_properties":{
      "rowId":"rmE3UCfDoKZn3WPLaBvS6X"
     }
    }
   }
  },
  {
   "cell_type":"code",
   "source":[
    "# Calling .sum() on a DataFrame with numeric_only=False (default)\n",
    "car_sales.sum(numeric_only=False)"
   ],
   "execution_count":21,
   "outputs":[
    {
     "data":{
      "text\/html":[
       "<pre>Make             ToyotaHondaToyotaBMWNissanToyotaHondaHondaToyo...\n",
       "Colour               WhiteRedBlueBlackWhiteGreenBlueBlueWhiteWhite\n",
       "Odometer (KM)                                               786014\n",
       "Doors                                                           40\n",
       "Price            $4,000.00$5,000.00$7,000.00$22,000.00$3,500.00...\n",
       "dtype: object<\/pre>"
      ]
     },
     "metadata":{
      
     },
     "output_type":"display_data"
    }
   ],
   "metadata":{
    "datalore":{
     "node_id":"UEq0Tb6pw9oWRuSspLU7Si",
     "type":"CODE",
     "hide_input_from_viewers":false,
     "hide_output_from_viewers":false,
     "report_properties":{
      "rowId":"bKTmx4YQckVEVsdxJRkpqD"
     }
    }
   }
  },
  {
   "cell_type":"code",
   "source":[
    "# Calling .sum() on a DataFrame with numeric_only=True\n",
    "car_sales.sum(numeric_only=True)"
   ],
   "execution_count":21,
   "outputs":[
    {
     "data":{
      "text\/plain":[
       "Odometer (KM)    786014\n",
       "Doors                40\n",
       "dtype: int64"
      ]
     },
     "metadata":{
      
     },
     "output_type":"display_data"
    }
   ],
   "metadata":{
    "datalore":{
     "node_id":"y4x7lyoojgMeXxbAxKOJ4D",
     "type":"CODE",
     "hide_input_from_viewers":false,
     "hide_output_from_viewers":false,
     "report_properties":{
      "rowId":"sLxa2yc5qLrEO5oqoQ9M9L"
     }
    }
   }
  },
  {
   "cell_type":"code",
   "source":[
    "# Calling .sum() on a Series\n",
    "car_prices.sum()"
   ],
   "execution_count":22,
   "outputs":[
    {
     "data":{
      "text\/plain":[
       "17750"
      ]
     },
     "metadata":{
      
     },
     "output_type":"display_data"
    }
   ],
   "metadata":{
    "datalore":{
     "node_id":"3DOIJvOW6EJSIu9wgSVRdB",
     "type":"CODE",
     "hide_input_from_viewers":false,
     "hide_output_from_viewers":false,
     "report_properties":{
      "rowId":"7NORWVV4lAAwQrM4OJseAJ"
     }
    }
   }
  },
  {
   "cell_type":"markdown",
   "source":[
    "Calling these on a whole `DataFrame` may not be as helpful as targeting an individual column. But it's helpful to know they're there.\n",
    "\n",
    "`.columns` will show you all the columns of a `DataFrame`."
   ],
   "attachments":{
    
   },
   "metadata":{
    "datalore":{
     "node_id":"POajbkiSUtQQzJ9Kx7UBo1",
     "type":"MD",
     "hide_input_from_viewers":false,
     "hide_output_from_viewers":false,
     "report_properties":{
      "rowId":"SkDjGNxexPwuknhuaMz5y8"
     }
    }
   }
  },
  {
   "cell_type":"code",
   "source":[
    "car_sales.columns"
   ],
   "execution_count":22,
   "outputs":[
    {
     "data":{
      "text\/plain":[
       "Index(['Make', 'Colour', 'Odometer (KM)', 'Doors', 'Price'], dtype='object')"
      ]
     },
     "metadata":{
      
     },
     "output_type":"display_data"
    }
   ],
   "metadata":{
    "datalore":{
     "node_id":"4ZM7LicVNXkzUcuWSusYxe",
     "type":"CODE",
     "hide_input_from_viewers":false,
     "hide_output_from_viewers":false,
     "report_properties":{
      "rowId":"LsE3KmoOfqx5qMDPbbRnjQ"
     }
    }
   }
  },
  {
   "cell_type":"markdown",
   "source":[
    "You can save them to a list which you could use later."
   ],
   "attachments":{
    
   },
   "metadata":{
    "datalore":{
     "node_id":"KzMVkMQAud5zykN5zx7gA1",
     "type":"MD",
     "hide_input_from_viewers":false,
     "hide_output_from_viewers":false,
     "report_properties":{
      "rowId":"Y5PfU43PmyIZZ26PS1TPdk"
     }
    }
   }
  },
  {
   "cell_type":"code",
   "source":[
    "# Save car_sales columns to a list \n",
    "car_columns = car_sales.columns\n",
    "car_columns[0]"
   ],
   "execution_count":24,
   "outputs":[
    {
     "data":{
      "text\/plain":[
       "'Make'"
      ]
     },
     "metadata":{
      
     },
     "output_type":"display_data"
    }
   ],
   "metadata":{
    "datalore":{
     "node_id":"y5s13bkKGHjQ1ZdGwZcbkH",
     "type":"CODE",
     "hide_input_from_viewers":false,
     "hide_output_from_viewers":false,
     "report_properties":{
      "rowId":"Bfp1XXuPvl4diAiBIeenPh"
     }
    }
   }
  },
  {
   "cell_type":"markdown",
   "source":[
    "`.index` will show you the values in a `DataFrame`'s index (the column on the far left)."
   ],
   "attachments":{
    
   },
   "metadata":{
    "datalore":{
     "node_id":"H77JcCfWQfpvP9OTtKjtnC",
     "type":"MD",
     "hide_input_from_viewers":false,
     "hide_output_from_viewers":false,
     "report_properties":{
      "rowId":"yksMb26EVGJZ5Oji2I7Jq3"
     }
    }
   }
  },
  {
   "cell_type":"code",
   "source":[
    "car_sales.index"
   ],
   "execution_count":25,
   "outputs":[
    {
     "data":{
      "text\/plain":[
       "RangeIndex(start=0, stop=10, step=1)"
      ]
     },
     "metadata":{
      
     },
     "output_type":"display_data"
    }
   ],
   "metadata":{
    "datalore":{
     "node_id":"xpnZOKaIXpreKIQpB1C8jH",
     "type":"CODE",
     "hide_input_from_viewers":false,
     "hide_output_from_viewers":false,
     "report_properties":{
      "rowId":"waIqQpORWLHoh39PkWUimZ"
     }
    }
   }
  },
  {
   "cell_type":"markdown",
   "source":[
    "pandas `DataFrame`'s, like Python lists, are 0-indexed (unless otherwise changed). This means they start at 0. \n",
    "\n",
    "<img src=\"..\/images\/pandas-dataframe-zero-indexed.png\" alt=\"dataframe with index number 0 highlighted\" width=\"700\"\/>"
   ],
   "attachments":{
    
   },
   "metadata":{
    "datalore":{
     "node_id":"cZscNeB0j5fibcai8Xdg6U",
     "type":"MD",
     "hide_input_from_viewers":false,
     "hide_output_from_viewers":false,
     "report_properties":{
      "rowId":"L7xtd4lpuvPtHrOZWx8gbs"
     }
    }
   }
  },
  {
   "cell_type":"code",
   "source":[
    "# Show the length of a DataFrame\n",
    "len(car_sales)"
   ],
   "execution_count":26,
   "outputs":[
    {
     "data":{
      "text\/plain":[
       "10"
      ]
     },
     "metadata":{
      
     },
     "output_type":"display_data"
    }
   ],
   "metadata":{
    "datalore":{
     "node_id":"NLsO1K02vhZvSqZ1slwNaU",
     "type":"CODE",
     "hide_input_from_viewers":false,
     "hide_output_from_viewers":false,
     "report_properties":{
      "rowId":"5vImzNkcNJy9SaFGApRSbb"
     }
    }
   }
  },
  {
   "cell_type":"markdown",
   "source":[
    "So even though the length of our `car_sales` dataframe is 10, this means the indexes go from 0-9."
   ],
   "attachments":{
    
   },
   "metadata":{
    "datalore":{
     "node_id":"Zxmjv6V1yjrZgdD2OoGucy",
     "type":"MD",
     "hide_input_from_viewers":false,
     "hide_output_from_viewers":false,
     "report_properties":{
      "rowId":"0jlWfuduhRUDxVewHnGzgX"
     }
    }
   }
  },
  {
   "cell_type":"markdown",
   "source":[
    "## 5. Viewing and selecting data\n",
    "\n",
    "Some common methods for viewing and selecting data in a pandas DataFrame include:\n",
    "\n",
    "* [`DataFrame.head(n=5)`](https:\/\/pandas.pydata.org\/docs\/reference\/api\/pandas.DataFrame.head.html) - Displays the first `n` rows of a DataFrame (e.g. `car_sales.head()` will show the first 5 rows of the `car_sales` DataFrame).\n",
    "* [`DataFrame.tail(n=5)`](https:\/\/pandas.pydata.org\/docs\/reference\/api\/pandas.DataFrame.tail.html) - Displays the last `n` rows of a DataFrame.\n",
    "* [`DataFrame.loc[]`](https:\/\/pandas.pydata.org\/docs\/reference\/api\/pandas.DataFrame.loc.html) - Accesses a group of rows and columns by labels or a boolean array.\n",
    "* [`DataFrame.iloc[]`](https:\/\/pandas.pydata.org\/docs\/reference\/api\/pandas.DataFrame.iloc.html) - Accesses a group of rows and columns by integer indices (e.g. `car_sales.iloc[0]` shows all the columns from index `0`.\n",
    "* [`DataFrame.columns`](https:\/\/pandas.pydata.org\/docs\/reference\/api\/pandas.DataFrame.columns.html) -  Lists the column labels of the DataFrame.\n",
    "* `DataFrame['A']` - Selects the column named `'A'` from the DataFrame.\n",
    "* `DataFrame[DataFrame['A'] > 5]` - Boolean indexing filters rows based on column values meeting a condition (e.g. all rows from column `'A'` greater than `5`.\n",
    "* [`DataFrame.plot()`](https:\/\/pandas.pydata.org\/docs\/reference\/api\/pandas.DataFrame.plot.html) - Creates a line plot of a DataFrame's columns (e.g. plot `Make` vs. `Odometer (KM)` columns with `car_sales[[\"Make\", \"Odometer (KM)\"]].plot();`).\n",
    "* [`DataFrame.hist()`](https:\/\/pandas.pydata.org\/docs\/reference\/api\/pandas.DataFrame.hist.html) - Generates histograms for columns in a DataFrame.\n",
    "* [`pandas.crosstab()`](https:\/\/pandas.pydata.org\/docs\/reference\/api\/pandas.crosstab.html) - Computes a cross-tabulation of two or more factors.\n",
    "\n",
    "In practice, you'll constantly be making changes to your data, and viewing it. Changing it, viewing it, changing it, viewing it.\n",
    "\n",
    "You won't always want to change all of the data in your `DataFrame`'s either. So there are just as many different ways to select data as there is to view it.\n",
    "\n",
    "`.head()` allows you to view the first 5 rows of your `DataFrame`. You'll likely be using this one a lot. "
   ],
   "attachments":{
    
   },
   "metadata":{
    "datalore":{
     "node_id":"26sAhY9K4wdxjSpKI8N4Kc",
     "type":"MD",
     "hide_input_from_viewers":false,
     "hide_output_from_viewers":false,
     "report_properties":{
      "rowId":"RGDAWfUdOcJt4LckcGUx7r"
     }
    }
   }
  },
  {
   "cell_type":"code",
   "source":[
    "# Show the first 5 rows of car_sales\n",
    "car_sales.head()"
   ],
   "execution_count":23,
   "outputs":[
    {
     "data":{
      "text\/html":[
       "<div>\n",
       "<style scoped>\n",
       "    .dataframe tbody tr th:only-of-type {\n",
       "        vertical-align: middle;\n",
       "    }\n",
       "\n",
       "    .dataframe tbody tr th {\n",
       "        vertical-align: top;\n",
       "    }\n",
       "\n",
       "    .dataframe thead th {\n",
       "        text-align: right;\n",
       "    }\n",
       "<\/style>\n",
       "<table border=\"1\" class=\"dataframe\">\n",
       "  <thead>\n",
       "    <tr style=\"text-align: right;\">\n",
       "      <th><\/th>\n",
       "      <th>Make<\/th>\n",
       "      <th>Colour<\/th>\n",
       "      <th>Odometer (KM)<\/th>\n",
       "      <th>Doors<\/th>\n",
       "      <th>Price<\/th>\n",
       "    <\/tr>\n",
       "  <\/thead>\n",
       "  <tbody>\n",
       "    <tr>\n",
       "      <th>0<\/th>\n",
       "      <td>Toyota<\/td>\n",
       "      <td>White<\/td>\n",
       "      <td>150043<\/td>\n",
       "      <td>4<\/td>\n",
       "      <td>$4,000.00<\/td>\n",
       "    <\/tr>\n",
       "    <tr>\n",
       "      <th>1<\/th>\n",
       "      <td>Honda<\/td>\n",
       "      <td>Red<\/td>\n",
       "      <td>87899<\/td>\n",
       "      <td>4<\/td>\n",
       "      <td>$5,000.00<\/td>\n",
       "    <\/tr>\n",
       "    <tr>\n",
       "      <th>2<\/th>\n",
       "      <td>Toyota<\/td>\n",
       "      <td>Blue<\/td>\n",
       "      <td>32549<\/td>\n",
       "      <td>3<\/td>\n",
       "      <td>$7,000.00<\/td>\n",
       "    <\/tr>\n",
       "    <tr>\n",
       "      <th>3<\/th>\n",
       "      <td>BMW<\/td>\n",
       "      <td>Black<\/td>\n",
       "      <td>11179<\/td>\n",
       "      <td>5<\/td>\n",
       "      <td>$22,000.00<\/td>\n",
       "    <\/tr>\n",
       "    <tr>\n",
       "      <th>4<\/th>\n",
       "      <td>Nissan<\/td>\n",
       "      <td>White<\/td>\n",
       "      <td>213095<\/td>\n",
       "      <td>4<\/td>\n",
       "      <td>$3,500.00<\/td>\n",
       "    <\/tr>\n",
       "  <\/tbody>\n",
       "<\/table>\n",
       "<\/div>"
      ]
     },
     "metadata":{
      
     },
     "output_type":"display_data"
    }
   ],
   "metadata":{
    "datalore":{
     "node_id":"vaeOwEkUvQzArQi4scXpiS",
     "type":"CODE",
     "hide_input_from_viewers":false,
     "hide_output_from_viewers":false,
     "report_properties":{
      "rowId":"mc9erIByvyJ12vJpfLEklz"
     }
    }
   }
  },
  {
   "cell_type":"markdown",
   "source":[
    "Why 5 rows? Good question. I don't know the answer. But 5 seems like a good amount.\n",
    "\n",
    "Want more than 5?\n",
    "\n",
    "No worries, you can pass `.head()` an integer to display more than or less than 5 rows."
   ],
   "attachments":{
    
   },
   "metadata":{
    "datalore":{
     "node_id":"77PvMVlckg6psVCIA8NYYC",
     "type":"MD",
     "hide_input_from_viewers":false,
     "hide_output_from_viewers":false,
     "report_properties":{
      "rowId":"xBZrnTulzFQc3FPWQvJa2m"
     }
    }
   }
  },
  {
   "cell_type":"code",
   "source":[
    "# Show the first 7 rows of car_sales\n",
    "car_sales.head(7)"
   ],
   "execution_count":25,
   "outputs":[
    {
     "data":{
      "text\/html":[
       "<div>\n",
       "<style scoped>\n",
       "    .dataframe tbody tr th:only-of-type {\n",
       "        vertical-align: middle;\n",
       "    }\n",
       "\n",
       "    .dataframe tbody tr th {\n",
       "        vertical-align: top;\n",
       "    }\n",
       "\n",
       "    .dataframe thead th {\n",
       "        text-align: right;\n",
       "    }\n",
       "<\/style>\n",
       "<table border=\"1\" class=\"dataframe\">\n",
       "  <thead>\n",
       "    <tr style=\"text-align: right;\">\n",
       "      <th><\/th>\n",
       "      <th>Make<\/th>\n",
       "      <th>Colour<\/th>\n",
       "      <th>Odometer (KM)<\/th>\n",
       "      <th>Doors<\/th>\n",
       "      <th>Price<\/th>\n",
       "    <\/tr>\n",
       "  <\/thead>\n",
       "  <tbody>\n",
       "    <tr>\n",
       "      <th>0<\/th>\n",
       "      <td>Toyota<\/td>\n",
       "      <td>White<\/td>\n",
       "      <td>150043<\/td>\n",
       "      <td>4<\/td>\n",
       "      <td>$4,000.00<\/td>\n",
       "    <\/tr>\n",
       "    <tr>\n",
       "      <th>1<\/th>\n",
       "      <td>Honda<\/td>\n",
       "      <td>Red<\/td>\n",
       "      <td>87899<\/td>\n",
       "      <td>4<\/td>\n",
       "      <td>$5,000.00<\/td>\n",
       "    <\/tr>\n",
       "    <tr>\n",
       "      <th>2<\/th>\n",
       "      <td>Toyota<\/td>\n",
       "      <td>Blue<\/td>\n",
       "      <td>32549<\/td>\n",
       "      <td>3<\/td>\n",
       "      <td>$7,000.00<\/td>\n",
       "    <\/tr>\n",
       "    <tr>\n",
       "      <th>3<\/th>\n",
       "      <td>BMW<\/td>\n",
       "      <td>Black<\/td>\n",
       "      <td>11179<\/td>\n",
       "      <td>5<\/td>\n",
       "      <td>$22,000.00<\/td>\n",
       "    <\/tr>\n",
       "    <tr>\n",
       "      <th>4<\/th>\n",
       "      <td>Nissan<\/td>\n",
       "      <td>White<\/td>\n",
       "      <td>213095<\/td>\n",
       "      <td>4<\/td>\n",
       "      <td>$3,500.00<\/td>\n",
       "    <\/tr>\n",
       "    <tr>\n",
       "      <th>5<\/th>\n",
       "      <td>Toyota<\/td>\n",
       "      <td>Green<\/td>\n",
       "      <td>99213<\/td>\n",
       "      <td>4<\/td>\n",
       "      <td>$4,500.00<\/td>\n",
       "    <\/tr>\n",
       "    <tr>\n",
       "      <th>6<\/th>\n",
       "      <td>Honda<\/td>\n",
       "      <td>Blue<\/td>\n",
       "      <td>45698<\/td>\n",
       "      <td>4<\/td>\n",
       "      <td>$7,500.00<\/td>\n",
       "    <\/tr>\n",
       "  <\/tbody>\n",
       "<\/table>\n",
       "<\/div>"
      ]
     },
     "metadata":{
      
     },
     "output_type":"display_data"
    }
   ],
   "metadata":{
    "datalore":{
     "node_id":"KMk1F1MjOoZGaESGIEwqsb",
     "type":"CODE",
     "hide_input_from_viewers":false,
     "hide_output_from_viewers":false,
     "report_properties":{
      "rowId":"5SluC2JwcgVl2eMk5MG9V6"
     }
    }
   }
  },
  {
   "cell_type":"markdown",
   "source":[
    "`.tail()` allows you to see the bottom 5 rows of your `DataFrame`. This is helpful if your changes are influencing the bottom rows of your data."
   ],
   "attachments":{
    
   },
   "metadata":{
    "datalore":{
     "node_id":"45RlZg8WdfvcGNzbQ98pex",
     "type":"MD",
     "hide_input_from_viewers":false,
     "hide_output_from_viewers":false,
     "report_properties":{
      "rowId":"hem6FsBQBRhcLhrVYAevTQ"
     }
    }
   }
  },
  {
   "cell_type":"code",
   "source":[
    "# Show bottom 5 rows of car_sales\n",
    "car_sales.tail()"
   ],
   "execution_count":24,
   "outputs":[
    {
     "data":{
      "text\/html":[
       "<div>\n",
       "<style scoped>\n",
       "    .dataframe tbody tr th:only-of-type {\n",
       "        vertical-align: middle;\n",
       "    }\n",
       "\n",
       "    .dataframe tbody tr th {\n",
       "        vertical-align: top;\n",
       "    }\n",
       "\n",
       "    .dataframe thead th {\n",
       "        text-align: right;\n",
       "    }\n",
       "<\/style>\n",
       "<table border=\"1\" class=\"dataframe\">\n",
       "  <thead>\n",
       "    <tr style=\"text-align: right;\">\n",
       "      <th><\/th>\n",
       "      <th>Make<\/th>\n",
       "      <th>Colour<\/th>\n",
       "      <th>Odometer (KM)<\/th>\n",
       "      <th>Doors<\/th>\n",
       "      <th>Price<\/th>\n",
       "    <\/tr>\n",
       "  <\/thead>\n",
       "  <tbody>\n",
       "    <tr>\n",
       "      <th>5<\/th>\n",
       "      <td>Toyota<\/td>\n",
       "      <td>Green<\/td>\n",
       "      <td>99213<\/td>\n",
       "      <td>4<\/td>\n",
       "      <td>$4,500.00<\/td>\n",
       "    <\/tr>\n",
       "    <tr>\n",
       "      <th>6<\/th>\n",
       "      <td>Honda<\/td>\n",
       "      <td>Blue<\/td>\n",
       "      <td>45698<\/td>\n",
       "      <td>4<\/td>\n",
       "      <td>$7,500.00<\/td>\n",
       "    <\/tr>\n",
       "    <tr>\n",
       "      <th>7<\/th>\n",
       "      <td>Honda<\/td>\n",
       "      <td>Blue<\/td>\n",
       "      <td>54738<\/td>\n",
       "      <td>4<\/td>\n",
       "      <td>$7,000.00<\/td>\n",
       "    <\/tr>\n",
       "    <tr>\n",
       "      <th>8<\/th>\n",
       "      <td>Toyota<\/td>\n",
       "      <td>White<\/td>\n",
       "      <td>60000<\/td>\n",
       "      <td>4<\/td>\n",
       "      <td>$6,250.00<\/td>\n",
       "    <\/tr>\n",
       "    <tr>\n",
       "      <th>9<\/th>\n",
       "      <td>Nissan<\/td>\n",
       "      <td>White<\/td>\n",
       "      <td>31600<\/td>\n",
       "      <td>4<\/td>\n",
       "      <td>$9,700.00<\/td>\n",
       "    <\/tr>\n",
       "  <\/tbody>\n",
       "<\/table>\n",
       "<\/div>"
      ]
     },
     "metadata":{
      
     },
     "output_type":"display_data"
    }
   ],
   "metadata":{
    "datalore":{
     "node_id":"GWxODQXmNYmraV6Bbj4uzG",
     "type":"CODE",
     "hide_input_from_viewers":false,
     "hide_output_from_viewers":false,
     "report_properties":{
      "rowId":"VwRA2EjXCLfCvSxvY1kywB"
     }
    }
   }
  },
  {
   "cell_type":"markdown",
   "source":[
    "You can use `.loc[]` and `.iloc[]` to select data from your `Series` and `DataFrame`'s.\n",
    "\n",
    "Let's see."
   ],
   "attachments":{
    
   },
   "metadata":{
    "datalore":{
     "node_id":"GIoalYy17siWP2vDqcCfsM",
     "type":"MD",
     "hide_input_from_viewers":false,
     "hide_output_from_viewers":false,
     "report_properties":{
      "rowId":"cMnfyhjwKjJq2to8iALN4I"
     }
    }
   }
  },
  {
   "cell_type":"code",
   "source":[
    "# Create a sample series\n",
    "animals = pd.Series(\n",
    "    [\"cat\", \"dog\", \"bird\", \"snake\", \"ox\", \"lion\"], \n",
    "    index=[0, 3, 9, 8, 67, 3],\n",
    ")\n",
    "\n",
    "animals"
   ],
   "execution_count":26,
   "outputs":[
    {
     "data":{
      "text\/html":[
       "<pre>0       cat\n",
       "3       dog\n",
       "9      bird\n",
       "8     snake\n",
       "67       ox\n",
       "3      lion\n",
       "dtype: object<\/pre>"
      ]
     },
     "metadata":{
      
     },
     "output_type":"display_data"
    }
   ],
   "metadata":{
    "datalore":{
     "node_id":"3jTQAMVEaN2NPZXm6fxDVb",
     "type":"CODE",
     "hide_input_from_viewers":false,
     "hide_output_from_viewers":false,
     "report_properties":{
      "rowId":"NANBbKcRxqk37vW4XGQRga"
     }
    }
   }
  },
  {
   "cell_type":"markdown",
   "source":[
    "[`.loc[]`](https:\/\/pandas.pydata.org\/docs\/reference\/api\/pandas.DataFrame.loc.html) takes an integer or label as input. And it chooses from your `Series` or `DataFrame` whichever index matches the number."
   ],
   "attachments":{
    
   },
   "metadata":{
    "datalore":{
     "node_id":"9bq9WOIIWS8U5c2UY5NT06",
     "type":"MD",
     "hide_input_from_viewers":false,
     "hide_output_from_viewers":false,
     "report_properties":{
      "rowId":"7c3K9ul3hgSkTSGqerZmuC"
     }
    }
   }
  },
  {
   "cell_type":"code",
   "source":[
    "# Select all indexes with 3\n",
    "animals.loc[3]"
   ],
   "execution_count":31,
   "outputs":[
    {
     "data":{
      "text\/plain":[
       "3     dog\n",
       "3    lion\n",
       "dtype: object"
      ]
     },
     "metadata":{
      
     },
     "output_type":"display_data"
    }
   ],
   "metadata":{
    "datalore":{
     "node_id":"xL5P2Pv3ounHko13fRUPRD",
     "type":"CODE",
     "hide_input_from_viewers":false,
     "hide_output_from_viewers":false,
     "report_properties":{
      "rowId":"tL94IdmoqYSFxbJlglBmlE"
     }
    }
   }
  },
  {
   "cell_type":"code",
   "source":[
    "# Select index 9\n",
    "animals.loc[9]"
   ],
   "execution_count":32,
   "outputs":[
    {
     "data":{
      "text\/plain":[
       "'bird'"
      ]
     },
     "metadata":{
      
     },
     "output_type":"display_data"
    }
   ],
   "metadata":{
    "datalore":{
     "node_id":"ktxuSrXLvYhUyrJsI2uby0",
     "type":"CODE",
     "hide_input_from_viewers":false,
     "hide_output_from_viewers":false,
     "report_properties":{
      "rowId":"SN7wmsiAV6QSuucao7VHKN"
     }
    }
   }
  },
  {
   "cell_type":"markdown",
   "source":[
    "Let's try with our `car_sales` DataFrame."
   ],
   "attachments":{
    
   },
   "metadata":{
    "datalore":{
     "node_id":"U7XTmwagRAk1QafujgNzul",
     "type":"MD",
     "hide_input_from_viewers":false,
     "hide_output_from_viewers":false,
     "report_properties":{
      "rowId":"3NB3Nmss41dae20wBT92Fn"
     }
    }
   }
  },
  {
   "cell_type":"code",
   "source":[
    "car_sales"
   ],
   "execution_count":33,
   "outputs":[
    {
     "data":{
      "text\/html":[
       "<div>\n",
       "<style scoped>\n",
       "    .dataframe tbody tr th:only-of-type {\n",
       "        vertical-align: middle;\n",
       "    }\n",
       "\n",
       "    .dataframe tbody tr th {\n",
       "        vertical-align: top;\n",
       "    }\n",
       "\n",
       "    .dataframe thead th {\n",
       "        text-align: right;\n",
       "    }\n",
       "<\/style>\n",
       "<table border=\"1\" class=\"dataframe\">\n",
       "  <thead>\n",
       "    <tr style=\"text-align: right;\">\n",
       "      <th><\/th>\n",
       "      <th>Make<\/th>\n",
       "      <th>Colour<\/th>\n",
       "      <th>Odometer (KM)<\/th>\n",
       "      <th>Doors<\/th>\n",
       "      <th>Price<\/th>\n",
       "    <\/tr>\n",
       "  <\/thead>\n",
       "  <tbody>\n",
       "    <tr>\n",
       "      <th>0<\/th>\n",
       "      <td>Toyota<\/td>\n",
       "      <td>White<\/td>\n",
       "      <td>150043<\/td>\n",
       "      <td>4<\/td>\n",
       "      <td>$4,000.00<\/td>\n",
       "    <\/tr>\n",
       "    <tr>\n",
       "      <th>1<\/th>\n",
       "      <td>Honda<\/td>\n",
       "      <td>Red<\/td>\n",
       "      <td>87899<\/td>\n",
       "      <td>4<\/td>\n",
       "      <td>$5,000.00<\/td>\n",
       "    <\/tr>\n",
       "    <tr>\n",
       "      <th>2<\/th>\n",
       "      <td>Toyota<\/td>\n",
       "      <td>Blue<\/td>\n",
       "      <td>32549<\/td>\n",
       "      <td>3<\/td>\n",
       "      <td>$7,000.00<\/td>\n",
       "    <\/tr>\n",
       "    <tr>\n",
       "      <th>3<\/th>\n",
       "      <td>BMW<\/td>\n",
       "      <td>Black<\/td>\n",
       "      <td>11179<\/td>\n",
       "      <td>5<\/td>\n",
       "      <td>$22,000.00<\/td>\n",
       "    <\/tr>\n",
       "    <tr>\n",
       "      <th>4<\/th>\n",
       "      <td>Nissan<\/td>\n",
       "      <td>White<\/td>\n",
       "      <td>213095<\/td>\n",
       "      <td>4<\/td>\n",
       "      <td>$3,500.00<\/td>\n",
       "    <\/tr>\n",
       "    <tr>\n",
       "      <th>5<\/th>\n",
       "      <td>Toyota<\/td>\n",
       "      <td>Green<\/td>\n",
       "      <td>99213<\/td>\n",
       "      <td>4<\/td>\n",
       "      <td>$4,500.00<\/td>\n",
       "    <\/tr>\n",
       "    <tr>\n",
       "      <th>6<\/th>\n",
       "      <td>Honda<\/td>\n",
       "      <td>Blue<\/td>\n",
       "      <td>45698<\/td>\n",
       "      <td>4<\/td>\n",
       "      <td>$7,500.00<\/td>\n",
       "    <\/tr>\n",
       "    <tr>\n",
       "      <th>7<\/th>\n",
       "      <td>Honda<\/td>\n",
       "      <td>Blue<\/td>\n",
       "      <td>54738<\/td>\n",
       "      <td>4<\/td>\n",
       "      <td>$7,000.00<\/td>\n",
       "    <\/tr>\n",
       "    <tr>\n",
       "      <th>8<\/th>\n",
       "      <td>Toyota<\/td>\n",
       "      <td>White<\/td>\n",
       "      <td>60000<\/td>\n",
       "      <td>4<\/td>\n",
       "      <td>$6,250.00<\/td>\n",
       "    <\/tr>\n",
       "    <tr>\n",
       "      <th>9<\/th>\n",
       "      <td>Nissan<\/td>\n",
       "      <td>White<\/td>\n",
       "      <td>31600<\/td>\n",
       "      <td>4<\/td>\n",
       "      <td>$9,700.00<\/td>\n",
       "    <\/tr>\n",
       "  <\/tbody>\n",
       "<\/table>\n",
       "<\/div>"
      ]
     },
     "metadata":{
      
     },
     "output_type":"display_data"
    },
    {
     "data":{
      "text\/plain":[
       "     Make Colour  Odometer (KM)  Doors       Price\n",
       "0  Toyota  White         150043      4   $4,000.00\n",
       "1   Honda    Red          87899      4   $5,000.00\n",
       "2  Toyota   Blue          32549      3   $7,000.00\n",
       "3     BMW  Black          11179      5  $22,000.00\n",
       "4  Nissan  White         213095      4   $3,500.00\n",
       "5  Toyota  Green          99213      4   $4,500.00\n",
       "6   Honda   Blue          45698      4   $7,500.00\n",
       "7   Honda   Blue          54738      4   $7,000.00\n",
       "8  Toyota  White          60000      4   $6,250.00\n",
       "9  Nissan  White          31600      4   $9,700.00"
      ]
     },
     "metadata":{
      
     },
     "output_type":"display_data"
    }
   ],
   "metadata":{
    "datalore":{
     "node_id":"xzrViu3JlbgxzTwuRAsqst",
     "type":"CODE",
     "hide_input_from_viewers":false,
     "hide_output_from_viewers":false,
     "report_properties":{
      "rowId":"1VmR10v174MxU07Qpjl3Sf"
     }
    }
   }
  },
  {
   "cell_type":"code",
   "source":[
    "# Select row at index 3\n",
    "car_sales.loc[3]"
   ],
   "execution_count":34,
   "outputs":[
    {
     "data":{
      "text\/plain":[
       "Make                    BMW\n",
       "Colour                Black\n",
       "Odometer (KM)         11179\n",
       "Doors                     5\n",
       "Price            $22,000.00\n",
       "Name: 3, dtype: object"
      ]
     },
     "metadata":{
      
     },
     "output_type":"display_data"
    }
   ],
   "metadata":{
    "datalore":{
     "node_id":"5Q7s6RpIGRjVprC2jWnQEo",
     "type":"CODE",
     "hide_input_from_viewers":false,
     "hide_output_from_viewers":false,
     "report_properties":{
      "rowId":"o249pmTYruSuC99sqrAM8K"
     }
    }
   }
  },
  {
   "cell_type":"markdown",
   "source":[
    "[`iloc[]`](https:\/\/pandas.pydata.org\/docs\/reference\/api\/pandas.DataFrame.iloc.html) does a similar thing but works with exact positions."
   ],
   "attachments":{
    
   },
   "metadata":{
    "datalore":{
     "node_id":"TyLwuWrXd1BHEVtG7euBGM",
     "type":"MD",
     "hide_input_from_viewers":false,
     "hide_output_from_viewers":false,
     "report_properties":{
      "rowId":"Glmxh3WWVjPxn54fpQvcWv"
     }
    }
   }
  },
  {
   "cell_type":"code",
   "source":[
    "animals"
   ],
   "execution_count":35,
   "outputs":[
    {
     "data":{
      "text\/plain":[
       "0       cat\n",
       "3       dog\n",
       "9      bird\n",
       "8     snake\n",
       "67       ox\n",
       "3      lion\n",
       "dtype: object"
      ]
     },
     "metadata":{
      
     },
     "output_type":"display_data"
    }
   ],
   "metadata":{
    "datalore":{
     "node_id":"QuGzvp4RaM1sfnZ6F2VLQt",
     "type":"CODE",
     "hide_input_from_viewers":false,
     "hide_output_from_viewers":false,
     "report_properties":{
      "rowId":"IybOGBubix7vRqsdPQZecf"
     }
    }
   }
  },
  {
   "cell_type":"code",
   "source":[
    "# Select row at position 3\n",
    "animals.iloc[3]"
   ],
   "execution_count":36,
   "outputs":[
    {
     "data":{
      "text\/plain":[
       "'snake'"
      ]
     },
     "metadata":{
      
     },
     "output_type":"display_data"
    }
   ],
   "metadata":{
    "datalore":{
     "node_id":"LhNdwDb51WibCRjrFrpexx",
     "type":"CODE",
     "hide_input_from_viewers":false,
     "hide_output_from_viewers":false,
     "report_properties":{
      "rowId":"xWWQxb8DcagZSXbZZOg5HY"
     }
    }
   }
  },
  {
   "cell_type":"markdown",
   "source":[
    "Even though `'snake'` appears at index 8 in the series, it's shown using `.iloc[3]` because it's at the 3rd (starting from 0) position.\n",
    "\n",
    "Let's try with the `car_sales` `DataFrame`."
   ],
   "attachments":{
    
   },
   "metadata":{
    "datalore":{
     "node_id":"MXV9wwABMLZTKXpqRNZs9p",
     "type":"MD",
     "hide_input_from_viewers":false,
     "hide_output_from_viewers":false,
     "report_properties":{
      "rowId":"zueTuYOooSnNdQoEd4KTIJ"
     }
    }
   }
  },
  {
   "cell_type":"code",
   "source":[
    "# Select row at position 3\n",
    "car_sales.iloc[3]"
   ],
   "execution_count":37,
   "outputs":[
    {
     "data":{
      "text\/plain":[
       "Make                    BMW\n",
       "Colour                Black\n",
       "Odometer (KM)         11179\n",
       "Doors                     5\n",
       "Price            $22,000.00\n",
       "Name: 3, dtype: object"
      ]
     },
     "metadata":{
      
     },
     "output_type":"display_data"
    }
   ],
   "metadata":{
    "datalore":{
     "node_id":"ZFV0lbaZ6vCWgjP4mzf6rs",
     "type":"CODE",
     "hide_input_from_viewers":false,
     "hide_output_from_viewers":false,
     "report_properties":{
      "rowId":"rno3Qm942JFa9OdrygLKQw"
     }
    }
   }
  },
  {
   "cell_type":"markdown",
   "source":[
    "You can see it's the same as `.loc[]` because the index is in order, position 3 is the same as index 3.\n",
    "\n",
    "You can also use slicing with `.loc[]` and `.iloc[]`."
   ],
   "attachments":{
    
   },
   "metadata":{
    "datalore":{
     "node_id":"WVffp8ty4sw3wMw1k4BMBx",
     "type":"MD",
     "hide_input_from_viewers":false,
     "hide_output_from_viewers":false,
     "report_properties":{
      "rowId":"4PvY54QcyZmKuC2fojhLpL"
     }
    }
   }
  },
  {
   "cell_type":"code",
   "source":[
    "# Get all rows up to position 3\n",
    "animals.iloc[:3]"
   ],
   "execution_count":38,
   "outputs":[
    {
     "data":{
      "text\/plain":[
       "0     cat\n",
       "3     dog\n",
       "9    bird\n",
       "dtype: object"
      ]
     },
     "metadata":{
      
     },
     "output_type":"display_data"
    }
   ],
   "metadata":{
    "datalore":{
     "node_id":"b0kdjdHCK2V1mDOI1kpmHo",
     "type":"CODE",
     "hide_input_from_viewers":false,
     "hide_output_from_viewers":false,
     "report_properties":{
      "rowId":"D7Kv7zDJmAIGhDv5kML56J"
     }
    }
   }
  },
  {
   "cell_type":"code",
   "source":[
    "# Get all rows up to (and including) index 3\n",
    "car_sales.loc[:3]"
   ],
   "execution_count":39,
   "outputs":[
    {
     "data":{
      "text\/html":[
       "<div>\n",
       "<style scoped>\n",
       "    .dataframe tbody tr th:only-of-type {\n",
       "        vertical-align: middle;\n",
       "    }\n",
       "\n",
       "    .dataframe tbody tr th {\n",
       "        vertical-align: top;\n",
       "    }\n",
       "\n",
       "    .dataframe thead th {\n",
       "        text-align: right;\n",
       "    }\n",
       "<\/style>\n",
       "<table border=\"1\" class=\"dataframe\">\n",
       "  <thead>\n",
       "    <tr style=\"text-align: right;\">\n",
       "      <th><\/th>\n",
       "      <th>Make<\/th>\n",
       "      <th>Colour<\/th>\n",
       "      <th>Odometer (KM)<\/th>\n",
       "      <th>Doors<\/th>\n",
       "      <th>Price<\/th>\n",
       "    <\/tr>\n",
       "  <\/thead>\n",
       "  <tbody>\n",
       "    <tr>\n",
       "      <th>0<\/th>\n",
       "      <td>Toyota<\/td>\n",
       "      <td>White<\/td>\n",
       "      <td>150043<\/td>\n",
       "      <td>4<\/td>\n",
       "      <td>$4,000.00<\/td>\n",
       "    <\/tr>\n",
       "    <tr>\n",
       "      <th>1<\/th>\n",
       "      <td>Honda<\/td>\n",
       "      <td>Red<\/td>\n",
       "      <td>87899<\/td>\n",
       "      <td>4<\/td>\n",
       "      <td>$5,000.00<\/td>\n",
       "    <\/tr>\n",
       "    <tr>\n",
       "      <th>2<\/th>\n",
       "      <td>Toyota<\/td>\n",
       "      <td>Blue<\/td>\n",
       "      <td>32549<\/td>\n",
       "      <td>3<\/td>\n",
       "      <td>$7,000.00<\/td>\n",
       "    <\/tr>\n",
       "    <tr>\n",
       "      <th>3<\/th>\n",
       "      <td>BMW<\/td>\n",
       "      <td>Black<\/td>\n",
       "      <td>11179<\/td>\n",
       "      <td>5<\/td>\n",
       "      <td>$22,000.00<\/td>\n",
       "    <\/tr>\n",
       "  <\/tbody>\n",
       "<\/table>\n",
       "<\/div>"
      ]
     },
     "metadata":{
      
     },
     "output_type":"display_data"
    },
    {
     "data":{
      "text\/plain":[
       "     Make Colour  Odometer (KM)  Doors       Price\n",
       "0  Toyota  White         150043      4   $4,000.00\n",
       "1   Honda    Red          87899      4   $5,000.00\n",
       "2  Toyota   Blue          32549      3   $7,000.00\n",
       "3     BMW  Black          11179      5  $22,000.00"
      ]
     },
     "metadata":{
      
     },
     "output_type":"display_data"
    }
   ],
   "metadata":{
    "datalore":{
     "node_id":"KW5xvNVYBEQxMTk4ZflZwf",
     "type":"CODE",
     "hide_input_from_viewers":false,
     "hide_output_from_viewers":false,
     "report_properties":{
      "rowId":"L3QZlyNc7lu1LOFLV26a86"
     }
    }
   }
  },
  {
   "cell_type":"code",
   "source":[
    "# Get all rows of the \"Colour\" column\n",
    "car_sales.loc[:, \"Colour\"] # note: \":\" stands for \"all\", e.g. \"all indices in the first axis\""
   ],
   "execution_count":30,
   "outputs":[
    {
     "data":{
      "text\/html":[
       "<pre>0    White\n",
       "1      Red\n",
       "2     Blue\n",
       "3    Black\n",
       "4    White\n",
       "5    Green\n",
       "6     Blue\n",
       "7     Blue\n",
       "8    White\n",
       "9    White\n",
       "Name: Colour, dtype: object<\/pre>"
      ]
     },
     "metadata":{
      
     },
     "output_type":"display_data"
    }
   ],
   "metadata":{
    "datalore":{
     "node_id":"jdmOcgQ1tmQN7cHWPocdmj",
     "type":"CODE",
     "hide_input_from_viewers":false,
     "hide_output_from_viewers":false,
     "report_properties":{
      "rowId":"uMAB9m9iAcdRCCPzeLDrbq"
     }
    }
   }
  },
  {
   "cell_type":"code",
   "source":[
    "car_sales.loc[:, [\"Colour\", \"Price\"]]"
   ],
   "execution_count":31,
   "outputs":[
    {
     "data":{
      "text\/html":[
       "<div>\n",
       "<style scoped>\n",
       "    .dataframe tbody tr th:only-of-type {\n",
       "        vertical-align: middle;\n",
       "    }\n",
       "\n",
       "    .dataframe tbody tr th {\n",
       "        vertical-align: top;\n",
       "    }\n",
       "\n",
       "    .dataframe thead th {\n",
       "        text-align: right;\n",
       "    }\n",
       "<\/style>\n",
       "<table border=\"1\" class=\"dataframe\">\n",
       "  <thead>\n",
       "    <tr style=\"text-align: right;\">\n",
       "      <th><\/th>\n",
       "      <th>Colour<\/th>\n",
       "      <th>Price<\/th>\n",
       "    <\/tr>\n",
       "  <\/thead>\n",
       "  <tbody>\n",
       "    <tr>\n",
       "      <th>0<\/th>\n",
       "      <td>White<\/td>\n",
       "      <td>$4,000.00<\/td>\n",
       "    <\/tr>\n",
       "    <tr>\n",
       "      <th>1<\/th>\n",
       "      <td>Red<\/td>\n",
       "      <td>$5,000.00<\/td>\n",
       "    <\/tr>\n",
       "    <tr>\n",
       "      <th>2<\/th>\n",
       "      <td>Blue<\/td>\n",
       "      <td>$7,000.00<\/td>\n",
       "    <\/tr>\n",
       "    <tr>\n",
       "      <th>3<\/th>\n",
       "      <td>Black<\/td>\n",
       "      <td>$22,000.00<\/td>\n",
       "    <\/tr>\n",
       "    <tr>\n",
       "      <th>4<\/th>\n",
       "      <td>White<\/td>\n",
       "      <td>$3,500.00<\/td>\n",
       "    <\/tr>\n",
       "    <tr>\n",
       "      <th>5<\/th>\n",
       "      <td>Green<\/td>\n",
       "      <td>$4,500.00<\/td>\n",
       "    <\/tr>\n",
       "    <tr>\n",
       "      <th>6<\/th>\n",
       "      <td>Blue<\/td>\n",
       "      <td>$7,500.00<\/td>\n",
       "    <\/tr>\n",
       "    <tr>\n",
       "      <th>7<\/th>\n",
       "      <td>Blue<\/td>\n",
       "      <td>$7,000.00<\/td>\n",
       "    <\/tr>\n",
       "    <tr>\n",
       "      <th>8<\/th>\n",
       "      <td>White<\/td>\n",
       "      <td>$6,250.00<\/td>\n",
       "    <\/tr>\n",
       "    <tr>\n",
       "      <th>9<\/th>\n",
       "      <td>White<\/td>\n",
       "      <td>$9,700.00<\/td>\n",
       "    <\/tr>\n",
       "  <\/tbody>\n",
       "<\/table>\n",
       "<\/div>"
      ]
     },
     "metadata":{
      
     },
     "output_type":"display_data"
    }
   ],
   "metadata":{
    "datalore":{
     "node_id":"jXxJsKDGWuTffMVK3cCgxc",
     "type":"CODE",
     "hide_input_from_viewers":true,
     "hide_output_from_viewers":true
    }
   }
  },
  {
   "cell_type":"markdown",
   "source":[
    "When should you use `.loc[]` or `.iloc[]`?\n",
    "* Use `.loc[]` when you're selecting rows and columns **based on their lables or a condition** (e.g. retrieving data for specific columns).\n",
    "* Use `.iloc[]` when you're selecting rows and columns **based on their integer index positions** (e.g. extracting the first ten rows regardless of the labels).\n",
    "\n",
    "However, in saying this, it will often take a bit of practice with each of the methods before you figure out which you'd like to use."
   ],
   "attachments":{
    
   },
   "metadata":{
    "datalore":{
     "node_id":"yMf0tgXFBmtKRh2xnZKxg0",
     "type":"MD",
     "hide_input_from_viewers":false,
     "hide_output_from_viewers":false,
     "report_properties":{
      "rowId":"W927GHKwaoL3QxfFlkwyYd"
     }
    }
   }
  },
  {
   "cell_type":"markdown",
   "source":[
    "If you want to select a particular column, you can use `DataFrame.['COLUMN_NAME']`."
   ],
   "attachments":{
    
   },
   "metadata":{
    "datalore":{
     "node_id":"Ab3drgXh97Kajvr09oakND",
     "type":"MD",
     "hide_input_from_viewers":false,
     "hide_output_from_viewers":false,
     "report_properties":{
      "rowId":"kCQv6wEqzb0gaP2tJ9k719"
     }
    }
   }
  },
  {
   "cell_type":"code",
   "source":[
    "# Select Make column\n",
    "car_sales['Make']"
   ],
   "execution_count":32,
   "outputs":[
    {
     "data":{
      "text\/html":[
       "<pre>0    Toyota\n",
       "1     Honda\n",
       "2    Toyota\n",
       "3       BMW\n",
       "4    Nissan\n",
       "5    Toyota\n",
       "6     Honda\n",
       "7     Honda\n",
       "8    Toyota\n",
       "9    Nissan\n",
       "Name: Make, dtype: object<\/pre>"
      ]
     },
     "metadata":{
      
     },
     "output_type":"display_data"
    }
   ],
   "metadata":{
    "datalore":{
     "node_id":"dDm3RQWdiQnwzDQSBQh59v",
     "type":"CODE",
     "hide_input_from_viewers":false,
     "hide_output_from_viewers":false,
     "report_properties":{
      "rowId":"XVBCY0uNmi7j6r9DbuuqSv"
     }
    }
   }
  },
  {
   "cell_type":"code",
   "source":[
    "# Select Colour column\n",
    "car_sales['Colour']"
   ],
   "execution_count":42,
   "outputs":[
    {
     "data":{
      "text\/plain":[
       "0    White\n",
       "1      Red\n",
       "2     Blue\n",
       "3    Black\n",
       "4    White\n",
       "5    Green\n",
       "6     Blue\n",
       "7     Blue\n",
       "8    White\n",
       "9    White\n",
       "Name: Colour, dtype: object"
      ]
     },
     "metadata":{
      
     },
     "output_type":"display_data"
    }
   ],
   "metadata":{
    "datalore":{
     "node_id":"EBNPu2ux0PUV3UCFeWo5GK",
     "type":"CODE",
     "hide_input_from_viewers":false,
     "hide_output_from_viewers":false,
     "report_properties":{
      "rowId":"VFmwgQtbobflk4HL1KVygK"
     }
    }
   }
  },
  {
   "cell_type":"markdown",
   "source":[
    "Boolean indexing works with column selection too. Using it will select the rows which fulfill the condition in the brackets."
   ],
   "attachments":{
    
   },
   "metadata":{
    "datalore":{
     "node_id":"9z536MLFQp4dagFL2x0Y4M",
     "type":"MD",
     "hide_input_from_viewers":false,
     "hide_output_from_viewers":false,
     "report_properties":{
      "rowId":"gbMQBNg88WSpQLdQVCtXch"
     }
    }
   }
  },
  {
   "cell_type":"code",
   "source":[
    "# Select cars with over 100,000 on the Odometer\n",
    "car_sales[car_sales[\"Odometer (KM)\"] > 100_000]"
   ],
   "execution_count":35,
   "outputs":[
    {
     "data":{
      "text\/html":[
       "<div>\n",
       "<style scoped>\n",
       "    .dataframe tbody tr th:only-of-type {\n",
       "        vertical-align: middle;\n",
       "    }\n",
       "\n",
       "    .dataframe tbody tr th {\n",
       "        vertical-align: top;\n",
       "    }\n",
       "\n",
       "    .dataframe thead th {\n",
       "        text-align: right;\n",
       "    }\n",
       "<\/style>\n",
       "<table border=\"1\" class=\"dataframe\">\n",
       "  <thead>\n",
       "    <tr style=\"text-align: right;\">\n",
       "      <th><\/th>\n",
       "      <th>Make<\/th>\n",
       "      <th>Colour<\/th>\n",
       "      <th>Odometer (KM)<\/th>\n",
       "      <th>Doors<\/th>\n",
       "      <th>Price<\/th>\n",
       "    <\/tr>\n",
       "  <\/thead>\n",
       "  <tbody>\n",
       "    <tr>\n",
       "      <th>0<\/th>\n",
       "      <td>Toyota<\/td>\n",
       "      <td>White<\/td>\n",
       "      <td>150043<\/td>\n",
       "      <td>4<\/td>\n",
       "      <td>$4,000.00<\/td>\n",
       "    <\/tr>\n",
       "    <tr>\n",
       "      <th>4<\/th>\n",
       "      <td>Nissan<\/td>\n",
       "      <td>White<\/td>\n",
       "      <td>213095<\/td>\n",
       "      <td>4<\/td>\n",
       "      <td>$3,500.00<\/td>\n",
       "    <\/tr>\n",
       "  <\/tbody>\n",
       "<\/table>\n",
       "<\/div>"
      ]
     },
     "metadata":{
      
     },
     "output_type":"display_data"
    }
   ],
   "metadata":{
    "datalore":{
     "node_id":"FXM6z5ZqHX3hRnTNW9l7S8",
     "type":"CODE",
     "hide_input_from_viewers":false,
     "hide_output_from_viewers":false,
     "report_properties":{
      "rowId":"fSzGYkewNkZnKCemt0Ql1q"
     }
    }
   }
  },
  {
   "cell_type":"code",
   "source":[
    "# Select cars which are made by Toyota\n",
    "car_sales[car_sales[\"Make\"] == \"Toyota\"]"
   ],
   "execution_count":44,
   "outputs":[
    {
     "data":{
      "text\/html":[
       "<div>\n",
       "<style scoped>\n",
       "    .dataframe tbody tr th:only-of-type {\n",
       "        vertical-align: middle;\n",
       "    }\n",
       "\n",
       "    .dataframe tbody tr th {\n",
       "        vertical-align: top;\n",
       "    }\n",
       "\n",
       "    .dataframe thead th {\n",
       "        text-align: right;\n",
       "    }\n",
       "<\/style>\n",
       "<table border=\"1\" class=\"dataframe\">\n",
       "  <thead>\n",
       "    <tr style=\"text-align: right;\">\n",
       "      <th><\/th>\n",
       "      <th>Make<\/th>\n",
       "      <th>Colour<\/th>\n",
       "      <th>Odometer (KM)<\/th>\n",
       "      <th>Doors<\/th>\n",
       "      <th>Price<\/th>\n",
       "    <\/tr>\n",
       "  <\/thead>\n",
       "  <tbody>\n",
       "    <tr>\n",
       "      <th>0<\/th>\n",
       "      <td>Toyota<\/td>\n",
       "      <td>White<\/td>\n",
       "      <td>150043<\/td>\n",
       "      <td>4<\/td>\n",
       "      <td>$4,000.00<\/td>\n",
       "    <\/tr>\n",
       "    <tr>\n",
       "      <th>2<\/th>\n",
       "      <td>Toyota<\/td>\n",
       "      <td>Blue<\/td>\n",
       "      <td>32549<\/td>\n",
       "      <td>3<\/td>\n",
       "      <td>$7,000.00<\/td>\n",
       "    <\/tr>\n",
       "    <tr>\n",
       "      <th>5<\/th>\n",
       "      <td>Toyota<\/td>\n",
       "      <td>Green<\/td>\n",
       "      <td>99213<\/td>\n",
       "      <td>4<\/td>\n",
       "      <td>$4,500.00<\/td>\n",
       "    <\/tr>\n",
       "    <tr>\n",
       "      <th>8<\/th>\n",
       "      <td>Toyota<\/td>\n",
       "      <td>White<\/td>\n",
       "      <td>60000<\/td>\n",
       "      <td>4<\/td>\n",
       "      <td>$6,250.00<\/td>\n",
       "    <\/tr>\n",
       "  <\/tbody>\n",
       "<\/table>\n",
       "<\/div>"
      ]
     },
     "metadata":{
      
     },
     "output_type":"display_data"
    },
    {
     "data":{
      "text\/plain":[
       "     Make Colour  Odometer (KM)  Doors      Price\n",
       "0  Toyota  White         150043      4  $4,000.00\n",
       "2  Toyota   Blue          32549      3  $7,000.00\n",
       "5  Toyota  Green          99213      4  $4,500.00\n",
       "8  Toyota  White          60000      4  $6,250.00"
      ]
     },
     "metadata":{
      
     },
     "output_type":"display_data"
    }
   ],
   "metadata":{
    "datalore":{
     "node_id":"SPYu0aA8IOTGb1wHAFpAl8",
     "type":"CODE",
     "hide_input_from_viewers":false,
     "hide_output_from_viewers":false,
     "report_properties":{
      "rowId":"BAOSyfbaJnkBGZflB2wTyO"
     }
    }
   }
  },
  {
   "cell_type":"markdown",
   "source":[
    "`pd.crosstab()` is a great way to view two different columns together and compare them."
   ],
   "attachments":{
    
   },
   "metadata":{
    "datalore":{
     "node_id":"MK97IJIwTD60DWNM19cnoL",
     "type":"MD",
     "hide_input_from_viewers":false,
     "hide_output_from_viewers":false,
     "report_properties":{
      "rowId":"tzteXCy9U3keHaMD3NU5pA"
     }
    }
   }
  },
  {
   "cell_type":"code",
   "source":[
    "# Compare car Make with number of Doors\n",
    "pd.crosstab(car_sales[\"Make\"], car_sales[\"Doors\"])"
   ],
   "execution_count":45,
   "outputs":[
    {
     "data":{
      "text\/html":[
       "<div>\n",
       "<style scoped>\n",
       "    .dataframe tbody tr th:only-of-type {\n",
       "        vertical-align: middle;\n",
       "    }\n",
       "\n",
       "    .dataframe tbody tr th {\n",
       "        vertical-align: top;\n",
       "    }\n",
       "\n",
       "    .dataframe thead th {\n",
       "        text-align: right;\n",
       "    }\n",
       "<\/style>\n",
       "<table border=\"1\" class=\"dataframe\">\n",
       "  <thead>\n",
       "    <tr style=\"text-align: right;\">\n",
       "      <th>Doors<\/th>\n",
       "      <th>3<\/th>\n",
       "      <th>4<\/th>\n",
       "      <th>5<\/th>\n",
       "    <\/tr>\n",
       "    <tr>\n",
       "      <th>Make<\/th>\n",
       "      <th><\/th>\n",
       "      <th><\/th>\n",
       "      <th><\/th>\n",
       "    <\/tr>\n",
       "  <\/thead>\n",
       "  <tbody>\n",
       "    <tr>\n",
       "      <th>BMW<\/th>\n",
       "      <td>0<\/td>\n",
       "      <td>0<\/td>\n",
       "      <td>1<\/td>\n",
       "    <\/tr>\n",
       "    <tr>\n",
       "      <th>Honda<\/th>\n",
       "      <td>0<\/td>\n",
       "      <td>3<\/td>\n",
       "      <td>0<\/td>\n",
       "    <\/tr>\n",
       "    <tr>\n",
       "      <th>Nissan<\/th>\n",
       "      <td>0<\/td>\n",
       "      <td>2<\/td>\n",
       "      <td>0<\/td>\n",
       "    <\/tr>\n",
       "    <tr>\n",
       "      <th>Toyota<\/th>\n",
       "      <td>1<\/td>\n",
       "      <td>3<\/td>\n",
       "      <td>0<\/td>\n",
       "    <\/tr>\n",
       "  <\/tbody>\n",
       "<\/table>\n",
       "<\/div>"
      ]
     },
     "metadata":{
      
     },
     "output_type":"display_data"
    },
    {
     "data":{
      "text\/plain":[
       "Doors   3  4  5\n",
       "Make           \n",
       "BMW     0  0  1\n",
       "Honda   0  3  0\n",
       "Nissan  0  2  0\n",
       "Toyota  1  3  0"
      ]
     },
     "metadata":{
      
     },
     "output_type":"display_data"
    }
   ],
   "metadata":{
    "datalore":{
     "node_id":"6gCv1FuNgd1OIuI3F3SVEG",
     "type":"CODE",
     "hide_input_from_viewers":false,
     "hide_output_from_viewers":false,
     "report_properties":{
      "rowId":"66C3TMrvx1F4J6EXpQhv5V"
     }
    }
   }
  },
  {
   "cell_type":"markdown",
   "source":[
    "If you want to compare more columns in the context of another column, you can use `.groupby()`."
   ],
   "attachments":{
    
   },
   "metadata":{
    "datalore":{
     "node_id":"EUvYlF8bOjhBtr7OgdlWz4",
     "type":"MD",
     "hide_input_from_viewers":false,
     "hide_output_from_viewers":false,
     "report_properties":{
      "rowId":"7ovDsI8tvW0vtqSPvcsKEJ"
     }
    }
   }
  },
  {
   "cell_type":"code",
   "source":[
    "car_sales"
   ],
   "execution_count":46,
   "outputs":[
    {
     "data":{
      "text\/html":[
       "<div>\n",
       "<style scoped>\n",
       "    .dataframe tbody tr th:only-of-type {\n",
       "        vertical-align: middle;\n",
       "    }\n",
       "\n",
       "    .dataframe tbody tr th {\n",
       "        vertical-align: top;\n",
       "    }\n",
       "\n",
       "    .dataframe thead th {\n",
       "        text-align: right;\n",
       "    }\n",
       "<\/style>\n",
       "<table border=\"1\" class=\"dataframe\">\n",
       "  <thead>\n",
       "    <tr style=\"text-align: right;\">\n",
       "      <th><\/th>\n",
       "      <th>Make<\/th>\n",
       "      <th>Colour<\/th>\n",
       "      <th>Odometer (KM)<\/th>\n",
       "      <th>Doors<\/th>\n",
       "      <th>Price<\/th>\n",
       "    <\/tr>\n",
       "  <\/thead>\n",
       "  <tbody>\n",
       "    <tr>\n",
       "      <th>0<\/th>\n",
       "      <td>Toyota<\/td>\n",
       "      <td>White<\/td>\n",
       "      <td>150043<\/td>\n",
       "      <td>4<\/td>\n",
       "      <td>$4,000.00<\/td>\n",
       "    <\/tr>\n",
       "    <tr>\n",
       "      <th>1<\/th>\n",
       "      <td>Honda<\/td>\n",
       "      <td>Red<\/td>\n",
       "      <td>87899<\/td>\n",
       "      <td>4<\/td>\n",
       "      <td>$5,000.00<\/td>\n",
       "    <\/tr>\n",
       "    <tr>\n",
       "      <th>2<\/th>\n",
       "      <td>Toyota<\/td>\n",
       "      <td>Blue<\/td>\n",
       "      <td>32549<\/td>\n",
       "      <td>3<\/td>\n",
       "      <td>$7,000.00<\/td>\n",
       "    <\/tr>\n",
       "    <tr>\n",
       "      <th>3<\/th>\n",
       "      <td>BMW<\/td>\n",
       "      <td>Black<\/td>\n",
       "      <td>11179<\/td>\n",
       "      <td>5<\/td>\n",
       "      <td>$22,000.00<\/td>\n",
       "    <\/tr>\n",
       "    <tr>\n",
       "      <th>4<\/th>\n",
       "      <td>Nissan<\/td>\n",
       "      <td>White<\/td>\n",
       "      <td>213095<\/td>\n",
       "      <td>4<\/td>\n",
       "      <td>$3,500.00<\/td>\n",
       "    <\/tr>\n",
       "    <tr>\n",
       "      <th>5<\/th>\n",
       "      <td>Toyota<\/td>\n",
       "      <td>Green<\/td>\n",
       "      <td>99213<\/td>\n",
       "      <td>4<\/td>\n",
       "      <td>$4,500.00<\/td>\n",
       "    <\/tr>\n",
       "    <tr>\n",
       "      <th>6<\/th>\n",
       "      <td>Honda<\/td>\n",
       "      <td>Blue<\/td>\n",
       "      <td>45698<\/td>\n",
       "      <td>4<\/td>\n",
       "      <td>$7,500.00<\/td>\n",
       "    <\/tr>\n",
       "    <tr>\n",
       "      <th>7<\/th>\n",
       "      <td>Honda<\/td>\n",
       "      <td>Blue<\/td>\n",
       "      <td>54738<\/td>\n",
       "      <td>4<\/td>\n",
       "      <td>$7,000.00<\/td>\n",
       "    <\/tr>\n",
       "    <tr>\n",
       "      <th>8<\/th>\n",
       "      <td>Toyota<\/td>\n",
       "      <td>White<\/td>\n",
       "      <td>60000<\/td>\n",
       "      <td>4<\/td>\n",
       "      <td>$6,250.00<\/td>\n",
       "    <\/tr>\n",
       "    <tr>\n",
       "      <th>9<\/th>\n",
       "      <td>Nissan<\/td>\n",
       "      <td>White<\/td>\n",
       "      <td>31600<\/td>\n",
       "      <td>4<\/td>\n",
       "      <td>$9,700.00<\/td>\n",
       "    <\/tr>\n",
       "  <\/tbody>\n",
       "<\/table>\n",
       "<\/div>"
      ]
     },
     "metadata":{
      
     },
     "output_type":"display_data"
    },
    {
     "data":{
      "text\/plain":[
       "     Make Colour  Odometer (KM)  Doors       Price\n",
       "0  Toyota  White         150043      4   $4,000.00\n",
       "1   Honda    Red          87899      4   $5,000.00\n",
       "2  Toyota   Blue          32549      3   $7,000.00\n",
       "3     BMW  Black          11179      5  $22,000.00\n",
       "4  Nissan  White         213095      4   $3,500.00\n",
       "5  Toyota  Green          99213      4   $4,500.00\n",
       "6   Honda   Blue          45698      4   $7,500.00\n",
       "7   Honda   Blue          54738      4   $7,000.00\n",
       "8  Toyota  White          60000      4   $6,250.00\n",
       "9  Nissan  White          31600      4   $9,700.00"
      ]
     },
     "metadata":{
      
     },
     "output_type":"display_data"
    }
   ],
   "metadata":{
    "datalore":{
     "node_id":"YiXRiEmWkCb2ydARjwVq2c",
     "type":"CODE",
     "hide_input_from_viewers":false,
     "hide_output_from_viewers":false,
     "report_properties":{
      "rowId":"IaBmmf0wzuPzsJYwxLNxNp"
     }
    }
   }
  },
  {
   "cell_type":"code",
   "source":[
    "# Group by the Make column and find the mean of the other columns \n",
    "car_sales.groupby([\"Make\"]).mean(numeric_only=True)"
   ],
   "execution_count":36,
   "outputs":[
    {
     "data":{
      "text\/html":[
       "<div>\n",
       "<style scoped>\n",
       "    .dataframe tbody tr th:only-of-type {\n",
       "        vertical-align: middle;\n",
       "    }\n",
       "\n",
       "    .dataframe tbody tr th {\n",
       "        vertical-align: top;\n",
       "    }\n",
       "\n",
       "    .dataframe thead th {\n",
       "        text-align: right;\n",
       "    }\n",
       "<\/style>\n",
       "<table border=\"1\" class=\"dataframe\">\n",
       "  <thead>\n",
       "    <tr style=\"text-align: right;\">\n",
       "      <th><\/th>\n",
       "      <th>Odometer (KM)<\/th>\n",
       "      <th>Doors<\/th>\n",
       "    <\/tr>\n",
       "    <tr>\n",
       "      <th>Make<\/th>\n",
       "      <th><\/th>\n",
       "      <th><\/th>\n",
       "    <\/tr>\n",
       "  <\/thead>\n",
       "  <tbody>\n",
       "    <tr>\n",
       "      <th>BMW<\/th>\n",
       "      <td>11179.000000<\/td>\n",
       "      <td>5.00<\/td>\n",
       "    <\/tr>\n",
       "    <tr>\n",
       "      <th>Honda<\/th>\n",
       "      <td>62778.333333<\/td>\n",
       "      <td>4.00<\/td>\n",
       "    <\/tr>\n",
       "    <tr>\n",
       "      <th>Nissan<\/th>\n",
       "      <td>122347.500000<\/td>\n",
       "      <td>4.00<\/td>\n",
       "    <\/tr>\n",
       "    <tr>\n",
       "      <th>Toyota<\/th>\n",
       "      <td>85451.250000<\/td>\n",
       "      <td>3.75<\/td>\n",
       "    <\/tr>\n",
       "  <\/tbody>\n",
       "<\/table>\n",
       "<\/div>"
      ]
     },
     "metadata":{
      
     },
     "output_type":"display_data"
    }
   ],
   "metadata":{
    "datalore":{
     "node_id":"JhZLUyPGCkKrIKZWDMzyY8",
     "type":"CODE",
     "hide_input_from_viewers":false,
     "hide_output_from_viewers":false,
     "report_properties":{
      "rowId":"MvveRa4s8P1zoELjXG0dvI"
     }
    }
   }
  },
  {
   "cell_type":"markdown",
   "source":[
    "pandas even allows for quick plotting of columns so you can see your data visualling. To plot, you'll have to import `matplotlib`. If your plots aren't showing, try running the two lines of code below.\n",
    "\n",
    "`%matplotlib inline` is a special command which tells Jupyter to show your plots. Commands with `%` at the front are called magic commands."
   ],
   "attachments":{
    
   },
   "metadata":{
    "datalore":{
     "node_id":"vVcUCwctbBxwLkrkYwlyz2",
     "type":"MD",
     "hide_input_from_viewers":false,
     "hide_output_from_viewers":false,
     "report_properties":{
      "rowId":"lkO4WBiMBFp328y3zfBerb"
     }
    }
   }
  },
  {
   "cell_type":"code",
   "source":[
    "# Import matplotlib and tell Jupyter to show plots\n",
    "import matplotlib.pyplot as plt\n",
    "%matplotlib inline"
   ],
   "execution_count":39,
   "outputs":[
    
   ],
   "metadata":{
    "datalore":{
     "node_id":"SdjyFQ3jr9imSsfDXPNO9M",
     "type":"CODE",
     "hide_input_from_viewers":false,
     "hide_output_from_viewers":false,
     "report_properties":{
      "rowId":"o2Kz61DQvU0DgrI01vskfK"
     }
    }
   }
  },
  {
   "cell_type":"markdown",
   "source":[
    "You can visualize a column by calling `.plot()` on it."
   ],
   "attachments":{
    
   },
   "metadata":{
    "datalore":{
     "node_id":"QiFg8x5UIBJxABSyJE3F1Y",
     "type":"MD",
     "hide_input_from_viewers":false,
     "hide_output_from_viewers":false,
     "report_properties":{
      "rowId":"AEjV4Hfg5qBy7ivWP0HN9x"
     }
    }
   }
  },
  {
   "cell_type":"code",
   "source":[
    "car_sales[\"Odometer (KM)\"].plot(); # tip: the \";\" on the end prevents matplotlib from outputing the plot class"
   ],
   "execution_count":40,
   "outputs":[
    {
     "data":{
      "image\/png":"[encoded data removed]"
     },
     "metadata":{
      "image\/png":{
       
      }
     },
     "output_type":"display_data"
    }
   ],
   "metadata":{
    "datalore":{
     "node_id":"MzM8aSzWFYHfUQEEyzCVM1",
     "type":"CODE",
     "hide_input_from_viewers":false,
     "hide_output_from_viewers":false,
     "report_properties":{
      "rowId":"eBJrj7803EaHCcikCFt1cO"
     }
    }
   }
  },
  {
   "cell_type":"markdown",
   "source":[
    "Or compare two columns by passing them as `x` and `y` to `plot()`."
   ],
   "attachments":{
    
   },
   "metadata":{
    "datalore":{
     "node_id":"YHWpI1XnmMnS3PgiLY4j1z",
     "type":"MD",
     "hide_input_from_viewers":false,
     "hide_output_from_viewers":false,
     "report_properties":{
      "rowId":"vXIc3rsyajSoIRttkSfljS"
     }
    }
   }
  },
  {
   "cell_type":"code",
   "source":[
    "car_sales.plot(x=\"Make\", y=\"Odometer (KM)\"); "
   ],
   "execution_count":50,
   "outputs":[
    {
     "data":{
      "image\/png":"[encoded data removed]"
     },
     "metadata":{
      "image\/png":{
       
      }
     },
     "output_type":"display_data"
    },
    {
     "data":{
      "text\/plain":[
       "<Figure size 640x480 with 1 Axes>"
      ]
     },
     "metadata":{
      
     },
     "output_type":"display_data"
    }
   ],
   "metadata":{
    "datalore":{
     "node_id":"g955JNO3GuDWCUvwurJCZ8",
     "type":"CODE",
     "hide_input_from_viewers":false,
     "hide_output_from_viewers":false,
     "report_properties":{
      "rowId":"NiAOU2LBgf6WLjDir72ClE"
     }
    }
   }
  },
  {
   "cell_type":"markdown",
   "source":[
    "You can see the distribution of a column by calling `.hist()` on you.\n",
    "\n",
    "The distribution of something is a way of describing the spread of different values."
   ],
   "attachments":{
    
   },
   "metadata":{
    "datalore":{
     "node_id":"6zuHdCpWKNz8NJGn23Ys5v",
     "type":"MD",
     "hide_input_from_viewers":false,
     "hide_output_from_viewers":false,
     "report_properties":{
      "rowId":"b8QK1JCvePsayTwyoyZr7Q"
     }
    }
   }
  },
  {
   "cell_type":"code",
   "source":[
    "car_sales[\"Odometer (KM)\"].hist()"
   ],
   "execution_count":51,
   "outputs":[
    {
     "name":"stdout",
     "text":[
      "\n"
     ],
     "output_type":"stream"
    },
    {
     "name":"stderr",
     "text":[
      "\n"
     ],
     "output_type":"stream"
    },
    {
     "data":{
      "text\/plain":[
       "<AxesSubplot: >"
      ]
     },
     "metadata":{
      
     },
     "output_type":"display_data"
    },
    {
     "data":{
      "image\/png":"[encoded data removed]"
     },
     "metadata":{
      "image\/png":{
       
      }
     },
     "output_type":"display_data"
    },
    {
     "data":{
      "text\/plain":[
       "<Figure size 640x480 with 1 Axes>"
      ]
     },
     "metadata":{
      
     },
     "output_type":"display_data"
    }
   ],
   "metadata":{
    "datalore":{
     "node_id":"sGUBJNfBwzbZ6CZC980fMq",
     "type":"CODE",
     "hide_input_from_viewers":false,
     "hide_output_from_viewers":false,
     "report_properties":{
      "rowId":"h4LIjhJVuoKF79ambRzES2"
     }
    }
   }
  },
  {
   "cell_type":"markdown",
   "source":[
    "In this case, the majority of the **distribution** (spread) of the `\"Odometer (KM)\"` column is more towards the left of the graph. And there are two values which are more to the right. These two values to the right could be considered **outliers** (not part of the majority).\n",
    "\n",
    "Now what if we wanted to plot our `\"Price\"` column?\n",
    "\n",
    "Let's try."
   ],
   "attachments":{
    
   },
   "metadata":{
    "datalore":{
     "node_id":"qSTDFRxmywxap10QkeuxAa",
     "type":"MD",
     "hide_input_from_viewers":false,
     "hide_output_from_viewers":false,
     "report_properties":{
      "rowId":"BuEG77RONh4UTc51kpwfxJ"
     }
    }
   }
  },
  {
   "cell_type":"code",
   "source":[
    "car_sales[\"Price\"].plot()"
   ],
   "execution_count":52,
   "outputs":[
    {
     "ename":"TypeError",
     "evalue":"no numeric data to plot",
     "traceback":[
      "\u001b[0;31m---------------------------------------------------------------------------",
      "Traceback (most recent call last)",
      "no numeric data to plot"
     ],
     "output_type":"error"
    }
   ],
   "metadata":{
    "datalore":{
     "node_id":"18IrvbNGBozTHCw8NiZtMV",
     "type":"CODE",
     "hide_input_from_viewers":false,
     "hide_output_from_viewers":false,
     "report_properties":{
      "rowId":"QIPsSb0U31xw2f9llgIgqC"
     }
    }
   }
  },
  {
   "cell_type":"markdown",
   "source":[
    "Trying to run it leaves us with an error. This is because the `\"Price\"` column of `car_sales` isn't in numeric form. We can tell this because of the `TypeError: no numeric data to plot` at the bottom of the cell.\n",
    "\n",
    "We can check this with `.info()`."
   ],
   "attachments":{
    
   },
   "metadata":{
    "datalore":{
     "node_id":"3jwwXdpPLoENgyST32O30P",
     "type":"MD",
     "hide_input_from_viewers":false,
     "hide_output_from_viewers":false,
     "report_properties":{
      "rowId":"rwQ6b5KcdE0TY0SfZbgns8"
     }
    }
   }
  },
  {
   "cell_type":"code",
   "source":[
    "car_sales.info()"
   ],
   "execution_count":53,
   "outputs":[
    {
     "name":"stdout",
     "text":[
      "<class 'pandas.core.frame.DataFrame'>\n",
      "RangeIndex: 10 entries, 0 to 9\n",
      "Data columns (total 5 columns):\n",
      " #   Column         Non-Null Count  Dtype \n",
      "---  ------         --------------  ----- \n",
      " 0   Make           10 non-null     object\n",
      " 1   Colour         10 non-null     object\n",
      " 2   Odometer (KM)  10 non-null     int64 \n",
      " 3   Doors          10 non-null     int64 \n",
      " 4   Price          10 non-null     object\n",
      "dtypes: int64(2), object(3)\n",
      "memory usage: 528.0+ bytes\n"
     ],
     "output_type":"stream"
    }
   ],
   "metadata":{
    "datalore":{
     "node_id":"JQwWiPqaKRChqA0KFsu5Zk",
     "type":"CODE",
     "hide_input_from_viewers":false,
     "hide_output_from_viewers":false,
     "report_properties":{
      "rowId":"eifiXQr73qI9MdP7y762Wc"
     }
    }
   }
  },
  {
   "cell_type":"markdown",
   "source":[
    "So what can we do?\n",
    "\n",
    "We need to convert the `\"Price\"` column to a numeric type.\n",
    "\n",
    "How?\n",
    "\n",
    "We could try a few different things on our own. But let's practice researching.\n",
    "\n",
    "\n",
    "\n",
    "**1.** Open up a search engine and type in something like \"how to convert a pandas column price to integer\".\n",
    "\n",
    "In the first result, I found this [Stack Overflow question and answer](https:\/\/stackoverflow.com\/questions\/44469313\/price-column-object-to-int-in-pandas) . Where someone has had the same problem as us and someone else has provided an answer.\n",
    "\n",
    "> **Note:** Sometimes the answer you're looking for won't be in the first result, or the 2nd or the 3rd. You may have to combine a few different solutions. Or, if possible, you can try and ask ChatGPT to help you out.\n",
    "\n",
    "**2.** In practice, you'd read through this and see if it relates to your problem. \n",
    "\n",
    "**3.** If it does, you can adjust the code from what's given in the Stack Overflow answer(s) to your own problem.\n",
    "\n",
    "**4.** If you're still stuck, you can try and converse with ChatGPT to help you with your problem (as long as the data\/problem you're working on is okay to share - never share private data with anyone on the internet, including AI chatbots).\n",
    "\n",
    "<img src=\"..\/images\/pandas-steps-in-stack-overflow-process.png\" alt=\"steps in researching a problem you have using Google and Stack Overflow\" width=\"1000\"\/>\n",
    "\n",
    "What's important in the beginning is not to remember every single detail off by heart but to know where to look. Remember, if in doubt, write code, run it, see what happens.\n",
    "\n",
    "Let's copy the answer code here and see how it relates to our problem.\n",
    "\n",
    "Answer code: ```dataframe['amount'] = dataframe['amount'].str.replace('[\\$\\,\\.]', '').astype(int)```\n",
    "\n",
    "There's a lot going on here but what we can do is change the parts which aren't in our problem and keep the rest the same.\n",
    "\n",
    "Our `DataFrame` is called `car_sales` not `dataframe`.\n",
    "\n",
    "```car_sales['amount'] = car_sales['amount'].str.replace('[\\$\\,\\.]', '').astype(int)```\n",
    "\n",
    "And our `'amount'` column is called `\"Price\"`.\n",
    "\n",
    "```car_sales[\"Price\"] = car_sales[\"Price\"].str.replace('[\\$\\,\\.]', '').astype(int)```\n",
    "\n",
    "That looks better. What the code on the right of `car_sales[\"Price\"]` is saying is \"remove the $ sign and comma and change the type of the cell to int\".\n",
    "\n",
    "Let's see what happens."
   ],
   "attachments":{
    
   },
   "metadata":{
    "datalore":{
     "node_id":"2zCKrZyE1Nh56HTSLj5gn2",
     "type":"MD",
     "hide_input_from_viewers":false,
     "hide_output_from_viewers":false,
     "report_properties":{
      "rowId":"WglQUCZ004YLd7ffWkSOHc"
     }
    }
   }
  },
  {
   "cell_type":"code",
   "source":[
    "# Change Price column to integers\n",
    "car_sales[\"Price\"] = car_sales[\"Price\"].str.replace('[\\$\\,\\.]', '', regex=True)\n",
    "car_sales"
   ],
   "execution_count":41,
   "outputs":[
    {
     "data":{
      "text\/html":[
       "<div>\n",
       "<style scoped>\n",
       "    .dataframe tbody tr th:only-of-type {\n",
       "        vertical-align: middle;\n",
       "    }\n",
       "\n",
       "    .dataframe tbody tr th {\n",
       "        vertical-align: top;\n",
       "    }\n",
       "\n",
       "    .dataframe thead th {\n",
       "        text-align: right;\n",
       "    }\n",
       "<\/style>\n",
       "<table border=\"1\" class=\"dataframe\">\n",
       "  <thead>\n",
       "    <tr style=\"text-align: right;\">\n",
       "      <th><\/th>\n",
       "      <th>Make<\/th>\n",
       "      <th>Colour<\/th>\n",
       "      <th>Odometer (KM)<\/th>\n",
       "      <th>Doors<\/th>\n",
       "      <th>Price<\/th>\n",
       "    <\/tr>\n",
       "  <\/thead>\n",
       "  <tbody>\n",
       "    <tr>\n",
       "      <th>0<\/th>\n",
       "      <td>Toyota<\/td>\n",
       "      <td>White<\/td>\n",
       "      <td>150043<\/td>\n",
       "      <td>4<\/td>\n",
       "      <td>400000<\/td>\n",
       "    <\/tr>\n",
       "    <tr>\n",
       "      <th>1<\/th>\n",
       "      <td>Honda<\/td>\n",
       "      <td>Red<\/td>\n",
       "      <td>87899<\/td>\n",
       "      <td>4<\/td>\n",
       "      <td>500000<\/td>\n",
       "    <\/tr>\n",
       "    <tr>\n",
       "      <th>2<\/th>\n",
       "      <td>Toyota<\/td>\n",
       "      <td>Blue<\/td>\n",
       "      <td>32549<\/td>\n",
       "      <td>3<\/td>\n",
       "      <td>700000<\/td>\n",
       "    <\/tr>\n",
       "    <tr>\n",
       "      <th>3<\/th>\n",
       "      <td>BMW<\/td>\n",
       "      <td>Black<\/td>\n",
       "      <td>11179<\/td>\n",
       "      <td>5<\/td>\n",
       "      <td>2200000<\/td>\n",
       "    <\/tr>\n",
       "    <tr>\n",
       "      <th>4<\/th>\n",
       "      <td>Nissan<\/td>\n",
       "      <td>White<\/td>\n",
       "      <td>213095<\/td>\n",
       "      <td>4<\/td>\n",
       "      <td>350000<\/td>\n",
       "    <\/tr>\n",
       "    <tr>\n",
       "      <th>5<\/th>\n",
       "      <td>Toyota<\/td>\n",
       "      <td>Green<\/td>\n",
       "      <td>99213<\/td>\n",
       "      <td>4<\/td>\n",
       "      <td>450000<\/td>\n",
       "    <\/tr>\n",
       "    <tr>\n",
       "      <th>6<\/th>\n",
       "      <td>Honda<\/td>\n",
       "      <td>Blue<\/td>\n",
       "      <td>45698<\/td>\n",
       "      <td>4<\/td>\n",
       "      <td>750000<\/td>\n",
       "    <\/tr>\n",
       "    <tr>\n",
       "      <th>7<\/th>\n",
       "      <td>Honda<\/td>\n",
       "      <td>Blue<\/td>\n",
       "      <td>54738<\/td>\n",
       "      <td>4<\/td>\n",
       "      <td>700000<\/td>\n",
       "    <\/tr>\n",
       "    <tr>\n",
       "      <th>8<\/th>\n",
       "      <td>Toyota<\/td>\n",
       "      <td>White<\/td>\n",
       "      <td>60000<\/td>\n",
       "      <td>4<\/td>\n",
       "      <td>625000<\/td>\n",
       "    <\/tr>\n",
       "    <tr>\n",
       "      <th>9<\/th>\n",
       "      <td>Nissan<\/td>\n",
       "      <td>White<\/td>\n",
       "      <td>31600<\/td>\n",
       "      <td>4<\/td>\n",
       "      <td>970000<\/td>\n",
       "    <\/tr>\n",
       "  <\/tbody>\n",
       "<\/table>\n",
       "<\/div>"
      ]
     },
     "metadata":{
      
     },
     "output_type":"display_data"
    }
   ],
   "metadata":{
    "datalore":{
     "node_id":"50HKUFALrwcdlKKu2KjFsJ",
     "type":"CODE",
     "hide_input_from_viewers":false,
     "hide_output_from_viewers":false,
     "report_properties":{
      "rowId":"vR3FTfCSKvxPav7j6TVe8q"
     }
    }
   }
  },
  {
   "cell_type":"markdown",
   "source":[
    "Cool! but there are extra zeros in the `Price` column.\n",
    "\n",
    "Let's remove it."
   ],
   "attachments":{
    
   },
   "metadata":{
    "datalore":{
     "node_id":"ToaABgBnb0cGsUbg5OeE0h",
     "type":"MD",
     "hide_input_from_viewers":false,
     "hide_output_from_viewers":false,
     "report_properties":{
      "rowId":"qv33HZnFUxdcEjIjh82oPh"
     }
    }
   }
  },
  {
   "cell_type":"code",
   "source":[
    "# Remove extra zeros from the price column\n",
    "car_sales[\"Price\"] = car_sales[\"Price\"].str[:-2].astype(int)"
   ],
   "execution_count":42,
   "outputs":[
    
   ],
   "metadata":{
    "datalore":{
     "node_id":"ToGEScQ8mnMNIMbMHfJn31",
     "type":"CODE",
     "hide_input_from_viewers":false,
     "hide_output_from_viewers":false,
     "report_properties":{
      "rowId":"yFuNKyg8W8paksCfHZxsYb"
     }
    }
   }
  },
  {
   "cell_type":"code",
   "source":[
    "car_sales.dtypes"
   ],
   "execution_count":43,
   "outputs":[
    {
     "data":{
      "text\/html":[
       "<pre>Make             object\n",
       "Colour           object\n",
       "Odometer (KM)     int64\n",
       "Doors             int64\n",
       "Price             int64\n",
       "dtype: object<\/pre>"
      ]
     },
     "metadata":{
      
     },
     "output_type":"display_data"
    }
   ],
   "metadata":{
    "datalore":{
     "node_id":"X0Zp0wAyn159okLaIkMPAY",
     "type":"CODE",
     "hide_input_from_viewers":false,
     "hide_output_from_viewers":false,
     "report_properties":{
      "rowId":"SpQZUvXWt17oFUGjJOeMtE"
     }
    }
   }
  },
  {
   "cell_type":"markdown",
   "source":[
    "Beautiful! Now let's try to plot it agian."
   ],
   "attachments":{
    
   },
   "metadata":{
    "datalore":{
     "node_id":"JmsrYZTi9vTQpMEICZcxhJ",
     "type":"MD",
     "hide_input_from_viewers":false,
     "hide_output_from_viewers":false,
     "report_properties":{
      "rowId":"IXcGnVeXmWhJ99xcYzyAlb"
     }
    }
   }
  },
  {
   "cell_type":"code",
   "source":[
    "car_sales[\"Price\"].plot();"
   ],
   "execution_count":44,
   "outputs":[
    {
     "data":{
      "image\/png":"[encoded data removed]"
     },
     "metadata":{
      "image\/png":{
       
      }
     },
     "output_type":"display_data"
    }
   ],
   "metadata":{
    "datalore":{
     "node_id":"1OPScor8JwhThdKn95Cy3D",
     "type":"CODE",
     "hide_input_from_viewers":false,
     "hide_output_from_viewers":false,
     "report_properties":{
      "rowId":"Ywa8HvA0sbVipJGqdKt6Kq"
     }
    }
   }
  },
  {
   "cell_type":"markdown",
   "source":[
    "This is one of the many ways you can manipulate data using pandas. \n",
    "\n",
    "When you see a number of different functions in a row, it's referred to as **chaining**. This means you add together a series of functions all to do one overall task.\n",
    "\n",
    "Let's see a few more ways of manipulating data."
   ],
   "attachments":{
    
   },
   "metadata":{
    "datalore":{
     "node_id":"NDHMOc8WfzhHprblSeYnbj",
     "type":"MD",
     "hide_input_from_viewers":false,
     "hide_output_from_viewers":false,
     "report_properties":{
      "rowId":"Ji0vwQgpx53ku6Op2ImZuc"
     }
    }
   }
  },
  {
   "cell_type":"markdown",
   "source":[
    "## 6. Manipulating data\n",
    "\n",
    "You've seen an example of one way to manipulate data but pandas has many more. \n",
    "\n",
    "How many more? \n",
    "\n",
    "Put it this way, if you can imagine it, chances are, pandas can do it.\n",
    "\n",
    "Let's start with string methods. Because pandas is based on Python, however you can manipulate strings in Python, you can do the same in pandas.\n",
    "\n",
    "You can access the string value of a column using `.str`. Knowing this, how do you think you'd set a column to lowercase?"
   ],
   "attachments":{
    
   },
   "metadata":{
    "datalore":{
     "node_id":"Ze0k98jIgtGgdpSZJgx6PE",
     "type":"MD",
     "hide_input_from_viewers":false,
     "hide_output_from_viewers":false,
     "report_properties":{
      "rowId":"JVrHzy5L0E3NKVa6SilKmp"
     }
    }
   }
  },
  {
   "cell_type":"code",
   "source":[
    "# Lower the Make column\n",
    "car_sales[\"Make\"].str.lower()"
   ],
   "execution_count":58,
   "outputs":[
    {
     "data":{
      "text\/plain":[
       "0    toyota\n",
       "1     honda\n",
       "2    toyota\n",
       "3       bmw\n",
       "4    nissan\n",
       "5    toyota\n",
       "6     honda\n",
       "7     honda\n",
       "8    toyota\n",
       "9    nissan\n",
       "Name: Make, dtype: object"
      ]
     },
     "metadata":{
      
     },
     "output_type":"display_data"
    }
   ],
   "metadata":{
    "datalore":{
     "node_id":"4kZUSpLh9FkQXgSA98xGKj",
     "type":"CODE",
     "hide_input_from_viewers":false,
     "hide_output_from_viewers":false,
     "report_properties":{
      "rowId":"Qt0IkE7ndyRSEltCgbpRSW"
     }
    }
   }
  },
  {
   "cell_type":"markdown",
   "source":[
    "Notice how it doesn't change the values of the original `car_sales` `DataFrame` unless we set it equal to."
   ],
   "attachments":{
    
   },
   "metadata":{
    "datalore":{
     "node_id":"xIhZCWI21FojJjKydSGlIb",
     "type":"MD",
     "hide_input_from_viewers":false,
     "hide_output_from_viewers":false,
     "report_properties":{
      "rowId":"1eOyeDVRzoPpEPmHKFPxfH"
     }
    }
   }
  },
  {
   "cell_type":"code",
   "source":[
    "# View top 5 rows, Make column not lowered\n",
    "car_sales.head()"
   ],
   "execution_count":59,
   "outputs":[
    {
     "data":{
      "text\/html":[
       "<div>\n",
       "<style scoped>\n",
       "    .dataframe tbody tr th:only-of-type {\n",
       "        vertical-align: middle;\n",
       "    }\n",
       "\n",
       "    .dataframe tbody tr th {\n",
       "        vertical-align: top;\n",
       "    }\n",
       "\n",
       "    .dataframe thead th {\n",
       "        text-align: right;\n",
       "    }\n",
       "<\/style>\n",
       "<table border=\"1\" class=\"dataframe\">\n",
       "  <thead>\n",
       "    <tr style=\"text-align: right;\">\n",
       "      <th><\/th>\n",
       "      <th>Make<\/th>\n",
       "      <th>Colour<\/th>\n",
       "      <th>Odometer (KM)<\/th>\n",
       "      <th>Doors<\/th>\n",
       "      <th>Price<\/th>\n",
       "    <\/tr>\n",
       "  <\/thead>\n",
       "  <tbody>\n",
       "    <tr>\n",
       "      <th>0<\/th>\n",
       "      <td>Toyota<\/td>\n",
       "      <td>White<\/td>\n",
       "      <td>150043<\/td>\n",
       "      <td>4<\/td>\n",
       "      <td>4000<\/td>\n",
       "    <\/tr>\n",
       "    <tr>\n",
       "      <th>1<\/th>\n",
       "      <td>Honda<\/td>\n",
       "      <td>Red<\/td>\n",
       "      <td>87899<\/td>\n",
       "      <td>4<\/td>\n",
       "      <td>5000<\/td>\n",
       "    <\/tr>\n",
       "    <tr>\n",
       "      <th>2<\/th>\n",
       "      <td>Toyota<\/td>\n",
       "      <td>Blue<\/td>\n",
       "      <td>32549<\/td>\n",
       "      <td>3<\/td>\n",
       "      <td>7000<\/td>\n",
       "    <\/tr>\n",
       "    <tr>\n",
       "      <th>3<\/th>\n",
       "      <td>BMW<\/td>\n",
       "      <td>Black<\/td>\n",
       "      <td>11179<\/td>\n",
       "      <td>5<\/td>\n",
       "      <td>22000<\/td>\n",
       "    <\/tr>\n",
       "    <tr>\n",
       "      <th>4<\/th>\n",
       "      <td>Nissan<\/td>\n",
       "      <td>White<\/td>\n",
       "      <td>213095<\/td>\n",
       "      <td>4<\/td>\n",
       "      <td>3500<\/td>\n",
       "    <\/tr>\n",
       "  <\/tbody>\n",
       "<\/table>\n",
       "<\/div>"
      ]
     },
     "metadata":{
      
     },
     "output_type":"display_data"
    },
    {
     "data":{
      "text\/plain":[
       "     Make Colour  Odometer (KM)  Doors  Price\n",
       "0  Toyota  White         150043      4   4000\n",
       "1   Honda    Red          87899      4   5000\n",
       "2  Toyota   Blue          32549      3   7000\n",
       "3     BMW  Black          11179      5  22000\n",
       "4  Nissan  White         213095      4   3500"
      ]
     },
     "metadata":{
      
     },
     "output_type":"display_data"
    }
   ],
   "metadata":{
    "datalore":{
     "node_id":"QA18N9lq2taXGCo4FO7hoq",
     "type":"CODE",
     "hide_input_from_viewers":false,
     "hide_output_from_viewers":false,
     "report_properties":{
      "rowId":"tqnOERqrSqjl4wlfDGJeqv"
     }
    }
   }
  },
  {
   "cell_type":"code",
   "source":[
    "# Set Make column to be lowered\n",
    "car_sales[\"Make\"] = car_sales[\"Make\"].str.lower()\n",
    "car_sales.head()"
   ],
   "execution_count":60,
   "outputs":[
    {
     "data":{
      "text\/html":[
       "<div>\n",
       "<style scoped>\n",
       "    .dataframe tbody tr th:only-of-type {\n",
       "        vertical-align: middle;\n",
       "    }\n",
       "\n",
       "    .dataframe tbody tr th {\n",
       "        vertical-align: top;\n",
       "    }\n",
       "\n",
       "    .dataframe thead th {\n",
       "        text-align: right;\n",
       "    }\n",
       "<\/style>\n",
       "<table border=\"1\" class=\"dataframe\">\n",
       "  <thead>\n",
       "    <tr style=\"text-align: right;\">\n",
       "      <th><\/th>\n",
       "      <th>Make<\/th>\n",
       "      <th>Colour<\/th>\n",
       "      <th>Odometer (KM)<\/th>\n",
       "      <th>Doors<\/th>\n",
       "      <th>Price<\/th>\n",
       "    <\/tr>\n",
       "  <\/thead>\n",
       "  <tbody>\n",
       "    <tr>\n",
       "      <th>0<\/th>\n",
       "      <td>toyota<\/td>\n",
       "      <td>White<\/td>\n",
       "      <td>150043<\/td>\n",
       "      <td>4<\/td>\n",
       "      <td>4000<\/td>\n",
       "    <\/tr>\n",
       "    <tr>\n",
       "      <th>1<\/th>\n",
       "      <td>honda<\/td>\n",
       "      <td>Red<\/td>\n",
       "      <td>87899<\/td>\n",
       "      <td>4<\/td>\n",
       "      <td>5000<\/td>\n",
       "    <\/tr>\n",
       "    <tr>\n",
       "      <th>2<\/th>\n",
       "      <td>toyota<\/td>\n",
       "      <td>Blue<\/td>\n",
       "      <td>32549<\/td>\n",
       "      <td>3<\/td>\n",
       "      <td>7000<\/td>\n",
       "    <\/tr>\n",
       "    <tr>\n",
       "      <th>3<\/th>\n",
       "      <td>bmw<\/td>\n",
       "      <td>Black<\/td>\n",
       "      <td>11179<\/td>\n",
       "      <td>5<\/td>\n",
       "      <td>22000<\/td>\n",
       "    <\/tr>\n",
       "    <tr>\n",
       "      <th>4<\/th>\n",
       "      <td>nissan<\/td>\n",
       "      <td>White<\/td>\n",
       "      <td>213095<\/td>\n",
       "      <td>4<\/td>\n",
       "      <td>3500<\/td>\n",
       "    <\/tr>\n",
       "  <\/tbody>\n",
       "<\/table>\n",
       "<\/div>"
      ]
     },
     "metadata":{
      
     },
     "output_type":"display_data"
    },
    {
     "data":{
      "text\/plain":[
       "     Make Colour  Odometer (KM)  Doors  Price\n",
       "0  toyota  White         150043      4   4000\n",
       "1   honda    Red          87899      4   5000\n",
       "2  toyota   Blue          32549      3   7000\n",
       "3     bmw  Black          11179      5  22000\n",
       "4  nissan  White         213095      4   3500"
      ]
     },
     "metadata":{
      
     },
     "output_type":"display_data"
    }
   ],
   "metadata":{
    "datalore":{
     "node_id":"EnYbLDN3yvOsAUCwo79Tlx",
     "type":"CODE",
     "hide_input_from_viewers":false,
     "hide_output_from_viewers":false,
     "report_properties":{
      "rowId":"wMbplJYxcBLm7HnJQNzlXk"
     }
    }
   }
  },
  {
   "cell_type":"markdown",
   "source":[
    "Reassigning the column changes it in the original `DataFrame`. This trend occurs throughout all kinds of data manipulation with pandas.\n",
    "\n",
    "Some functions have a parameter called `inplace` which means a `DataFrame` is updated in place without having to reassign it.\n",
    "\n",
    "Let's see what it looks like in combination with `.fillna()`, a function which fills missing data. But the thing is, our table isn't missing any data.\n",
    "\n",
    "In practice, it's likely you'll work with datasets which aren't complete. What this means is you'll have to decide whether how to fill the missing data or remove the rows which have data missing.\n",
    "\n",
    "Let's check out what a version of our `car_sales` `DataFrame` might look like with missing values."
   ],
   "attachments":{
    
   },
   "metadata":{
    "datalore":{
     "node_id":"O3guz4CAcbyTb1VeCtzVw4",
     "type":"MD",
     "hide_input_from_viewers":false,
     "hide_output_from_viewers":false,
     "report_properties":{
      "rowId":"pYvqDp5pNgLtrRhKMf61XG"
     }
    }
   }
  },
  {
   "cell_type":"code",
   "source":[
    "# Import car sales data with missing values\n",
    "car_sales_missing = pd.read_csv(\"..\/data\/car-sales-missing-data.csv\")\n",
    "car_sales_missing"
   ],
   "execution_count":61,
   "outputs":[
    {
     "data":{
      "text\/html":[
       "<div>\n",
       "<style scoped>\n",
       "    .dataframe tbody tr th:only-of-type {\n",
       "        vertical-align: middle;\n",
       "    }\n",
       "\n",
       "    .dataframe tbody tr th {\n",
       "        vertical-align: top;\n",
       "    }\n",
       "\n",
       "    .dataframe thead th {\n",
       "        text-align: right;\n",
       "    }\n",
       "<\/style>\n",
       "<table border=\"1\" class=\"dataframe\">\n",
       "  <thead>\n",
       "    <tr style=\"text-align: right;\">\n",
       "      <th><\/th>\n",
       "      <th>Make<\/th>\n",
       "      <th>Colour<\/th>\n",
       "      <th>Odometer<\/th>\n",
       "      <th>Doors<\/th>\n",
       "      <th>Price<\/th>\n",
       "    <\/tr>\n",
       "  <\/thead>\n",
       "  <tbody>\n",
       "    <tr>\n",
       "      <th>0<\/th>\n",
       "      <td>Toyota<\/td>\n",
       "      <td>White<\/td>\n",
       "      <td>150043.0<\/td>\n",
       "      <td>4.0<\/td>\n",
       "      <td>$4,000<\/td>\n",
       "    <\/tr>\n",
       "    <tr>\n",
       "      <th>1<\/th>\n",
       "      <td>Honda<\/td>\n",
       "      <td>Red<\/td>\n",
       "      <td>87899.0<\/td>\n",
       "      <td>4.0<\/td>\n",
       "      <td>$5,000<\/td>\n",
       "    <\/tr>\n",
       "    <tr>\n",
       "      <th>2<\/th>\n",
       "      <td>Toyota<\/td>\n",
       "      <td>Blue<\/td>\n",
       "      <td>NaN<\/td>\n",
       "      <td>3.0<\/td>\n",
       "      <td>$7,000<\/td>\n",
       "    <\/tr>\n",
       "    <tr>\n",
       "      <th>3<\/th>\n",
       "      <td>BMW<\/td>\n",
       "      <td>Black<\/td>\n",
       "      <td>11179.0<\/td>\n",
       "      <td>5.0<\/td>\n",
       "      <td>$22,000<\/td>\n",
       "    <\/tr>\n",
       "    <tr>\n",
       "      <th>4<\/th>\n",
       "      <td>Nissan<\/td>\n",
       "      <td>White<\/td>\n",
       "      <td>213095.0<\/td>\n",
       "      <td>4.0<\/td>\n",
       "      <td>$3,500<\/td>\n",
       "    <\/tr>\n",
       "    <tr>\n",
       "      <th>5<\/th>\n",
       "      <td>Toyota<\/td>\n",
       "      <td>Green<\/td>\n",
       "      <td>NaN<\/td>\n",
       "      <td>4.0<\/td>\n",
       "      <td>$4,500<\/td>\n",
       "    <\/tr>\n",
       "    <tr>\n",
       "      <th>6<\/th>\n",
       "      <td>Honda<\/td>\n",
       "      <td>NaN<\/td>\n",
       "      <td>NaN<\/td>\n",
       "      <td>4.0<\/td>\n",
       "      <td>$7,500<\/td>\n",
       "    <\/tr>\n",
       "    <tr>\n",
       "      <th>7<\/th>\n",
       "      <td>Honda<\/td>\n",
       "      <td>Blue<\/td>\n",
       "      <td>NaN<\/td>\n",
       "      <td>4.0<\/td>\n",
       "      <td>NaN<\/td>\n",
       "    <\/tr>\n",
       "    <tr>\n",
       "      <th>8<\/th>\n",
       "      <td>Toyota<\/td>\n",
       "      <td>White<\/td>\n",
       "      <td>60000.0<\/td>\n",
       "      <td>NaN<\/td>\n",
       "      <td>NaN<\/td>\n",
       "    <\/tr>\n",
       "    <tr>\n",
       "      <th>9<\/th>\n",
       "      <td>NaN<\/td>\n",
       "      <td>White<\/td>\n",
       "      <td>31600.0<\/td>\n",
       "      <td>4.0<\/td>\n",
       "      <td>$9,700<\/td>\n",
       "    <\/tr>\n",
       "  <\/tbody>\n",
       "<\/table>\n",
       "<\/div>"
      ]
     },
     "metadata":{
      
     },
     "output_type":"display_data"
    },
    {
     "data":{
      "text\/plain":[
       "     Make Colour  Odometer  Doors    Price\n",
       "0  Toyota  White  150043.0    4.0   $4,000\n",
       "1   Honda    Red   87899.0    4.0   $5,000\n",
       "2  Toyota   Blue       NaN    3.0   $7,000\n",
       "3     BMW  Black   11179.0    5.0  $22,000\n",
       "4  Nissan  White  213095.0    4.0   $3,500\n",
       "5  Toyota  Green       NaN    4.0   $4,500\n",
       "6   Honda    NaN       NaN    4.0   $7,500\n",
       "7   Honda   Blue       NaN    4.0      NaN\n",
       "8  Toyota  White   60000.0    NaN      NaN\n",
       "9     NaN  White   31600.0    4.0   $9,700"
      ]
     },
     "metadata":{
      
     },
     "output_type":"display_data"
    }
   ],
   "metadata":{
    "datalore":{
     "node_id":"hFwnb0XCIbj1tDlfIxf0ul",
     "type":"CODE",
     "hide_input_from_viewers":false,
     "hide_output_from_viewers":false,
     "report_properties":{
      "rowId":"Yn6TuGa8eAM7PVgN4wNFUe"
     }
    }
   }
  },
  {
   "cell_type":"markdown",
   "source":[
    "Missing values are shown by `NaN` in pandas. This can be considered the equivalent of `None` in Python.\n",
    "\n",
    "Let's use the [`.fillna()`](https:\/\/pandas.pydata.org\/docs\/reference\/api\/pandas.DataFrame.fillna.html) function to fill the `Odometer` column with the average of the other values in the same column.\n",
    "\n",
    "We'll do it with and without `inplace`."
   ],
   "attachments":{
    
   },
   "metadata":{
    "datalore":{
     "node_id":"idGKfZALBUnsQoePNp9BsR",
     "type":"MD",
     "hide_input_from_viewers":false,
     "hide_output_from_viewers":false,
     "report_properties":{
      "rowId":"L8KCfcO3Iu6hPtfYNN5YA2"
     }
    }
   }
  },
  {
   "cell_type":"code",
   "source":[
    "# Fill Odometer column missing values with mean\n",
    "car_sales_missing[\"Odometer\"].fillna(car_sales_missing[\"Odometer\"].mean(), \n",
    "                                     inplace=False) # inplace is set to False by default "
   ],
   "execution_count":62,
   "outputs":[
    {
     "data":{
      "text\/plain":[
       "0    150043.000000\n",
       "1     87899.000000\n",
       "2     92302.666667\n",
       "3     11179.000000\n",
       "4    213095.000000\n",
       "5     92302.666667\n",
       "6     92302.666667\n",
       "7     92302.666667\n",
       "8     60000.000000\n",
       "9     31600.000000\n",
       "Name: Odometer, dtype: float64"
      ]
     },
     "metadata":{
      
     },
     "output_type":"display_data"
    }
   ],
   "metadata":{
    "datalore":{
     "node_id":"wNwniA7jKT4hxCUx0yviye",
     "type":"CODE",
     "hide_input_from_viewers":false,
     "hide_output_from_viewers":false,
     "report_properties":{
      "rowId":"Qxe2NRS2ZDrfhlFEv1UjFW"
     }
    }
   }
  },
  {
   "cell_type":"markdown",
   "source":[
    "Now let's check the original `car_sales_missing` `DataFrame`."
   ],
   "attachments":{
    
   },
   "metadata":{
    "datalore":{
     "node_id":"b4R6I3epcSd73FNS8zb1nD",
     "type":"MD",
     "hide_input_from_viewers":false,
     "hide_output_from_viewers":false,
     "report_properties":{
      "rowId":"A9SJlNkIZ4dMXViJlorn2g"
     }
    }
   }
  },
  {
   "cell_type":"code",
   "source":[
    "car_sales_missing"
   ],
   "execution_count":63,
   "outputs":[
    {
     "data":{
      "text\/html":[
       "<div>\n",
       "<style scoped>\n",
       "    .dataframe tbody tr th:only-of-type {\n",
       "        vertical-align: middle;\n",
       "    }\n",
       "\n",
       "    .dataframe tbody tr th {\n",
       "        vertical-align: top;\n",
       "    }\n",
       "\n",
       "    .dataframe thead th {\n",
       "        text-align: right;\n",
       "    }\n",
       "<\/style>\n",
       "<table border=\"1\" class=\"dataframe\">\n",
       "  <thead>\n",
       "    <tr style=\"text-align: right;\">\n",
       "      <th><\/th>\n",
       "      <th>Make<\/th>\n",
       "      <th>Colour<\/th>\n",
       "      <th>Odometer<\/th>\n",
       "      <th>Doors<\/th>\n",
       "      <th>Price<\/th>\n",
       "    <\/tr>\n",
       "  <\/thead>\n",
       "  <tbody>\n",
       "    <tr>\n",
       "      <th>0<\/th>\n",
       "      <td>Toyota<\/td>\n",
       "      <td>White<\/td>\n",
       "      <td>150043.0<\/td>\n",
       "      <td>4.0<\/td>\n",
       "      <td>$4,000<\/td>\n",
       "    <\/tr>\n",
       "    <tr>\n",
       "      <th>1<\/th>\n",
       "      <td>Honda<\/td>\n",
       "      <td>Red<\/td>\n",
       "      <td>87899.0<\/td>\n",
       "      <td>4.0<\/td>\n",
       "      <td>$5,000<\/td>\n",
       "    <\/tr>\n",
       "    <tr>\n",
       "      <th>2<\/th>\n",
       "      <td>Toyota<\/td>\n",
       "      <td>Blue<\/td>\n",
       "      <td>NaN<\/td>\n",
       "      <td>3.0<\/td>\n",
       "      <td>$7,000<\/td>\n",
       "    <\/tr>\n",
       "    <tr>\n",
       "      <th>3<\/th>\n",
       "      <td>BMW<\/td>\n",
       "      <td>Black<\/td>\n",
       "      <td>11179.0<\/td>\n",
       "      <td>5.0<\/td>\n",
       "      <td>$22,000<\/td>\n",
       "    <\/tr>\n",
       "    <tr>\n",
       "      <th>4<\/th>\n",
       "      <td>Nissan<\/td>\n",
       "      <td>White<\/td>\n",
       "      <td>213095.0<\/td>\n",
       "      <td>4.0<\/td>\n",
       "      <td>$3,500<\/td>\n",
       "    <\/tr>\n",
       "    <tr>\n",
       "      <th>5<\/th>\n",
       "      <td>Toyota<\/td>\n",
       "      <td>Green<\/td>\n",
       "      <td>NaN<\/td>\n",
       "      <td>4.0<\/td>\n",
       "      <td>$4,500<\/td>\n",
       "    <\/tr>\n",
       "    <tr>\n",
       "      <th>6<\/th>\n",
       "      <td>Honda<\/td>\n",
       "      <td>NaN<\/td>\n",
       "      <td>NaN<\/td>\n",
       "      <td>4.0<\/td>\n",
       "      <td>$7,500<\/td>\n",
       "    <\/tr>\n",
       "    <tr>\n",
       "      <th>7<\/th>\n",
       "      <td>Honda<\/td>\n",
       "      <td>Blue<\/td>\n",
       "      <td>NaN<\/td>\n",
       "      <td>4.0<\/td>\n",
       "      <td>NaN<\/td>\n",
       "    <\/tr>\n",
       "    <tr>\n",
       "      <th>8<\/th>\n",
       "      <td>Toyota<\/td>\n",
       "      <td>White<\/td>\n",
       "      <td>60000.0<\/td>\n",
       "      <td>NaN<\/td>\n",
       "      <td>NaN<\/td>\n",
       "    <\/tr>\n",
       "    <tr>\n",
       "      <th>9<\/th>\n",
       "      <td>NaN<\/td>\n",
       "      <td>White<\/td>\n",
       "      <td>31600.0<\/td>\n",
       "      <td>4.0<\/td>\n",
       "      <td>$9,700<\/td>\n",
       "    <\/tr>\n",
       "  <\/tbody>\n",
       "<\/table>\n",
       "<\/div>"
      ]
     },
     "metadata":{
      
     },
     "output_type":"display_data"
    },
    {
     "data":{
      "text\/plain":[
       "     Make Colour  Odometer  Doors    Price\n",
       "0  Toyota  White  150043.0    4.0   $4,000\n",
       "1   Honda    Red   87899.0    4.0   $5,000\n",
       "2  Toyota   Blue       NaN    3.0   $7,000\n",
       "3     BMW  Black   11179.0    5.0  $22,000\n",
       "4  Nissan  White  213095.0    4.0   $3,500\n",
       "5  Toyota  Green       NaN    4.0   $4,500\n",
       "6   Honda    NaN       NaN    4.0   $7,500\n",
       "7   Honda   Blue       NaN    4.0      NaN\n",
       "8  Toyota  White   60000.0    NaN      NaN\n",
       "9     NaN  White   31600.0    4.0   $9,700"
      ]
     },
     "metadata":{
      
     },
     "output_type":"display_data"
    }
   ],
   "metadata":{
    "datalore":{
     "node_id":"H7CNNYfxwBzscwd9b6fVYC",
     "type":"CODE",
     "hide_input_from_viewers":false,
     "hide_output_from_viewers":false,
     "report_properties":{
      "rowId":"UYliqJtBnvXt6jzklbgtSU"
     }
    }
   }
  },
  {
   "cell_type":"markdown",
   "source":[
    "Because `inplace` is set to `False` (default), there's still missing values in the `\"Odometer\"` column. Let's try setting `inplace` to `True`."
   ],
   "attachments":{
    
   },
   "metadata":{
    "datalore":{
     "node_id":"lTLeSpmQiYxv8OAwmCHHWA",
     "type":"MD",
     "hide_input_from_viewers":false,
     "hide_output_from_viewers":false,
     "report_properties":{
      "rowId":"Ncq4sa0Qasr28Q35VnjnYA"
     }
    }
   }
  },
  {
   "cell_type":"code",
   "source":[
    "# Fill the Odometer missing values to the mean with inplace=True\n",
    "car_sales_missing[\"Odometer\"].fillna(car_sales_missing[\"Odometer\"].mean(),\n",
    "                                     inplace=True)"
   ],
   "execution_count":null,
   "outputs":[
    
   ],
   "metadata":{
    "datalore":{
     "node_id":"zMQhByUbKkjlbSEjpb2qUT",
     "type":"CODE",
     "hide_input_from_viewers":false,
     "hide_output_from_viewers":false,
     "report_properties":{
      "rowId":"zYc2MFCEM0AgKJwub7g4HG"
     }
    }
   }
  },
  {
   "cell_type":"markdown",
   "source":[
    "Now let's check the `car_sales_missing` `DataFrame` again."
   ],
   "attachments":{
    
   },
   "metadata":{
    "datalore":{
     "node_id":"rx3bXIn7IM4YqlGg9VqEBN",
     "type":"MD",
     "hide_input_from_viewers":false,
     "hide_output_from_viewers":false,
     "report_properties":{
      "rowId":"I5XaBXIXDadyEpTdofl7bX"
     }
    }
   }
  },
  {
   "cell_type":"code",
   "source":[
    "car_sales_missing"
   ],
   "execution_count":65,
   "outputs":[
    {
     "data":{
      "text\/html":[
       "<div>\n",
       "<style scoped>\n",
       "    .dataframe tbody tr th:only-of-type {\n",
       "        vertical-align: middle;\n",
       "    }\n",
       "\n",
       "    .dataframe tbody tr th {\n",
       "        vertical-align: top;\n",
       "    }\n",
       "\n",
       "    .dataframe thead th {\n",
       "        text-align: right;\n",
       "    }\n",
       "<\/style>\n",
       "<table border=\"1\" class=\"dataframe\">\n",
       "  <thead>\n",
       "    <tr style=\"text-align: right;\">\n",
       "      <th><\/th>\n",
       "      <th>Make<\/th>\n",
       "      <th>Colour<\/th>\n",
       "      <th>Odometer<\/th>\n",
       "      <th>Doors<\/th>\n",
       "      <th>Price<\/th>\n",
       "    <\/tr>\n",
       "  <\/thead>\n",
       "  <tbody>\n",
       "    <tr>\n",
       "      <th>0<\/th>\n",
       "      <td>Toyota<\/td>\n",
       "      <td>White<\/td>\n",
       "      <td>150043.000000<\/td>\n",
       "      <td>4.0<\/td>\n",
       "      <td>$4,000<\/td>\n",
       "    <\/tr>\n",
       "    <tr>\n",
       "      <th>1<\/th>\n",
       "      <td>Honda<\/td>\n",
       "      <td>Red<\/td>\n",
       "      <td>87899.000000<\/td>\n",
       "      <td>4.0<\/td>\n",
       "      <td>$5,000<\/td>\n",
       "    <\/tr>\n",
       "    <tr>\n",
       "      <th>2<\/th>\n",
       "      <td>Toyota<\/td>\n",
       "      <td>Blue<\/td>\n",
       "      <td>92302.666667<\/td>\n",
       "      <td>3.0<\/td>\n",
       "      <td>$7,000<\/td>\n",
       "    <\/tr>\n",
       "    <tr>\n",
       "      <th>3<\/th>\n",
       "      <td>BMW<\/td>\n",
       "      <td>Black<\/td>\n",
       "      <td>11179.000000<\/td>\n",
       "      <td>5.0<\/td>\n",
       "      <td>$22,000<\/td>\n",
       "    <\/tr>\n",
       "    <tr>\n",
       "      <th>4<\/th>\n",
       "      <td>Nissan<\/td>\n",
       "      <td>White<\/td>\n",
       "      <td>213095.000000<\/td>\n",
       "      <td>4.0<\/td>\n",
       "      <td>$3,500<\/td>\n",
       "    <\/tr>\n",
       "    <tr>\n",
       "      <th>5<\/th>\n",
       "      <td>Toyota<\/td>\n",
       "      <td>Green<\/td>\n",
       "      <td>92302.666667<\/td>\n",
       "      <td>4.0<\/td>\n",
       "      <td>$4,500<\/td>\n",
       "    <\/tr>\n",
       "    <tr>\n",
       "      <th>6<\/th>\n",
       "      <td>Honda<\/td>\n",
       "      <td>NaN<\/td>\n",
       "      <td>92302.666667<\/td>\n",
       "      <td>4.0<\/td>\n",
       "      <td>$7,500<\/td>\n",
       "    <\/tr>\n",
       "    <tr>\n",
       "      <th>7<\/th>\n",
       "      <td>Honda<\/td>\n",
       "      <td>Blue<\/td>\n",
       "      <td>92302.666667<\/td>\n",
       "      <td>4.0<\/td>\n",
       "      <td>NaN<\/td>\n",
       "    <\/tr>\n",
       "    <tr>\n",
       "      <th>8<\/th>\n",
       "      <td>Toyota<\/td>\n",
       "      <td>White<\/td>\n",
       "      <td>60000.000000<\/td>\n",
       "      <td>NaN<\/td>\n",
       "      <td>NaN<\/td>\n",
       "    <\/tr>\n",
       "    <tr>\n",
       "      <th>9<\/th>\n",
       "      <td>NaN<\/td>\n",
       "      <td>White<\/td>\n",
       "      <td>31600.000000<\/td>\n",
       "      <td>4.0<\/td>\n",
       "      <td>$9,700<\/td>\n",
       "    <\/tr>\n",
       "  <\/tbody>\n",
       "<\/table>\n",
       "<\/div>"
      ]
     },
     "metadata":{
      
     },
     "output_type":"display_data"
    },
    {
     "data":{
      "text\/plain":[
       "     Make Colour       Odometer  Doors    Price\n",
       "0  Toyota  White  150043.000000    4.0   $4,000\n",
       "1   Honda    Red   87899.000000    4.0   $5,000\n",
       "2  Toyota   Blue   92302.666667    3.0   $7,000\n",
       "3     BMW  Black   11179.000000    5.0  $22,000\n",
       "4  Nissan  White  213095.000000    4.0   $3,500\n",
       "5  Toyota  Green   92302.666667    4.0   $4,500\n",
       "6   Honda    NaN   92302.666667    4.0   $7,500\n",
       "7   Honda   Blue   92302.666667    4.0      NaN\n",
       "8  Toyota  White   60000.000000    NaN      NaN\n",
       "9     NaN  White   31600.000000    4.0   $9,700"
      ]
     },
     "metadata":{
      
     },
     "output_type":"display_data"
    }
   ],
   "metadata":{
    "datalore":{
     "node_id":"Tbh2i6vu2fMuxlM3Zpi8Ky",
     "type":"CODE",
     "hide_input_from_viewers":false,
     "hide_output_from_viewers":false,
     "report_properties":{
      "rowId":"svpHlzbWTl0tSAQ22wibDw"
     }
    }
   }
  },
  {
   "cell_type":"markdown",
   "source":[
    "The missing values in the `Odometer` column have been filled with the mean value of the same column.\n",
    "\n",
    "In practice, you might not want to fill a column's missing values with the mean, but this example was to show the difference between `inplace=False` (default) and `inplace=True`.\n",
    "\n",
    "Whichever you choose to use will depend on how you structure your code. \n",
    "\n",
    "All you have to remember is `inplace=False` returns a copy of the `DataFrame` you're working with.\n",
    "\n",
    "This is helpful if you want to make a duplicate of your current `DataFrame` and save it to another variable.\n",
    "\n",
    "Where as, `inplace=True` makes all the changes directly to the target `DataFrame`. \n",
    "\n",
    "We've filled some values but there's still missing values in `car_sales_missing`. Let's say you wanted to remove any rows which had missing data and only work with rows which had complete coverage.\n",
    "\n",
    "You can do this using [`.dropna()`](https:\/\/pandas.pydata.org\/docs\/reference\/api\/pandas.DataFrame.dropna.html)."
   ],
   "attachments":{
    
   },
   "metadata":{
    "datalore":{
     "node_id":"Lg31bwodNCrDNz6ZThkchM",
     "type":"MD",
     "hide_input_from_viewers":false,
     "hide_output_from_viewers":false,
     "report_properties":{
      "rowId":"cGXlXvIH8FRRxhm0Iu2S9V"
     }
    }
   }
  },
  {
   "cell_type":"code",
   "source":[
    "# Remove missing data\n",
    "car_sales_missing.dropna()"
   ],
   "execution_count":66,
   "outputs":[
    {
     "data":{
      "text\/html":[
       "<div>\n",
       "<style scoped>\n",
       "    .dataframe tbody tr th:only-of-type {\n",
       "        vertical-align: middle;\n",
       "    }\n",
       "\n",
       "    .dataframe tbody tr th {\n",
       "        vertical-align: top;\n",
       "    }\n",
       "\n",
       "    .dataframe thead th {\n",
       "        text-align: right;\n",
       "    }\n",
       "<\/style>\n",
       "<table border=\"1\" class=\"dataframe\">\n",
       "  <thead>\n",
       "    <tr style=\"text-align: right;\">\n",
       "      <th><\/th>\n",
       "      <th>Make<\/th>\n",
       "      <th>Colour<\/th>\n",
       "      <th>Odometer<\/th>\n",
       "      <th>Doors<\/th>\n",
       "      <th>Price<\/th>\n",
       "    <\/tr>\n",
       "  <\/thead>\n",
       "  <tbody>\n",
       "    <tr>\n",
       "      <th>0<\/th>\n",
       "      <td>Toyota<\/td>\n",
       "      <td>White<\/td>\n",
       "      <td>150043.000000<\/td>\n",
       "      <td>4.0<\/td>\n",
       "      <td>$4,000<\/td>\n",
       "    <\/tr>\n",
       "    <tr>\n",
       "      <th>1<\/th>\n",
       "      <td>Honda<\/td>\n",
       "      <td>Red<\/td>\n",
       "      <td>87899.000000<\/td>\n",
       "      <td>4.0<\/td>\n",
       "      <td>$5,000<\/td>\n",
       "    <\/tr>\n",
       "    <tr>\n",
       "      <th>2<\/th>\n",
       "      <td>Toyota<\/td>\n",
       "      <td>Blue<\/td>\n",
       "      <td>92302.666667<\/td>\n",
       "      <td>3.0<\/td>\n",
       "      <td>$7,000<\/td>\n",
       "    <\/tr>\n",
       "    <tr>\n",
       "      <th>3<\/th>\n",
       "      <td>BMW<\/td>\n",
       "      <td>Black<\/td>\n",
       "      <td>11179.000000<\/td>\n",
       "      <td>5.0<\/td>\n",
       "      <td>$22,000<\/td>\n",
       "    <\/tr>\n",
       "    <tr>\n",
       "      <th>4<\/th>\n",
       "      <td>Nissan<\/td>\n",
       "      <td>White<\/td>\n",
       "      <td>213095.000000<\/td>\n",
       "      <td>4.0<\/td>\n",
       "      <td>$3,500<\/td>\n",
       "    <\/tr>\n",
       "    <tr>\n",
       "      <th>5<\/th>\n",
       "      <td>Toyota<\/td>\n",
       "      <td>Green<\/td>\n",
       "      <td>92302.666667<\/td>\n",
       "      <td>4.0<\/td>\n",
       "      <td>$4,500<\/td>\n",
       "    <\/tr>\n",
       "  <\/tbody>\n",
       "<\/table>\n",
       "<\/div>"
      ]
     },
     "metadata":{
      
     },
     "output_type":"display_data"
    },
    {
     "data":{
      "text\/plain":[
       "     Make Colour       Odometer  Doors    Price\n",
       "0  Toyota  White  150043.000000    4.0   $4,000\n",
       "1   Honda    Red   87899.000000    4.0   $5,000\n",
       "2  Toyota   Blue   92302.666667    3.0   $7,000\n",
       "3     BMW  Black   11179.000000    5.0  $22,000\n",
       "4  Nissan  White  213095.000000    4.0   $3,500\n",
       "5  Toyota  Green   92302.666667    4.0   $4,500"
      ]
     },
     "metadata":{
      
     },
     "output_type":"display_data"
    }
   ],
   "metadata":{
    "datalore":{
     "node_id":"pDbYO40oZmk60Z2Iptp3W0",
     "type":"CODE",
     "hide_input_from_viewers":false,
     "hide_output_from_viewers":false,
     "report_properties":{
      "rowId":"MdAjfbdqY4Hqn6LlcItEzv"
     }
    }
   }
  },
  {
   "cell_type":"markdown",
   "source":[
    "It appears the rows with missing values have been removed, now let's check to make sure."
   ],
   "attachments":{
    
   },
   "metadata":{
    "datalore":{
     "node_id":"fKcoUmN9TAqvtUpb7AVlPZ",
     "type":"MD",
     "hide_input_from_viewers":false,
     "hide_output_from_viewers":false,
     "report_properties":{
      "rowId":"UUTlThj5bz9suF7z0kDpsT"
     }
    }
   }
  },
  {
   "cell_type":"code",
   "source":[
    "car_sales_missing"
   ],
   "execution_count":67,
   "outputs":[
    {
     "data":{
      "text\/html":[
       "<div>\n",
       "<style scoped>\n",
       "    .dataframe tbody tr th:only-of-type {\n",
       "        vertical-align: middle;\n",
       "    }\n",
       "\n",
       "    .dataframe tbody tr th {\n",
       "        vertical-align: top;\n",
       "    }\n",
       "\n",
       "    .dataframe thead th {\n",
       "        text-align: right;\n",
       "    }\n",
       "<\/style>\n",
       "<table border=\"1\" class=\"dataframe\">\n",
       "  <thead>\n",
       "    <tr style=\"text-align: right;\">\n",
       "      <th><\/th>\n",
       "      <th>Make<\/th>\n",
       "      <th>Colour<\/th>\n",
       "      <th>Odometer<\/th>\n",
       "      <th>Doors<\/th>\n",
       "      <th>Price<\/th>\n",
       "    <\/tr>\n",
       "  <\/thead>\n",
       "  <tbody>\n",
       "    <tr>\n",
       "      <th>0<\/th>\n",
       "      <td>Toyota<\/td>\n",
       "      <td>White<\/td>\n",
       "      <td>150043.000000<\/td>\n",
       "      <td>4.0<\/td>\n",
       "      <td>$4,000<\/td>\n",
       "    <\/tr>\n",
       "    <tr>\n",
       "      <th>1<\/th>\n",
       "      <td>Honda<\/td>\n",
       "      <td>Red<\/td>\n",
       "      <td>87899.000000<\/td>\n",
       "      <td>4.0<\/td>\n",
       "      <td>$5,000<\/td>\n",
       "    <\/tr>\n",
       "    <tr>\n",
       "      <th>2<\/th>\n",
       "      <td>Toyota<\/td>\n",
       "      <td>Blue<\/td>\n",
       "      <td>92302.666667<\/td>\n",
       "      <td>3.0<\/td>\n",
       "      <td>$7,000<\/td>\n",
       "    <\/tr>\n",
       "    <tr>\n",
       "      <th>3<\/th>\n",
       "      <td>BMW<\/td>\n",
       "      <td>Black<\/td>\n",
       "      <td>11179.000000<\/td>\n",
       "      <td>5.0<\/td>\n",
       "      <td>$22,000<\/td>\n",
       "    <\/tr>\n",
       "    <tr>\n",
       "      <th>4<\/th>\n",
       "      <td>Nissan<\/td>\n",
       "      <td>White<\/td>\n",
       "      <td>213095.000000<\/td>\n",
       "      <td>4.0<\/td>\n",
       "      <td>$3,500<\/td>\n",
       "    <\/tr>\n",
       "    <tr>\n",
       "      <th>5<\/th>\n",
       "      <td>Toyota<\/td>\n",
       "      <td>Green<\/td>\n",
       "      <td>92302.666667<\/td>\n",
       "      <td>4.0<\/td>\n",
       "      <td>$4,500<\/td>\n",
       "    <\/tr>\n",
       "    <tr>\n",
       "      <th>6<\/th>\n",
       "      <td>Honda<\/td>\n",
       "      <td>NaN<\/td>\n",
       "      <td>92302.666667<\/td>\n",
       "      <td>4.0<\/td>\n",
       "      <td>$7,500<\/td>\n",
       "    <\/tr>\n",
       "    <tr>\n",
       "      <th>7<\/th>\n",
       "      <td>Honda<\/td>\n",
       "      <td>Blue<\/td>\n",
       "      <td>92302.666667<\/td>\n",
       "      <td>4.0<\/td>\n",
       "      <td>NaN<\/td>\n",
       "    <\/tr>\n",
       "    <tr>\n",
       "      <th>8<\/th>\n",
       "      <td>Toyota<\/td>\n",
       "      <td>White<\/td>\n",
       "      <td>60000.000000<\/td>\n",
       "      <td>NaN<\/td>\n",
       "      <td>NaN<\/td>\n",
       "    <\/tr>\n",
       "    <tr>\n",
       "      <th>9<\/th>\n",
       "      <td>NaN<\/td>\n",
       "      <td>White<\/td>\n",
       "      <td>31600.000000<\/td>\n",
       "      <td>4.0<\/td>\n",
       "      <td>$9,700<\/td>\n",
       "    <\/tr>\n",
       "  <\/tbody>\n",
       "<\/table>\n",
       "<\/div>"
      ]
     },
     "metadata":{
      
     },
     "output_type":"display_data"
    },
    {
     "data":{
      "text\/plain":[
       "     Make Colour       Odometer  Doors    Price\n",
       "0  Toyota  White  150043.000000    4.0   $4,000\n",
       "1   Honda    Red   87899.000000    4.0   $5,000\n",
       "2  Toyota   Blue   92302.666667    3.0   $7,000\n",
       "3     BMW  Black   11179.000000    5.0  $22,000\n",
       "4  Nissan  White  213095.000000    4.0   $3,500\n",
       "5  Toyota  Green   92302.666667    4.0   $4,500\n",
       "6   Honda    NaN   92302.666667    4.0   $7,500\n",
       "7   Honda   Blue   92302.666667    4.0      NaN\n",
       "8  Toyota  White   60000.000000    NaN      NaN\n",
       "9     NaN  White   31600.000000    4.0   $9,700"
      ]
     },
     "metadata":{
      
     },
     "output_type":"display_data"
    }
   ],
   "metadata":{
    "datalore":{
     "node_id":"w2ZFDjR5J2WB2XpneD0LWy",
     "type":"CODE",
     "hide_input_from_viewers":false,
     "hide_output_from_viewers":false,
     "report_properties":{
      "rowId":"igIFfZsOyF74eZeTRn2Jjn"
     }
    }
   }
  },
  {
   "cell_type":"markdown",
   "source":[
    "Hmm, they're still there, can you guess why?\n",
    "\n",
    "It's because `.dropna()` has `inplace=False` as default. We can either set `inplace=True` or reassign the `car_sales_missing` `DataFrame`."
   ],
   "attachments":{
    
   },
   "metadata":{
    "datalore":{
     "node_id":"3gEFHg7qw7FOI7ysAtz0Nl",
     "type":"MD",
     "hide_input_from_viewers":false,
     "hide_output_from_viewers":false,
     "report_properties":{
      "rowId":"0jYAqbSmR6s6dW0px5Cab1"
     }
    }
   }
  },
  {
   "cell_type":"code",
   "source":[
    "# The following two lines do the same thing\n",
    "car_sales_missing.dropna(inplace=True) # Operation happens inplace without reassignment\n",
    "car_sales_missing = car_sales_missing.dropna() # car_sales_missing gets reassigned to same DataFrame but with dropped values  "
   ],
   "execution_count":null,
   "outputs":[
    
   ],
   "metadata":{
    "datalore":{
     "node_id":"1R4pbhBBatetE6iwHe2g5W",
     "type":"CODE",
     "hide_input_from_viewers":false,
     "hide_output_from_viewers":false,
     "report_properties":{
      "rowId":"ur6FJFV16TgdkKENN05h4X"
     }
    }
   }
  },
  {
   "cell_type":"markdown",
   "source":[
    "Now if check again, the rows with missing values are gone and the index numbers have been updated."
   ],
   "attachments":{
    
   },
   "metadata":{
    "datalore":{
     "node_id":"5jv1NMIHZXUb49cDSDM86f",
     "type":"MD",
     "hide_input_from_viewers":false,
     "hide_output_from_viewers":false,
     "report_properties":{
      "rowId":"DVbdXQWeZSKL1huneSsry7"
     }
    }
   }
  },
  {
   "cell_type":"code",
   "source":[
    "car_sales_missing"
   ],
   "execution_count":69,
   "outputs":[
    {
     "data":{
      "text\/html":[
       "<div>\n",
       "<style scoped>\n",
       "    .dataframe tbody tr th:only-of-type {\n",
       "        vertical-align: middle;\n",
       "    }\n",
       "\n",
       "    .dataframe tbody tr th {\n",
       "        vertical-align: top;\n",
       "    }\n",
       "\n",
       "    .dataframe thead th {\n",
       "        text-align: right;\n",
       "    }\n",
       "<\/style>\n",
       "<table border=\"1\" class=\"dataframe\">\n",
       "  <thead>\n",
       "    <tr style=\"text-align: right;\">\n",
       "      <th><\/th>\n",
       "      <th>Make<\/th>\n",
       "      <th>Colour<\/th>\n",
       "      <th>Odometer<\/th>\n",
       "      <th>Doors<\/th>\n",
       "      <th>Price<\/th>\n",
       "    <\/tr>\n",
       "  <\/thead>\n",
       "  <tbody>\n",
       "    <tr>\n",
       "      <th>0<\/th>\n",
       "      <td>Toyota<\/td>\n",
       "      <td>White<\/td>\n",
       "      <td>150043.000000<\/td>\n",
       "      <td>4.0<\/td>\n",
       "      <td>$4,000<\/td>\n",
       "    <\/tr>\n",
       "    <tr>\n",
       "      <th>1<\/th>\n",
       "      <td>Honda<\/td>\n",
       "      <td>Red<\/td>\n",
       "      <td>87899.000000<\/td>\n",
       "      <td>4.0<\/td>\n",
       "      <td>$5,000<\/td>\n",
       "    <\/tr>\n",
       "    <tr>\n",
       "      <th>2<\/th>\n",
       "      <td>Toyota<\/td>\n",
       "      <td>Blue<\/td>\n",
       "      <td>92302.666667<\/td>\n",
       "      <td>3.0<\/td>\n",
       "      <td>$7,000<\/td>\n",
       "    <\/tr>\n",
       "    <tr>\n",
       "      <th>3<\/th>\n",
       "      <td>BMW<\/td>\n",
       "      <td>Black<\/td>\n",
       "      <td>11179.000000<\/td>\n",
       "      <td>5.0<\/td>\n",
       "      <td>$22,000<\/td>\n",
       "    <\/tr>\n",
       "    <tr>\n",
       "      <th>4<\/th>\n",
       "      <td>Nissan<\/td>\n",
       "      <td>White<\/td>\n",
       "      <td>213095.000000<\/td>\n",
       "      <td>4.0<\/td>\n",
       "      <td>$3,500<\/td>\n",
       "    <\/tr>\n",
       "    <tr>\n",
       "      <th>5<\/th>\n",
       "      <td>Toyota<\/td>\n",
       "      <td>Green<\/td>\n",
       "      <td>92302.666667<\/td>\n",
       "      <td>4.0<\/td>\n",
       "      <td>$4,500<\/td>\n",
       "    <\/tr>\n",
       "  <\/tbody>\n",
       "<\/table>\n",
       "<\/div>"
      ]
     },
     "metadata":{
      
     },
     "output_type":"display_data"
    },
    {
     "data":{
      "text\/plain":[
       "     Make Colour       Odometer  Doors    Price\n",
       "0  Toyota  White  150043.000000    4.0   $4,000\n",
       "1   Honda    Red   87899.000000    4.0   $5,000\n",
       "2  Toyota   Blue   92302.666667    3.0   $7,000\n",
       "3     BMW  Black   11179.000000    5.0  $22,000\n",
       "4  Nissan  White  213095.000000    4.0   $3,500\n",
       "5  Toyota  Green   92302.666667    4.0   $4,500"
      ]
     },
     "metadata":{
      
     },
     "output_type":"display_data"
    }
   ],
   "metadata":{
    "datalore":{
     "node_id":"zUxUCBSsrjsesrsBZ58eSA",
     "type":"CODE",
     "hide_input_from_viewers":false,
     "hide_output_from_viewers":false,
     "report_properties":{
      "rowId":"kB3c6VfbNUfQt9XtSQ9MQX"
     }
    }
   }
  },
  {
   "cell_type":"markdown",
   "source":[
    "Instead of removing or filling data, what if you wanted to create it?\n",
    "\n",
    "For example, creating a column called `Seats` for number of seats.\n",
    "\n",
    "pandas allows for simple extra column creation on `DataFrame`'s. \n",
    "\n",
    "Three common ways are: \n",
    "1. Adding a `pandas.Series` as a column.\n",
    "2. Adding a Python list as a column.\n",
    "3. By using existing columns to create a new column."
   ],
   "attachments":{
    
   },
   "metadata":{
    "datalore":{
     "node_id":"8b47mMLcQa7EM3kOv2uHfx",
     "type":"MD",
     "hide_input_from_viewers":false,
     "hide_output_from_viewers":false,
     "report_properties":{
      "rowId":"MavGpwsJR5HtL3eMvMRoj3"
     }
    }
   }
  },
  {
   "cell_type":"code",
   "source":[
    "# Create a column from a pandas Series\n",
    "seats_column = pd.Series([5, 5, 5, 5, 5, 5, 5, 5, 5, 5])\n",
    "car_sales[\"Seats\"] = seats_column\n",
    "car_sales"
   ],
   "execution_count":45,
   "outputs":[
    {
     "data":{
      "text\/html":[
       "<div>\n",
       "<style scoped>\n",
       "    .dataframe tbody tr th:only-of-type {\n",
       "        vertical-align: middle;\n",
       "    }\n",
       "\n",
       "    .dataframe tbody tr th {\n",
       "        vertical-align: top;\n",
       "    }\n",
       "\n",
       "    .dataframe thead th {\n",
       "        text-align: right;\n",
       "    }\n",
       "<\/style>\n",
       "<table border=\"1\" class=\"dataframe\">\n",
       "  <thead>\n",
       "    <tr style=\"text-align: right;\">\n",
       "      <th><\/th>\n",
       "      <th>Make<\/th>\n",
       "      <th>Colour<\/th>\n",
       "      <th>Odometer (KM)<\/th>\n",
       "      <th>Doors<\/th>\n",
       "      <th>Price<\/th>\n",
       "      <th>Seats<\/th>\n",
       "    <\/tr>\n",
       "  <\/thead>\n",
       "  <tbody>\n",
       "    <tr>\n",
       "      <th>0<\/th>\n",
       "      <td>Toyota<\/td>\n",
       "      <td>White<\/td>\n",
       "      <td>150043<\/td>\n",
       "      <td>4<\/td>\n",
       "      <td>4000<\/td>\n",
       "      <td>5<\/td>\n",
       "    <\/tr>\n",
       "    <tr>\n",
       "      <th>1<\/th>\n",
       "      <td>Honda<\/td>\n",
       "      <td>Red<\/td>\n",
       "      <td>87899<\/td>\n",
       "      <td>4<\/td>\n",
       "      <td>5000<\/td>\n",
       "      <td>5<\/td>\n",
       "    <\/tr>\n",
       "    <tr>\n",
       "      <th>2<\/th>\n",
       "      <td>Toyota<\/td>\n",
       "      <td>Blue<\/td>\n",
       "      <td>32549<\/td>\n",
       "      <td>3<\/td>\n",
       "      <td>7000<\/td>\n",
       "      <td>5<\/td>\n",
       "    <\/tr>\n",
       "    <tr>\n",
       "      <th>3<\/th>\n",
       "      <td>BMW<\/td>\n",
       "      <td>Black<\/td>\n",
       "      <td>11179<\/td>\n",
       "      <td>5<\/td>\n",
       "      <td>22000<\/td>\n",
       "      <td>5<\/td>\n",
       "    <\/tr>\n",
       "    <tr>\n",
       "      <th>4<\/th>\n",
       "      <td>Nissan<\/td>\n",
       "      <td>White<\/td>\n",
       "      <td>213095<\/td>\n",
       "      <td>4<\/td>\n",
       "      <td>3500<\/td>\n",
       "      <td>5<\/td>\n",
       "    <\/tr>\n",
       "    <tr>\n",
       "      <th>5<\/th>\n",
       "      <td>Toyota<\/td>\n",
       "      <td>Green<\/td>\n",
       "      <td>99213<\/td>\n",
       "      <td>4<\/td>\n",
       "      <td>4500<\/td>\n",
       "      <td>5<\/td>\n",
       "    <\/tr>\n",
       "    <tr>\n",
       "      <th>6<\/th>\n",
       "      <td>Honda<\/td>\n",
       "      <td>Blue<\/td>\n",
       "      <td>45698<\/td>\n",
       "      <td>4<\/td>\n",
       "      <td>7500<\/td>\n",
       "      <td>5<\/td>\n",
       "    <\/tr>\n",
       "    <tr>\n",
       "      <th>7<\/th>\n",
       "      <td>Honda<\/td>\n",
       "      <td>Blue<\/td>\n",
       "      <td>54738<\/td>\n",
       "      <td>4<\/td>\n",
       "      <td>7000<\/td>\n",
       "      <td>5<\/td>\n",
       "    <\/tr>\n",
       "    <tr>\n",
       "      <th>8<\/th>\n",
       "      <td>Toyota<\/td>\n",
       "      <td>White<\/td>\n",
       "      <td>60000<\/td>\n",
       "      <td>4<\/td>\n",
       "      <td>6250<\/td>\n",
       "      <td>5<\/td>\n",
       "    <\/tr>\n",
       "    <tr>\n",
       "      <th>9<\/th>\n",
       "      <td>Nissan<\/td>\n",
       "      <td>White<\/td>\n",
       "      <td>31600<\/td>\n",
       "      <td>4<\/td>\n",
       "      <td>9700<\/td>\n",
       "      <td>5<\/td>\n",
       "    <\/tr>\n",
       "  <\/tbody>\n",
       "<\/table>\n",
       "<\/div>"
      ]
     },
     "metadata":{
      
     },
     "output_type":"display_data"
    }
   ],
   "metadata":{
    "datalore":{
     "node_id":"qnu3wNIfq4ZEYn0xlTegyW",
     "type":"CODE",
     "hide_input_from_viewers":false,
     "hide_output_from_viewers":false,
     "report_properties":{
      "rowId":"zUyLOW9xPg9yPqYquQmuz3"
     }
    }
   }
  },
  {
   "cell_type":"markdown",
   "source":[
    "Creating a column is similar to selecting a column, you pass the target `DataFrame` along with a new column name in brackets."
   ],
   "attachments":{
    
   },
   "metadata":{
    "datalore":{
     "node_id":"Rcu30UvftOJgX8GpUQVGhF",
     "type":"MD",
     "hide_input_from_viewers":false,
     "hide_output_from_viewers":false,
     "report_properties":{
      "rowId":"eg4W6vLpUEG39EvcN0PVa7"
     }
    }
   }
  },
  {
   "cell_type":"code",
   "source":[
    "# Create a column from a Python list\n",
    "engine_sizes = [1.3, 2.0, 3.0, 4.2, 1.6, 1, 2.0, 2.3, 2.0, 3.0]\n",
    "car_sales[\"Engine Size\"] = engine_sizes\n",
    "car_sales"
   ],
   "execution_count":46,
   "outputs":[
    {
     "data":{
      "text\/html":[
       "<div>\n",
       "<style scoped>\n",
       "    .dataframe tbody tr th:only-of-type {\n",
       "        vertical-align: middle;\n",
       "    }\n",
       "\n",
       "    .dataframe tbody tr th {\n",
       "        vertical-align: top;\n",
       "    }\n",
       "\n",
       "    .dataframe thead th {\n",
       "        text-align: right;\n",
       "    }\n",
       "<\/style>\n",
       "<table border=\"1\" class=\"dataframe\">\n",
       "  <thead>\n",
       "    <tr style=\"text-align: right;\">\n",
       "      <th><\/th>\n",
       "      <th>Make<\/th>\n",
       "      <th>Colour<\/th>\n",
       "      <th>Odometer (KM)<\/th>\n",
       "      <th>Doors<\/th>\n",
       "      <th>Price<\/th>\n",
       "      <th>Seats<\/th>\n",
       "      <th>Engine Size<\/th>\n",
       "    <\/tr>\n",
       "  <\/thead>\n",
       "  <tbody>\n",
       "    <tr>\n",
       "      <th>0<\/th>\n",
       "      <td>Toyota<\/td>\n",
       "      <td>White<\/td>\n",
       "      <td>150043<\/td>\n",
       "      <td>4<\/td>\n",
       "      <td>4000<\/td>\n",
       "      <td>5<\/td>\n",
       "      <td>1.3<\/td>\n",
       "    <\/tr>\n",
       "    <tr>\n",
       "      <th>1<\/th>\n",
       "      <td>Honda<\/td>\n",
       "      <td>Red<\/td>\n",
       "      <td>87899<\/td>\n",
       "      <td>4<\/td>\n",
       "      <td>5000<\/td>\n",
       "      <td>5<\/td>\n",
       "      <td>2.0<\/td>\n",
       "    <\/tr>\n",
       "    <tr>\n",
       "      <th>2<\/th>\n",
       "      <td>Toyota<\/td>\n",
       "      <td>Blue<\/td>\n",
       "      <td>32549<\/td>\n",
       "      <td>3<\/td>\n",
       "      <td>7000<\/td>\n",
       "      <td>5<\/td>\n",
       "      <td>3.0<\/td>\n",
       "    <\/tr>\n",
       "    <tr>\n",
       "      <th>3<\/th>\n",
       "      <td>BMW<\/td>\n",
       "      <td>Black<\/td>\n",
       "      <td>11179<\/td>\n",
       "      <td>5<\/td>\n",
       "      <td>22000<\/td>\n",
       "      <td>5<\/td>\n",
       "      <td>4.2<\/td>\n",
       "    <\/tr>\n",
       "    <tr>\n",
       "      <th>4<\/th>\n",
       "      <td>Nissan<\/td>\n",
       "      <td>White<\/td>\n",
       "      <td>213095<\/td>\n",
       "      <td>4<\/td>\n",
       "      <td>3500<\/td>\n",
       "      <td>5<\/td>\n",
       "      <td>1.6<\/td>\n",
       "    <\/tr>\n",
       "    <tr>\n",
       "      <th>5<\/th>\n",
       "      <td>Toyota<\/td>\n",
       "      <td>Green<\/td>\n",
       "      <td>99213<\/td>\n",
       "      <td>4<\/td>\n",
       "      <td>4500<\/td>\n",
       "      <td>5<\/td>\n",
       "      <td>1.0<\/td>\n",
       "    <\/tr>\n",
       "    <tr>\n",
       "      <th>6<\/th>\n",
       "      <td>Honda<\/td>\n",
       "      <td>Blue<\/td>\n",
       "      <td>45698<\/td>\n",
       "      <td>4<\/td>\n",
       "      <td>7500<\/td>\n",
       "      <td>5<\/td>\n",
       "      <td>2.0<\/td>\n",
       "    <\/tr>\n",
       "    <tr>\n",
       "      <th>7<\/th>\n",
       "      <td>Honda<\/td>\n",
       "      <td>Blue<\/td>\n",
       "      <td>54738<\/td>\n",
       "      <td>4<\/td>\n",
       "      <td>7000<\/td>\n",
       "      <td>5<\/td>\n",
       "      <td>2.3<\/td>\n",
       "    <\/tr>\n",
       "    <tr>\n",
       "      <th>8<\/th>\n",
       "      <td>Toyota<\/td>\n",
       "      <td>White<\/td>\n",
       "      <td>60000<\/td>\n",
       "      <td>4<\/td>\n",
       "      <td>6250<\/td>\n",
       "      <td>5<\/td>\n",
       "      <td>2.0<\/td>\n",
       "    <\/tr>\n",
       "    <tr>\n",
       "      <th>9<\/th>\n",
       "      <td>Nissan<\/td>\n",
       "      <td>White<\/td>\n",
       "      <td>31600<\/td>\n",
       "      <td>4<\/td>\n",
       "      <td>9700<\/td>\n",
       "      <td>5<\/td>\n",
       "      <td>3.0<\/td>\n",
       "    <\/tr>\n",
       "  <\/tbody>\n",
       "<\/table>\n",
       "<\/div>"
      ]
     },
     "metadata":{
      
     },
     "output_type":"display_data"
    }
   ],
   "metadata":{
    "datalore":{
     "node_id":"8OfIZpcijcCN0nJyiehtMr",
     "type":"CODE",
     "hide_input_from_viewers":false,
     "hide_output_from_viewers":false,
     "report_properties":{
      "rowId":"0oYJkcIdyWasKrLaWRMBx8"
     }
    }
   }
  },
  {
   "cell_type":"markdown",
   "source":[
    "You can also make a column by directly combining the values of other columns. Such as, price per kilometre on the Odometer."
   ],
   "attachments":{
    
   },
   "metadata":{
    "datalore":{
     "node_id":"bNOxt767QENXRdwqXqbG1E",
     "type":"MD",
     "hide_input_from_viewers":false,
     "hide_output_from_viewers":false,
     "report_properties":{
      "rowId":"veVHMLd9YVM14DjG4cQHgT"
     }
    }
   }
  },
  {
   "cell_type":"code",
   "source":[
    "# Column from other columns\n",
    "car_sales[\"Price per KM\"] = car_sales[\"Price\"] \/ car_sales[\"Odometer (KM)\"]\n",
    "car_sales"
   ],
   "execution_count":47,
   "outputs":[
    {
     "data":{
      "text\/html":[
       "<div>\n",
       "<style scoped>\n",
       "    .dataframe tbody tr th:only-of-type {\n",
       "        vertical-align: middle;\n",
       "    }\n",
       "\n",
       "    .dataframe tbody tr th {\n",
       "        vertical-align: top;\n",
       "    }\n",
       "\n",
       "    .dataframe thead th {\n",
       "        text-align: right;\n",
       "    }\n",
       "<\/style>\n",
       "<table border=\"1\" class=\"dataframe\">\n",
       "  <thead>\n",
       "    <tr style=\"text-align: right;\">\n",
       "      <th><\/th>\n",
       "      <th>Make<\/th>\n",
       "      <th>Colour<\/th>\n",
       "      <th>Odometer (KM)<\/th>\n",
       "      <th>Doors<\/th>\n",
       "      <th>Price<\/th>\n",
       "      <th>Seats<\/th>\n",
       "      <th>Engine Size<\/th>\n",
       "      <th>Price per KM<\/th>\n",
       "    <\/tr>\n",
       "  <\/thead>\n",
       "  <tbody>\n",
       "    <tr>\n",
       "      <th>0<\/th>\n",
       "      <td>Toyota<\/td>\n",
       "      <td>White<\/td>\n",
       "      <td>150043<\/td>\n",
       "      <td>4<\/td>\n",
       "      <td>4000<\/td>\n",
       "      <td>5<\/td>\n",
       "      <td>1.3<\/td>\n",
       "      <td>0.026659<\/td>\n",
       "    <\/tr>\n",
       "    <tr>\n",
       "      <th>1<\/th>\n",
       "      <td>Honda<\/td>\n",
       "      <td>Red<\/td>\n",
       "      <td>87899<\/td>\n",
       "      <td>4<\/td>\n",
       "      <td>5000<\/td>\n",
       "      <td>5<\/td>\n",
       "      <td>2.0<\/td>\n",
       "      <td>0.056883<\/td>\n",
       "    <\/tr>\n",
       "    <tr>\n",
       "      <th>2<\/th>\n",
       "      <td>Toyota<\/td>\n",
       "      <td>Blue<\/td>\n",
       "      <td>32549<\/td>\n",
       "      <td>3<\/td>\n",
       "      <td>7000<\/td>\n",
       "      <td>5<\/td>\n",
       "      <td>3.0<\/td>\n",
       "      <td>0.215060<\/td>\n",
       "    <\/tr>\n",
       "    <tr>\n",
       "      <th>3<\/th>\n",
       "      <td>BMW<\/td>\n",
       "      <td>Black<\/td>\n",
       "      <td>11179<\/td>\n",
       "      <td>5<\/td>\n",
       "      <td>22000<\/td>\n",
       "      <td>5<\/td>\n",
       "      <td>4.2<\/td>\n",
       "      <td>1.967976<\/td>\n",
       "    <\/tr>\n",
       "    <tr>\n",
       "      <th>4<\/th>\n",
       "      <td>Nissan<\/td>\n",
       "      <td>White<\/td>\n",
       "      <td>213095<\/td>\n",
       "      <td>4<\/td>\n",
       "      <td>3500<\/td>\n",
       "      <td>5<\/td>\n",
       "      <td>1.6<\/td>\n",
       "      <td>0.016425<\/td>\n",
       "    <\/tr>\n",
       "    <tr>\n",
       "      <th>5<\/th>\n",
       "      <td>Toyota<\/td>\n",
       "      <td>Green<\/td>\n",
       "      <td>99213<\/td>\n",
       "      <td>4<\/td>\n",
       "      <td>4500<\/td>\n",
       "      <td>5<\/td>\n",
       "      <td>1.0<\/td>\n",
       "      <td>0.045357<\/td>\n",
       "    <\/tr>\n",
       "    <tr>\n",
       "      <th>6<\/th>\n",
       "      <td>Honda<\/td>\n",
       "      <td>Blue<\/td>\n",
       "      <td>45698<\/td>\n",
       "      <td>4<\/td>\n",
       "      <td>7500<\/td>\n",
       "      <td>5<\/td>\n",
       "      <td>2.0<\/td>\n",
       "      <td>0.164121<\/td>\n",
       "    <\/tr>\n",
       "    <tr>\n",
       "      <th>7<\/th>\n",
       "      <td>Honda<\/td>\n",
       "      <td>Blue<\/td>\n",
       "      <td>54738<\/td>\n",
       "      <td>4<\/td>\n",
       "      <td>7000<\/td>\n",
       "      <td>5<\/td>\n",
       "      <td>2.3<\/td>\n",
       "      <td>0.127882<\/td>\n",
       "    <\/tr>\n",
       "    <tr>\n",
       "      <th>8<\/th>\n",
       "      <td>Toyota<\/td>\n",
       "      <td>White<\/td>\n",
       "      <td>60000<\/td>\n",
       "      <td>4<\/td>\n",
       "      <td>6250<\/td>\n",
       "      <td>5<\/td>\n",
       "      <td>2.0<\/td>\n",
       "      <td>0.104167<\/td>\n",
       "    <\/tr>\n",
       "    <tr>\n",
       "      <th>9<\/th>\n",
       "      <td>Nissan<\/td>\n",
       "      <td>White<\/td>\n",
       "      <td>31600<\/td>\n",
       "      <td>4<\/td>\n",
       "      <td>9700<\/td>\n",
       "      <td>5<\/td>\n",
       "      <td>3.0<\/td>\n",
       "      <td>0.306962<\/td>\n",
       "    <\/tr>\n",
       "  <\/tbody>\n",
       "<\/table>\n",
       "<\/div>"
      ]
     },
     "metadata":{
      
     },
     "output_type":"display_data"
    }
   ],
   "metadata":{
    "datalore":{
     "node_id":"2xsuPNHi8A3nWiB9EUMBC5",
     "type":"CODE",
     "hide_input_from_viewers":false,
     "hide_output_from_viewers":false,
     "report_properties":{
      "rowId":"pKDlyZgykrTNjVG7vsgyjL"
     }
    }
   }
  },
  {
   "cell_type":"markdown",
   "source":[
    "Now can you think why this might not be a great column to add?\n",
    "\n",
    "It could be confusing when a car with less kilometers on the odometer looks to cost more per kilometre than one with more. \n",
    "\n",
    "When buying a car, usually less kilometres on the odometer is better.\n",
    "\n",
    "This kind of column creation is called [**feature engineering**](https:\/\/en.wikipedia.org\/wiki\/Feature_engineering), the practice of enriching your dataset with more information (either from it directly or elsewhere).\n",
    "\n",
    "If `Make`, `Colour`, `Doors` are features of the data, creating `Price per KM` could be another. But in this case, not a very good one.\n",
    "\n",
    "As for column creation, you can also create a new column setting all values to a one standard value."
   ],
   "attachments":{
    
   },
   "metadata":{
    "datalore":{
     "node_id":"4vNZWT3vLq1TRiucvZ3DA0",
     "type":"MD",
     "hide_input_from_viewers":false,
     "hide_output_from_viewers":false,
     "report_properties":{
      "rowId":"x7jzos3QK1AdBFIXYhrQkp"
     }
    }
   }
  },
  {
   "cell_type":"code",
   "source":[
    "# Column to all 1 value (number of wheels)\n",
    "car_sales[\"Number of wheels\"] = 4\n",
    "car_sales"
   ],
   "execution_count":48,
   "outputs":[
    {
     "data":{
      "text\/html":[
       "<div>\n",
       "<style scoped>\n",
       "    .dataframe tbody tr th:only-of-type {\n",
       "        vertical-align: middle;\n",
       "    }\n",
       "\n",
       "    .dataframe tbody tr th {\n",
       "        vertical-align: top;\n",
       "    }\n",
       "\n",
       "    .dataframe thead th {\n",
       "        text-align: right;\n",
       "    }\n",
       "<\/style>\n",
       "<table border=\"1\" class=\"dataframe\">\n",
       "  <thead>\n",
       "    <tr style=\"text-align: right;\">\n",
       "      <th><\/th>\n",
       "      <th>Make<\/th>\n",
       "      <th>Colour<\/th>\n",
       "      <th>Odometer (KM)<\/th>\n",
       "      <th>Doors<\/th>\n",
       "      <th>Price<\/th>\n",
       "      <th>Seats<\/th>\n",
       "      <th>Engine Size<\/th>\n",
       "      <th>Price per KM<\/th>\n",
       "      <th>Number of wheels<\/th>\n",
       "    <\/tr>\n",
       "  <\/thead>\n",
       "  <tbody>\n",
       "    <tr>\n",
       "      <th>0<\/th>\n",
       "      <td>Toyota<\/td>\n",
       "      <td>White<\/td>\n",
       "      <td>150043<\/td>\n",
       "      <td>4<\/td>\n",
       "      <td>4000<\/td>\n",
       "      <td>5<\/td>\n",
       "      <td>1.3<\/td>\n",
       "      <td>0.026659<\/td>\n",
       "      <td>4<\/td>\n",
       "    <\/tr>\n",
       "    <tr>\n",
       "      <th>1<\/th>\n",
       "      <td>Honda<\/td>\n",
       "      <td>Red<\/td>\n",
       "      <td>87899<\/td>\n",
       "      <td>4<\/td>\n",
       "      <td>5000<\/td>\n",
       "      <td>5<\/td>\n",
       "      <td>2.0<\/td>\n",
       "      <td>0.056883<\/td>\n",
       "      <td>4<\/td>\n",
       "    <\/tr>\n",
       "    <tr>\n",
       "      <th>2<\/th>\n",
       "      <td>Toyota<\/td>\n",
       "      <td>Blue<\/td>\n",
       "      <td>32549<\/td>\n",
       "      <td>3<\/td>\n",
       "      <td>7000<\/td>\n",
       "      <td>5<\/td>\n",
       "      <td>3.0<\/td>\n",
       "      <td>0.215060<\/td>\n",
       "      <td>4<\/td>\n",
       "    <\/tr>\n",
       "    <tr>\n",
       "      <th>3<\/th>\n",
       "      <td>BMW<\/td>\n",
       "      <td>Black<\/td>\n",
       "      <td>11179<\/td>\n",
       "      <td>5<\/td>\n",
       "      <td>22000<\/td>\n",
       "      <td>5<\/td>\n",
       "      <td>4.2<\/td>\n",
       "      <td>1.967976<\/td>\n",
       "      <td>4<\/td>\n",
       "    <\/tr>\n",
       "    <tr>\n",
       "      <th>4<\/th>\n",
       "      <td>Nissan<\/td>\n",
       "      <td>White<\/td>\n",
       "      <td>213095<\/td>\n",
       "      <td>4<\/td>\n",
       "      <td>3500<\/td>\n",
       "      <td>5<\/td>\n",
       "      <td>1.6<\/td>\n",
       "      <td>0.016425<\/td>\n",
       "      <td>4<\/td>\n",
       "    <\/tr>\n",
       "    <tr>\n",
       "      <th>5<\/th>\n",
       "      <td>Toyota<\/td>\n",
       "      <td>Green<\/td>\n",
       "      <td>99213<\/td>\n",
       "      <td>4<\/td>\n",
       "      <td>4500<\/td>\n",
       "      <td>5<\/td>\n",
       "      <td>1.0<\/td>\n",
       "      <td>0.045357<\/td>\n",
       "      <td>4<\/td>\n",
       "    <\/tr>\n",
       "    <tr>\n",
       "      <th>6<\/th>\n",
       "      <td>Honda<\/td>\n",
       "      <td>Blue<\/td>\n",
       "      <td>45698<\/td>\n",
       "      <td>4<\/td>\n",
       "      <td>7500<\/td>\n",
       "      <td>5<\/td>\n",
       "      <td>2.0<\/td>\n",
       "      <td>0.164121<\/td>\n",
       "      <td>4<\/td>\n",
       "    <\/tr>\n",
       "    <tr>\n",
       "      <th>7<\/th>\n",
       "      <td>Honda<\/td>\n",
       "      <td>Blue<\/td>\n",
       "      <td>54738<\/td>\n",
       "      <td>4<\/td>\n",
       "      <td>7000<\/td>\n",
       "      <td>5<\/td>\n",
       "      <td>2.3<\/td>\n",
       "      <td>0.127882<\/td>\n",
       "      <td>4<\/td>\n",
       "    <\/tr>\n",
       "    <tr>\n",
       "      <th>8<\/th>\n",
       "      <td>Toyota<\/td>\n",
       "      <td>White<\/td>\n",
       "      <td>60000<\/td>\n",
       "      <td>4<\/td>\n",
       "      <td>6250<\/td>\n",
       "      <td>5<\/td>\n",
       "      <td>2.0<\/td>\n",
       "      <td>0.104167<\/td>\n",
       "      <td>4<\/td>\n",
       "    <\/tr>\n",
       "    <tr>\n",
       "      <th>9<\/th>\n",
       "      <td>Nissan<\/td>\n",
       "      <td>White<\/td>\n",
       "      <td>31600<\/td>\n",
       "      <td>4<\/td>\n",
       "      <td>9700<\/td>\n",
       "      <td>5<\/td>\n",
       "      <td>3.0<\/td>\n",
       "      <td>0.306962<\/td>\n",
       "      <td>4<\/td>\n",
       "    <\/tr>\n",
       "  <\/tbody>\n",
       "<\/table>\n",
       "<\/div>"
      ]
     },
     "metadata":{
      
     },
     "output_type":"display_data"
    }
   ],
   "metadata":{
    "datalore":{
     "node_id":"vQ6PJheMT1aCz2vNsMSBEx",
     "type":"CODE",
     "hide_input_from_viewers":false,
     "hide_output_from_viewers":false,
     "report_properties":{
      "rowId":"GnD0dGopu7BaXOqCqpQIMl"
     }
    }
   }
  },
  {
   "cell_type":"code",
   "source":[
    "car_sales[\"Passed road safety\"] = True\n",
    "car_sales"
   ],
   "execution_count":49,
   "outputs":[
    {
     "data":{
      "text\/html":[
       "<div>\n",
       "<style scoped>\n",
       "    .dataframe tbody tr th:only-of-type {\n",
       "        vertical-align: middle;\n",
       "    }\n",
       "\n",
       "    .dataframe tbody tr th {\n",
       "        vertical-align: top;\n",
       "    }\n",
       "\n",
       "    .dataframe thead th {\n",
       "        text-align: right;\n",
       "    }\n",
       "<\/style>\n",
       "<table border=\"1\" class=\"dataframe\">\n",
       "  <thead>\n",
       "    <tr style=\"text-align: right;\">\n",
       "      <th><\/th>\n",
       "      <th>Make<\/th>\n",
       "      <th>Colour<\/th>\n",
       "      <th>Odometer (KM)<\/th>\n",
       "      <th>Doors<\/th>\n",
       "      <th>Price<\/th>\n",
       "      <th>Seats<\/th>\n",
       "      <th>Engine Size<\/th>\n",
       "      <th>Price per KM<\/th>\n",
       "      <th>Number of wheels<\/th>\n",
       "      <th>Passed road safety<\/th>\n",
       "    <\/tr>\n",
       "  <\/thead>\n",
       "  <tbody>\n",
       "    <tr>\n",
       "      <th>0<\/th>\n",
       "      <td>Toyota<\/td>\n",
       "      <td>White<\/td>\n",
       "      <td>150043<\/td>\n",
       "      <td>4<\/td>\n",
       "      <td>4000<\/td>\n",
       "      <td>5<\/td>\n",
       "      <td>1.3<\/td>\n",
       "      <td>0.026659<\/td>\n",
       "      <td>4<\/td>\n",
       "      <td>True<\/td>\n",
       "    <\/tr>\n",
       "    <tr>\n",
       "      <th>1<\/th>\n",
       "      <td>Honda<\/td>\n",
       "      <td>Red<\/td>\n",
       "      <td>87899<\/td>\n",
       "      <td>4<\/td>\n",
       "      <td>5000<\/td>\n",
       "      <td>5<\/td>\n",
       "      <td>2.0<\/td>\n",
       "      <td>0.056883<\/td>\n",
       "      <td>4<\/td>\n",
       "      <td>True<\/td>\n",
       "    <\/tr>\n",
       "    <tr>\n",
       "      <th>2<\/th>\n",
       "      <td>Toyota<\/td>\n",
       "      <td>Blue<\/td>\n",
       "      <td>32549<\/td>\n",
       "      <td>3<\/td>\n",
       "      <td>7000<\/td>\n",
       "      <td>5<\/td>\n",
       "      <td>3.0<\/td>\n",
       "      <td>0.215060<\/td>\n",
       "      <td>4<\/td>\n",
       "      <td>True<\/td>\n",
       "    <\/tr>\n",
       "    <tr>\n",
       "      <th>3<\/th>\n",
       "      <td>BMW<\/td>\n",
       "      <td>Black<\/td>\n",
       "      <td>11179<\/td>\n",
       "      <td>5<\/td>\n",
       "      <td>22000<\/td>\n",
       "      <td>5<\/td>\n",
       "      <td>4.2<\/td>\n",
       "      <td>1.967976<\/td>\n",
       "      <td>4<\/td>\n",
       "      <td>True<\/td>\n",
       "    <\/tr>\n",
       "    <tr>\n",
       "      <th>4<\/th>\n",
       "      <td>Nissan<\/td>\n",
       "      <td>White<\/td>\n",
       "      <td>213095<\/td>\n",
       "      <td>4<\/td>\n",
       "      <td>3500<\/td>\n",
       "      <td>5<\/td>\n",
       "      <td>1.6<\/td>\n",
       "      <td>0.016425<\/td>\n",
       "      <td>4<\/td>\n",
       "      <td>True<\/td>\n",
       "    <\/tr>\n",
       "    <tr>\n",
       "      <th>5<\/th>\n",
       "      <td>Toyota<\/td>\n",
       "      <td>Green<\/td>\n",
       "      <td>99213<\/td>\n",
       "      <td>4<\/td>\n",
       "      <td>4500<\/td>\n",
       "      <td>5<\/td>\n",
       "      <td>1.0<\/td>\n",
       "      <td>0.045357<\/td>\n",
       "      <td>4<\/td>\n",
       "      <td>True<\/td>\n",
       "    <\/tr>\n",
       "    <tr>\n",
       "      <th>6<\/th>\n",
       "      <td>Honda<\/td>\n",
       "      <td>Blue<\/td>\n",
       "      <td>45698<\/td>\n",
       "      <td>4<\/td>\n",
       "      <td>7500<\/td>\n",
       "      <td>5<\/td>\n",
       "      <td>2.0<\/td>\n",
       "      <td>0.164121<\/td>\n",
       "      <td>4<\/td>\n",
       "      <td>True<\/td>\n",
       "    <\/tr>\n",
       "    <tr>\n",
       "      <th>7<\/th>\n",
       "      <td>Honda<\/td>\n",
       "      <td>Blue<\/td>\n",
       "      <td>54738<\/td>\n",
       "      <td>4<\/td>\n",
       "      <td>7000<\/td>\n",
       "      <td>5<\/td>\n",
       "      <td>2.3<\/td>\n",
       "      <td>0.127882<\/td>\n",
       "      <td>4<\/td>\n",
       "      <td>True<\/td>\n",
       "    <\/tr>\n",
       "    <tr>\n",
       "      <th>8<\/th>\n",
       "      <td>Toyota<\/td>\n",
       "      <td>White<\/td>\n",
       "      <td>60000<\/td>\n",
       "      <td>4<\/td>\n",
       "      <td>6250<\/td>\n",
       "      <td>5<\/td>\n",
       "      <td>2.0<\/td>\n",
       "      <td>0.104167<\/td>\n",
       "      <td>4<\/td>\n",
       "      <td>True<\/td>\n",
       "    <\/tr>\n",
       "    <tr>\n",
       "      <th>9<\/th>\n",
       "      <td>Nissan<\/td>\n",
       "      <td>White<\/td>\n",
       "      <td>31600<\/td>\n",
       "      <td>4<\/td>\n",
       "      <td>9700<\/td>\n",
       "      <td>5<\/td>\n",
       "      <td>3.0<\/td>\n",
       "      <td>0.306962<\/td>\n",
       "      <td>4<\/td>\n",
       "      <td>True<\/td>\n",
       "    <\/tr>\n",
       "  <\/tbody>\n",
       "<\/table>\n",
       "<\/div>"
      ]
     },
     "metadata":{
      
     },
     "output_type":"display_data"
    }
   ],
   "metadata":{
    "datalore":{
     "node_id":"X5Oe0bOD3B1o8zUp1aSKJx",
     "type":"CODE",
     "hide_input_from_viewers":false,
     "hide_output_from_viewers":false,
     "report_properties":{
      "rowId":"Xhdx467Il1t2D4tEss5Mze"
     }
    }
   }
  },
  {
   "cell_type":"markdown",
   "source":[
    "Now you've created some columns, you decide to show your colleague what you've done. When they ask about the `Price per KM` column, you tell them you're not really sure why it's there.\n",
    "\n",
    "You decide you better remove it to prevent confusion.\n",
    "\n",
    "You can remove a column using [`.drop('COLUMN_NAME', axis=1)`](https:\/\/pandas.pydata.org\/docs\/reference\/api\/pandas.DataFrame.drop.html)."
   ],
   "attachments":{
    
   },
   "metadata":{
    "datalore":{
     "node_id":"uXlP9pFvfVEu2W8MkOMSIF",
     "type":"MD",
     "hide_input_from_viewers":false,
     "hide_output_from_viewers":false,
     "report_properties":{
      "rowId":"R9rqduHufH3lVCWY5KdKna"
     }
    }
   }
  },
  {
   "cell_type":"code",
   "source":[
    "# Drop the Price per KM column\n",
    "car_sales = car_sales.drop(\"Price per KM\", axis=1) # columns live on axis 1\n",
    "car_sales"
   ],
   "execution_count":50,
   "outputs":[
    {
     "data":{
      "text\/html":[
       "<div>\n",
       "<style scoped>\n",
       "    .dataframe tbody tr th:only-of-type {\n",
       "        vertical-align: middle;\n",
       "    }\n",
       "\n",
       "    .dataframe tbody tr th {\n",
       "        vertical-align: top;\n",
       "    }\n",
       "\n",
       "    .dataframe thead th {\n",
       "        text-align: right;\n",
       "    }\n",
       "<\/style>\n",
       "<table border=\"1\" class=\"dataframe\">\n",
       "  <thead>\n",
       "    <tr style=\"text-align: right;\">\n",
       "      <th><\/th>\n",
       "      <th>Make<\/th>\n",
       "      <th>Colour<\/th>\n",
       "      <th>Odometer (KM)<\/th>\n",
       "      <th>Doors<\/th>\n",
       "      <th>Price<\/th>\n",
       "      <th>Seats<\/th>\n",
       "      <th>Engine Size<\/th>\n",
       "      <th>Number of wheels<\/th>\n",
       "      <th>Passed road safety<\/th>\n",
       "    <\/tr>\n",
       "  <\/thead>\n",
       "  <tbody>\n",
       "    <tr>\n",
       "      <th>0<\/th>\n",
       "      <td>Toyota<\/td>\n",
       "      <td>White<\/td>\n",
       "      <td>150043<\/td>\n",
       "      <td>4<\/td>\n",
       "      <td>4000<\/td>\n",
       "      <td>5<\/td>\n",
       "      <td>1.3<\/td>\n",
       "      <td>4<\/td>\n",
       "      <td>True<\/td>\n",
       "    <\/tr>\n",
       "    <tr>\n",
       "      <th>1<\/th>\n",
       "      <td>Honda<\/td>\n",
       "      <td>Red<\/td>\n",
       "      <td>87899<\/td>\n",
       "      <td>4<\/td>\n",
       "      <td>5000<\/td>\n",
       "      <td>5<\/td>\n",
       "      <td>2.0<\/td>\n",
       "      <td>4<\/td>\n",
       "      <td>True<\/td>\n",
       "    <\/tr>\n",
       "    <tr>\n",
       "      <th>2<\/th>\n",
       "      <td>Toyota<\/td>\n",
       "      <td>Blue<\/td>\n",
       "      <td>32549<\/td>\n",
       "      <td>3<\/td>\n",
       "      <td>7000<\/td>\n",
       "      <td>5<\/td>\n",
       "      <td>3.0<\/td>\n",
       "      <td>4<\/td>\n",
       "      <td>True<\/td>\n",
       "    <\/tr>\n",
       "    <tr>\n",
       "      <th>3<\/th>\n",
       "      <td>BMW<\/td>\n",
       "      <td>Black<\/td>\n",
       "      <td>11179<\/td>\n",
       "      <td>5<\/td>\n",
       "      <td>22000<\/td>\n",
       "      <td>5<\/td>\n",
       "      <td>4.2<\/td>\n",
       "      <td>4<\/td>\n",
       "      <td>True<\/td>\n",
       "    <\/tr>\n",
       "    <tr>\n",
       "      <th>4<\/th>\n",
       "      <td>Nissan<\/td>\n",
       "      <td>White<\/td>\n",
       "      <td>213095<\/td>\n",
       "      <td>4<\/td>\n",
       "      <td>3500<\/td>\n",
       "      <td>5<\/td>\n",
       "      <td>1.6<\/td>\n",
       "      <td>4<\/td>\n",
       "      <td>True<\/td>\n",
       "    <\/tr>\n",
       "    <tr>\n",
       "      <th>5<\/th>\n",
       "      <td>Toyota<\/td>\n",
       "      <td>Green<\/td>\n",
       "      <td>99213<\/td>\n",
       "      <td>4<\/td>\n",
       "      <td>4500<\/td>\n",
       "      <td>5<\/td>\n",
       "      <td>1.0<\/td>\n",
       "      <td>4<\/td>\n",
       "      <td>True<\/td>\n",
       "    <\/tr>\n",
       "    <tr>\n",
       "      <th>6<\/th>\n",
       "      <td>Honda<\/td>\n",
       "      <td>Blue<\/td>\n",
       "      <td>45698<\/td>\n",
       "      <td>4<\/td>\n",
       "      <td>7500<\/td>\n",
       "      <td>5<\/td>\n",
       "      <td>2.0<\/td>\n",
       "      <td>4<\/td>\n",
       "      <td>True<\/td>\n",
       "    <\/tr>\n",
       "    <tr>\n",
       "      <th>7<\/th>\n",
       "      <td>Honda<\/td>\n",
       "      <td>Blue<\/td>\n",
       "      <td>54738<\/td>\n",
       "      <td>4<\/td>\n",
       "      <td>7000<\/td>\n",
       "      <td>5<\/td>\n",
       "      <td>2.3<\/td>\n",
       "      <td>4<\/td>\n",
       "      <td>True<\/td>\n",
       "    <\/tr>\n",
       "    <tr>\n",
       "      <th>8<\/th>\n",
       "      <td>Toyota<\/td>\n",
       "      <td>White<\/td>\n",
       "      <td>60000<\/td>\n",
       "      <td>4<\/td>\n",
       "      <td>6250<\/td>\n",
       "      <td>5<\/td>\n",
       "      <td>2.0<\/td>\n",
       "      <td>4<\/td>\n",
       "      <td>True<\/td>\n",
       "    <\/tr>\n",
       "    <tr>\n",
       "      <th>9<\/th>\n",
       "      <td>Nissan<\/td>\n",
       "      <td>White<\/td>\n",
       "      <td>31600<\/td>\n",
       "      <td>4<\/td>\n",
       "      <td>9700<\/td>\n",
       "      <td>5<\/td>\n",
       "      <td>3.0<\/td>\n",
       "      <td>4<\/td>\n",
       "      <td>True<\/td>\n",
       "    <\/tr>\n",
       "  <\/tbody>\n",
       "<\/table>\n",
       "<\/div>"
      ]
     },
     "metadata":{
      
     },
     "output_type":"display_data"
    }
   ],
   "metadata":{
    "datalore":{
     "node_id":"mdkXseUeQyeSdavTgbdh2k",
     "type":"CODE",
     "hide_input_from_viewers":false,
     "hide_output_from_viewers":false,
     "report_properties":{
      "rowId":"mWtf4lKtfZ9mC8TK2NkVib"
     }
    }
   }
  },
  {
   "cell_type":"markdown",
   "source":[
    "Why `axis=1`? Because that's the axis columns live on. Rows live on `axis=0`.\n",
    "\n",
    "Let's say you wanted to shuffle the order of your `DataFrame` so you could split it into train, validation and test sets. And even though the order of your samples was random, you wanted to make sure.\n",
    "\n",
    "To do so you could use [`.sample(frac=1)`](https:\/\/pandas.pydata.org\/docs\/reference\/api\/pandas.DataFrame.sample.html). \n",
    "\n",
    "`.sample()` randomly samples different rows from a `DataFrame`. \n",
    "\n",
    "The `frac` parameter dictates the fraction, where 1 = 100% of rows, 0.5 = 50% of rows, 0.01 = 1% of rows.\n",
    "\n",
    "You can also use `.sample(n=1)` where `n` is the number of rows to sample."
   ],
   "attachments":{
    
   },
   "metadata":{
    "datalore":{
     "node_id":"95Rr6MXyhCUZvU7MekwLez",
     "type":"MD",
     "hide_input_from_viewers":false,
     "hide_output_from_viewers":false,
     "report_properties":{
      "rowId":"RAVn01kTfln5fcs3jOdeMi"
     }
    }
   }
  },
  {
   "cell_type":"code",
   "source":[
    "# Sample car_sales\n",
    "car_sales_sampled = car_sales.sample(frac=1)\n",
    "car_sales_sampled"
   ],
   "execution_count":53,
   "outputs":[
    {
     "data":{
      "text\/html":[
       "<div>\n",
       "<style scoped>\n",
       "    .dataframe tbody tr th:only-of-type {\n",
       "        vertical-align: middle;\n",
       "    }\n",
       "\n",
       "    .dataframe tbody tr th {\n",
       "        vertical-align: top;\n",
       "    }\n",
       "\n",
       "    .dataframe thead th {\n",
       "        text-align: right;\n",
       "    }\n",
       "<\/style>\n",
       "<table border=\"1\" class=\"dataframe\">\n",
       "  <thead>\n",
       "    <tr style=\"text-align: right;\">\n",
       "      <th><\/th>\n",
       "      <th>Make<\/th>\n",
       "      <th>Colour<\/th>\n",
       "      <th>Odometer (KM)<\/th>\n",
       "      <th>Doors<\/th>\n",
       "      <th>Price<\/th>\n",
       "      <th>Seats<\/th>\n",
       "      <th>Engine Size<\/th>\n",
       "      <th>Number of wheels<\/th>\n",
       "      <th>Passed road safety<\/th>\n",
       "    <\/tr>\n",
       "  <\/thead>\n",
       "  <tbody>\n",
       "    <tr>\n",
       "      <th>0<\/th>\n",
       "      <td>Toyota<\/td>\n",
       "      <td>White<\/td>\n",
       "      <td>150043<\/td>\n",
       "      <td>4<\/td>\n",
       "      <td>4000<\/td>\n",
       "      <td>5<\/td>\n",
       "      <td>1.3<\/td>\n",
       "      <td>4<\/td>\n",
       "      <td>True<\/td>\n",
       "    <\/tr>\n",
       "    <tr>\n",
       "      <th>2<\/th>\n",
       "      <td>Toyota<\/td>\n",
       "      <td>Blue<\/td>\n",
       "      <td>32549<\/td>\n",
       "      <td>3<\/td>\n",
       "      <td>7000<\/td>\n",
       "      <td>5<\/td>\n",
       "      <td>3.0<\/td>\n",
       "      <td>4<\/td>\n",
       "      <td>True<\/td>\n",
       "    <\/tr>\n",
       "    <tr>\n",
       "      <th>7<\/th>\n",
       "      <td>Honda<\/td>\n",
       "      <td>Blue<\/td>\n",
       "      <td>54738<\/td>\n",
       "      <td>4<\/td>\n",
       "      <td>7000<\/td>\n",
       "      <td>5<\/td>\n",
       "      <td>2.3<\/td>\n",
       "      <td>4<\/td>\n",
       "      <td>True<\/td>\n",
       "    <\/tr>\n",
       "    <tr>\n",
       "      <th>5<\/th>\n",
       "      <td>Toyota<\/td>\n",
       "      <td>Green<\/td>\n",
       "      <td>99213<\/td>\n",
       "      <td>4<\/td>\n",
       "      <td>4500<\/td>\n",
       "      <td>5<\/td>\n",
       "      <td>1.0<\/td>\n",
       "      <td>4<\/td>\n",
       "      <td>True<\/td>\n",
       "    <\/tr>\n",
       "    <tr>\n",
       "      <th>6<\/th>\n",
       "      <td>Honda<\/td>\n",
       "      <td>Blue<\/td>\n",
       "      <td>45698<\/td>\n",
       "      <td>4<\/td>\n",
       "      <td>7500<\/td>\n",
       "      <td>5<\/td>\n",
       "      <td>2.0<\/td>\n",
       "      <td>4<\/td>\n",
       "      <td>True<\/td>\n",
       "    <\/tr>\n",
       "    <tr>\n",
       "      <th>1<\/th>\n",
       "      <td>Honda<\/td>\n",
       "      <td>Red<\/td>\n",
       "      <td>87899<\/td>\n",
       "      <td>4<\/td>\n",
       "      <td>5000<\/td>\n",
       "      <td>5<\/td>\n",
       "      <td>2.0<\/td>\n",
       "      <td>4<\/td>\n",
       "      <td>True<\/td>\n",
       "    <\/tr>\n",
       "    <tr>\n",
       "      <th>9<\/th>\n",
       "      <td>Nissan<\/td>\n",
       "      <td>White<\/td>\n",
       "      <td>31600<\/td>\n",
       "      <td>4<\/td>\n",
       "      <td>9700<\/td>\n",
       "      <td>5<\/td>\n",
       "      <td>3.0<\/td>\n",
       "      <td>4<\/td>\n",
       "      <td>True<\/td>\n",
       "    <\/tr>\n",
       "    <tr>\n",
       "      <th>3<\/th>\n",
       "      <td>BMW<\/td>\n",
       "      <td>Black<\/td>\n",
       "      <td>11179<\/td>\n",
       "      <td>5<\/td>\n",
       "      <td>22000<\/td>\n",
       "      <td>5<\/td>\n",
       "      <td>4.2<\/td>\n",
       "      <td>4<\/td>\n",
       "      <td>True<\/td>\n",
       "    <\/tr>\n",
       "    <tr>\n",
       "      <th>8<\/th>\n",
       "      <td>Toyota<\/td>\n",
       "      <td>White<\/td>\n",
       "      <td>60000<\/td>\n",
       "      <td>4<\/td>\n",
       "      <td>6250<\/td>\n",
       "      <td>5<\/td>\n",
       "      <td>2.0<\/td>\n",
       "      <td>4<\/td>\n",
       "      <td>True<\/td>\n",
       "    <\/tr>\n",
       "    <tr>\n",
       "      <th>4<\/th>\n",
       "      <td>Nissan<\/td>\n",
       "      <td>White<\/td>\n",
       "      <td>213095<\/td>\n",
       "      <td>4<\/td>\n",
       "      <td>3500<\/td>\n",
       "      <td>5<\/td>\n",
       "      <td>1.6<\/td>\n",
       "      <td>4<\/td>\n",
       "      <td>True<\/td>\n",
       "    <\/tr>\n",
       "  <\/tbody>\n",
       "<\/table>\n",
       "<\/div>"
      ]
     },
     "metadata":{
      
     },
     "output_type":"display_data"
    }
   ],
   "metadata":{
    "datalore":{
     "node_id":"8jtrivAbcoEPrgh0kQpPMU",
     "type":"CODE",
     "hide_input_from_viewers":false,
     "hide_output_from_viewers":false,
     "report_properties":{
      "rowId":"qxVne4RCW0bzj8IAMbQqp0"
     }
    }
   }
  },
  {
   "cell_type":"markdown",
   "source":[
    "Notice how the rows remain intact but their order is mixed (check the indexes).\n",
    "\n",
    "`.sample(frac=X)` is also helpful when you're working with a large `DataFrame`. \n",
    "\n",
    "Say you had 2,000,000 rows.\n",
    "\n",
    "Running tests, analysis and machine learning algorithms on 2,000,000 rows could take a long time. And since being a data scientist or machine learning engineer is about reducing the time between experiments, you might begin with a sample of rows first.\n",
    "\n",
    "For example, you could use `40k_rows = 2_mil_rows.sample(frac=0.05)` to work on 40,000 rows from a `DataFrame` called `2_mil_rows` containing 2,000,000 rows.\n",
    "\n",
    "What if you wanted to get the indexes back in order?\n",
    "\n",
    "You could do so using [`.reset_index()`](https:\/\/pandas.pydata.org\/docs\/reference\/api\/pandas.DataFrame.reset_index.html)."
   ],
   "attachments":{
    
   },
   "metadata":{
    "datalore":{
     "node_id":"X6bzj3La84viGbnjNRmg3v",
     "type":"MD",
     "hide_input_from_viewers":false,
     "hide_output_from_viewers":false,
     "report_properties":{
      "rowId":"YUA4Fshat3HoFhgU6XHmPD"
     }
    }
   }
  },
  {
   "cell_type":"code",
   "source":[
    "# Reset the indexes of car_sales_sampled\n",
    "car_sales_sampled.reset_index()"
   ],
   "execution_count":54,
   "outputs":[
    {
     "data":{
      "text\/html":[
       "<div>\n",
       "<style scoped>\n",
       "    .dataframe tbody tr th:only-of-type {\n",
       "        vertical-align: middle;\n",
       "    }\n",
       "\n",
       "    .dataframe tbody tr th {\n",
       "        vertical-align: top;\n",
       "    }\n",
       "\n",
       "    .dataframe thead th {\n",
       "        text-align: right;\n",
       "    }\n",
       "<\/style>\n",
       "<table border=\"1\" class=\"dataframe\">\n",
       "  <thead>\n",
       "    <tr style=\"text-align: right;\">\n",
       "      <th><\/th>\n",
       "      <th>index<\/th>\n",
       "      <th>Make<\/th>\n",
       "      <th>Colour<\/th>\n",
       "      <th>Odometer (KM)<\/th>\n",
       "      <th>Doors<\/th>\n",
       "      <th>Price<\/th>\n",
       "      <th>Seats<\/th>\n",
       "      <th>Engine Size<\/th>\n",
       "      <th>Number of wheels<\/th>\n",
       "      <th>Passed road safety<\/th>\n",
       "    <\/tr>\n",
       "  <\/thead>\n",
       "  <tbody>\n",
       "    <tr>\n",
       "      <th>0<\/th>\n",
       "      <td>0<\/td>\n",
       "      <td>Toyota<\/td>\n",
       "      <td>White<\/td>\n",
       "      <td>150043<\/td>\n",
       "      <td>4<\/td>\n",
       "      <td>4000<\/td>\n",
       "      <td>5<\/td>\n",
       "      <td>1.3<\/td>\n",
       "      <td>4<\/td>\n",
       "      <td>True<\/td>\n",
       "    <\/tr>\n",
       "    <tr>\n",
       "      <th>1<\/th>\n",
       "      <td>2<\/td>\n",
       "      <td>Toyota<\/td>\n",
       "      <td>Blue<\/td>\n",
       "      <td>32549<\/td>\n",
       "      <td>3<\/td>\n",
       "      <td>7000<\/td>\n",
       "      <td>5<\/td>\n",
       "      <td>3.0<\/td>\n",
       "      <td>4<\/td>\n",
       "      <td>True<\/td>\n",
       "    <\/tr>\n",
       "    <tr>\n",
       "      <th>2<\/th>\n",
       "      <td>7<\/td>\n",
       "      <td>Honda<\/td>\n",
       "      <td>Blue<\/td>\n",
       "      <td>54738<\/td>\n",
       "      <td>4<\/td>\n",
       "      <td>7000<\/td>\n",
       "      <td>5<\/td>\n",
       "      <td>2.3<\/td>\n",
       "      <td>4<\/td>\n",
       "      <td>True<\/td>\n",
       "    <\/tr>\n",
       "    <tr>\n",
       "      <th>3<\/th>\n",
       "      <td>5<\/td>\n",
       "      <td>Toyota<\/td>\n",
       "      <td>Green<\/td>\n",
       "      <td>99213<\/td>\n",
       "      <td>4<\/td>\n",
       "      <td>4500<\/td>\n",
       "      <td>5<\/td>\n",
       "      <td>1.0<\/td>\n",
       "      <td>4<\/td>\n",
       "      <td>True<\/td>\n",
       "    <\/tr>\n",
       "    <tr>\n",
       "      <th>4<\/th>\n",
       "      <td>6<\/td>\n",
       "      <td>Honda<\/td>\n",
       "      <td>Blue<\/td>\n",
       "      <td>45698<\/td>\n",
       "      <td>4<\/td>\n",
       "      <td>7500<\/td>\n",
       "      <td>5<\/td>\n",
       "      <td>2.0<\/td>\n",
       "      <td>4<\/td>\n",
       "      <td>True<\/td>\n",
       "    <\/tr>\n",
       "    <tr>\n",
       "      <th>5<\/th>\n",
       "      <td>1<\/td>\n",
       "      <td>Honda<\/td>\n",
       "      <td>Red<\/td>\n",
       "      <td>87899<\/td>\n",
       "      <td>4<\/td>\n",
       "      <td>5000<\/td>\n",
       "      <td>5<\/td>\n",
       "      <td>2.0<\/td>\n",
       "      <td>4<\/td>\n",
       "      <td>True<\/td>\n",
       "    <\/tr>\n",
       "    <tr>\n",
       "      <th>6<\/th>\n",
       "      <td>9<\/td>\n",
       "      <td>Nissan<\/td>\n",
       "      <td>White<\/td>\n",
       "      <td>31600<\/td>\n",
       "      <td>4<\/td>\n",
       "      <td>9700<\/td>\n",
       "      <td>5<\/td>\n",
       "      <td>3.0<\/td>\n",
       "      <td>4<\/td>\n",
       "      <td>True<\/td>\n",
       "    <\/tr>\n",
       "    <tr>\n",
       "      <th>7<\/th>\n",
       "      <td>3<\/td>\n",
       "      <td>BMW<\/td>\n",
       "      <td>Black<\/td>\n",
       "      <td>11179<\/td>\n",
       "      <td>5<\/td>\n",
       "      <td>22000<\/td>\n",
       "      <td>5<\/td>\n",
       "      <td>4.2<\/td>\n",
       "      <td>4<\/td>\n",
       "      <td>True<\/td>\n",
       "    <\/tr>\n",
       "    <tr>\n",
       "      <th>8<\/th>\n",
       "      <td>8<\/td>\n",
       "      <td>Toyota<\/td>\n",
       "      <td>White<\/td>\n",
       "      <td>60000<\/td>\n",
       "      <td>4<\/td>\n",
       "      <td>6250<\/td>\n",
       "      <td>5<\/td>\n",
       "      <td>2.0<\/td>\n",
       "      <td>4<\/td>\n",
       "      <td>True<\/td>\n",
       "    <\/tr>\n",
       "    <tr>\n",
       "      <th>9<\/th>\n",
       "      <td>4<\/td>\n",
       "      <td>Nissan<\/td>\n",
       "      <td>White<\/td>\n",
       "      <td>213095<\/td>\n",
       "      <td>4<\/td>\n",
       "      <td>3500<\/td>\n",
       "      <td>5<\/td>\n",
       "      <td>1.6<\/td>\n",
       "      <td>4<\/td>\n",
       "      <td>True<\/td>\n",
       "    <\/tr>\n",
       "  <\/tbody>\n",
       "<\/table>\n",
       "<\/div>"
      ]
     },
     "metadata":{
      
     },
     "output_type":"display_data"
    }
   ],
   "metadata":{
    "datalore":{
     "node_id":"zwtxuBjAHcYjMyl45Va6uN",
     "type":"CODE",
     "hide_input_from_viewers":false,
     "hide_output_from_viewers":false,
     "report_properties":{
      "rowId":"6KRBShyV3i8MntzGzUoQcv"
     }
    }
   }
  },
  {
   "cell_type":"markdown",
   "source":[
    "Calling `.reset_index()` on a `DataFrame` resets the index numbers to their defaults. It also creates a new `Index` column by default which contains the previous index values.\n",
    "\n",
    "Finally, what if you wanted to apply a function to a column. Such as, converting the `Odometer` column from kilometers to miles.\n",
    "\n",
    "You can do so using the [`.apply()`](https:\/\/pandas.pydata.org\/docs\/reference\/api\/pandas.DataFrame.apply.html) function and passing it a Python [lambda function](https:\/\/www.w3schools.com\/python\/python_lambda.asp). We know there's about 1.6 kilometers in a mile, so if you divide the value in the `Odometer` column by 1.6, it should convert it to miles."
   ],
   "attachments":{
    
   },
   "metadata":{
    "datalore":{
     "node_id":"UJg3cnGpv6gcyvaaiUaA2d",
     "type":"MD",
     "hide_input_from_viewers":false,
     "hide_output_from_viewers":false,
     "report_properties":{
      "rowId":"zB2oVWViOfUcvCygahblfq"
     }
    }
   }
  },
  {
   "cell_type":"code",
   "source":[
    "# Change the Odometer values from kilometres to miles\n",
    "car_sales[\"Odometer (KM)\"].apply(lambda x: x \/ 1.6)"
   ],
   "execution_count":55,
   "outputs":[
    {
     "data":{
      "text\/html":[
       "<pre>0     93776.875\n",
       "1     54936.875\n",
       "2     20343.125\n",
       "3      6986.875\n",
       "4    133184.375\n",
       "5     62008.125\n",
       "6     28561.250\n",
       "7     34211.250\n",
       "8     37500.000\n",
       "9     19750.000\n",
       "Name: Odometer (KM), dtype: float64<\/pre>"
      ]
     },
     "metadata":{
      
     },
     "output_type":"display_data"
    }
   ],
   "metadata":{
    "datalore":{
     "node_id":"GLCoVShrrPWr6g7TsDsNMd",
     "type":"CODE",
     "hide_input_from_viewers":false,
     "hide_output_from_viewers":false,
     "report_properties":{
      "rowId":"2VoXMdCW7wP7vcqRbZVvlJ"
     }
    }
   }
  },
  {
   "cell_type":"markdown",
   "source":[
    "Now let's check our `car_sales` `DataFrame`."
   ],
   "attachments":{
    
   },
   "metadata":{
    "datalore":{
     "node_id":"QCsvzI14JyaEIyzKwVBiMW",
     "type":"MD",
     "hide_input_from_viewers":false,
     "hide_output_from_viewers":false,
     "report_properties":{
      "rowId":"P9ND3FQjoMtv1ddPBSwnx0"
     }
    }
   }
  },
  {
   "cell_type":"code",
   "source":[
    "car_sales"
   ],
   "execution_count":56,
   "outputs":[
    {
     "data":{
      "text\/html":[
       "<div>\n",
       "<style scoped>\n",
       "    .dataframe tbody tr th:only-of-type {\n",
       "        vertical-align: middle;\n",
       "    }\n",
       "\n",
       "    .dataframe tbody tr th {\n",
       "        vertical-align: top;\n",
       "    }\n",
       "\n",
       "    .dataframe thead th {\n",
       "        text-align: right;\n",
       "    }\n",
       "<\/style>\n",
       "<table border=\"1\" class=\"dataframe\">\n",
       "  <thead>\n",
       "    <tr style=\"text-align: right;\">\n",
       "      <th><\/th>\n",
       "      <th>Make<\/th>\n",
       "      <th>Colour<\/th>\n",
       "      <th>Odometer (KM)<\/th>\n",
       "      <th>Doors<\/th>\n",
       "      <th>Price<\/th>\n",
       "      <th>Seats<\/th>\n",
       "      <th>Engine Size<\/th>\n",
       "      <th>Number of wheels<\/th>\n",
       "      <th>Passed road safety<\/th>\n",
       "    <\/tr>\n",
       "  <\/thead>\n",
       "  <tbody>\n",
       "    <tr>\n",
       "      <th>0<\/th>\n",
       "      <td>Toyota<\/td>\n",
       "      <td>White<\/td>\n",
       "      <td>150043<\/td>\n",
       "      <td>4<\/td>\n",
       "      <td>4000<\/td>\n",
       "      <td>5<\/td>\n",
       "      <td>1.3<\/td>\n",
       "      <td>4<\/td>\n",
       "      <td>True<\/td>\n",
       "    <\/tr>\n",
       "    <tr>\n",
       "      <th>1<\/th>\n",
       "      <td>Honda<\/td>\n",
       "      <td>Red<\/td>\n",
       "      <td>87899<\/td>\n",
       "      <td>4<\/td>\n",
       "      <td>5000<\/td>\n",
       "      <td>5<\/td>\n",
       "      <td>2.0<\/td>\n",
       "      <td>4<\/td>\n",
       "      <td>True<\/td>\n",
       "    <\/tr>\n",
       "    <tr>\n",
       "      <th>2<\/th>\n",
       "      <td>Toyota<\/td>\n",
       "      <td>Blue<\/td>\n",
       "      <td>32549<\/td>\n",
       "      <td>3<\/td>\n",
       "      <td>7000<\/td>\n",
       "      <td>5<\/td>\n",
       "      <td>3.0<\/td>\n",
       "      <td>4<\/td>\n",
       "      <td>True<\/td>\n",
       "    <\/tr>\n",
       "    <tr>\n",
       "      <th>3<\/th>\n",
       "      <td>BMW<\/td>\n",
       "      <td>Black<\/td>\n",
       "      <td>11179<\/td>\n",
       "      <td>5<\/td>\n",
       "      <td>22000<\/td>\n",
       "      <td>5<\/td>\n",
       "      <td>4.2<\/td>\n",
       "      <td>4<\/td>\n",
       "      <td>True<\/td>\n",
       "    <\/tr>\n",
       "    <tr>\n",
       "      <th>4<\/th>\n",
       "      <td>Nissan<\/td>\n",
       "      <td>White<\/td>\n",
       "      <td>213095<\/td>\n",
       "      <td>4<\/td>\n",
       "      <td>3500<\/td>\n",
       "      <td>5<\/td>\n",
       "      <td>1.6<\/td>\n",
       "      <td>4<\/td>\n",
       "      <td>True<\/td>\n",
       "    <\/tr>\n",
       "    <tr>\n",
       "      <th>5<\/th>\n",
       "      <td>Toyota<\/td>\n",
       "      <td>Green<\/td>\n",
       "      <td>99213<\/td>\n",
       "      <td>4<\/td>\n",
       "      <td>4500<\/td>\n",
       "      <td>5<\/td>\n",
       "      <td>1.0<\/td>\n",
       "      <td>4<\/td>\n",
       "      <td>True<\/td>\n",
       "    <\/tr>\n",
       "    <tr>\n",
       "      <th>6<\/th>\n",
       "      <td>Honda<\/td>\n",
       "      <td>Blue<\/td>\n",
       "      <td>45698<\/td>\n",
       "      <td>4<\/td>\n",
       "      <td>7500<\/td>\n",
       "      <td>5<\/td>\n",
       "      <td>2.0<\/td>\n",
       "      <td>4<\/td>\n",
       "      <td>True<\/td>\n",
       "    <\/tr>\n",
       "    <tr>\n",
       "      <th>7<\/th>\n",
       "      <td>Honda<\/td>\n",
       "      <td>Blue<\/td>\n",
       "      <td>54738<\/td>\n",
       "      <td>4<\/td>\n",
       "      <td>7000<\/td>\n",
       "      <td>5<\/td>\n",
       "      <td>2.3<\/td>\n",
       "      <td>4<\/td>\n",
       "      <td>True<\/td>\n",
       "    <\/tr>\n",
       "    <tr>\n",
       "      <th>8<\/th>\n",
       "      <td>Toyota<\/td>\n",
       "      <td>White<\/td>\n",
       "      <td>60000<\/td>\n",
       "      <td>4<\/td>\n",
       "      <td>6250<\/td>\n",
       "      <td>5<\/td>\n",
       "      <td>2.0<\/td>\n",
       "      <td>4<\/td>\n",
       "      <td>True<\/td>\n",
       "    <\/tr>\n",
       "    <tr>\n",
       "      <th>9<\/th>\n",
       "      <td>Nissan<\/td>\n",
       "      <td>White<\/td>\n",
       "      <td>31600<\/td>\n",
       "      <td>4<\/td>\n",
       "      <td>9700<\/td>\n",
       "      <td>5<\/td>\n",
       "      <td>3.0<\/td>\n",
       "      <td>4<\/td>\n",
       "      <td>True<\/td>\n",
       "    <\/tr>\n",
       "  <\/tbody>\n",
       "<\/table>\n",
       "<\/div>"
      ]
     },
     "metadata":{
      
     },
     "output_type":"display_data"
    }
   ],
   "metadata":{
    "datalore":{
     "node_id":"bBqjRIDwU9FVziMiM1Fpqu",
     "type":"CODE",
     "hide_input_from_viewers":false,
     "hide_output_from_viewers":false,
     "report_properties":{
      "rowId":"latTk6pC3qpx7AaFbAo5sv"
     }
    }
   }
  },
  {
   "cell_type":"markdown",
   "source":[
    "The `Odometer` column didn't change. Can you guess why?\n",
    "\n",
    "We didn't reassign it."
   ],
   "attachments":{
    
   },
   "metadata":{
    "datalore":{
     "node_id":"VlUjjuNSY7kxJQvggHqYSY",
     "type":"MD",
     "hide_input_from_viewers":false,
     "hide_output_from_viewers":false,
     "report_properties":{
      "rowId":"Gy2LbV2Ku4GoxqrFXCD1ZF"
     }
    }
   }
  },
  {
   "cell_type":"code",
   "source":[
    "# Reassign the Odometer column to be miles instead of kilometers\n",
    "car_sales[\"Odometer (KM)\"] = car_sales[\"Odometer (KM)\"].apply(lambda x: x \/ 1.6)\n",
    "car_sales"
   ],
   "execution_count":57,
   "outputs":[
    {
     "data":{
      "text\/html":[
       "<div>\n",
       "<style scoped>\n",
       "    .dataframe tbody tr th:only-of-type {\n",
       "        vertical-align: middle;\n",
       "    }\n",
       "\n",
       "    .dataframe tbody tr th {\n",
       "        vertical-align: top;\n",
       "    }\n",
       "\n",
       "    .dataframe thead th {\n",
       "        text-align: right;\n",
       "    }\n",
       "<\/style>\n",
       "<table border=\"1\" class=\"dataframe\">\n",
       "  <thead>\n",
       "    <tr style=\"text-align: right;\">\n",
       "      <th><\/th>\n",
       "      <th>Make<\/th>\n",
       "      <th>Colour<\/th>\n",
       "      <th>Odometer (KM)<\/th>\n",
       "      <th>Doors<\/th>\n",
       "      <th>Price<\/th>\n",
       "      <th>Seats<\/th>\n",
       "      <th>Engine Size<\/th>\n",
       "      <th>Number of wheels<\/th>\n",
       "      <th>Passed road safety<\/th>\n",
       "    <\/tr>\n",
       "  <\/thead>\n",
       "  <tbody>\n",
       "    <tr>\n",
       "      <th>0<\/th>\n",
       "      <td>Toyota<\/td>\n",
       "      <td>White<\/td>\n",
       "      <td>93776.875<\/td>\n",
       "      <td>4<\/td>\n",
       "      <td>4000<\/td>\n",
       "      <td>5<\/td>\n",
       "      <td>1.3<\/td>\n",
       "      <td>4<\/td>\n",
       "      <td>True<\/td>\n",
       "    <\/tr>\n",
       "    <tr>\n",
       "      <th>1<\/th>\n",
       "      <td>Honda<\/td>\n",
       "      <td>Red<\/td>\n",
       "      <td>54936.875<\/td>\n",
       "      <td>4<\/td>\n",
       "      <td>5000<\/td>\n",
       "      <td>5<\/td>\n",
       "      <td>2.0<\/td>\n",
       "      <td>4<\/td>\n",
       "      <td>True<\/td>\n",
       "    <\/tr>\n",
       "    <tr>\n",
       "      <th>2<\/th>\n",
       "      <td>Toyota<\/td>\n",
       "      <td>Blue<\/td>\n",
       "      <td>20343.125<\/td>\n",
       "      <td>3<\/td>\n",
       "      <td>7000<\/td>\n",
       "      <td>5<\/td>\n",
       "      <td>3.0<\/td>\n",
       "      <td>4<\/td>\n",
       "      <td>True<\/td>\n",
       "    <\/tr>\n",
       "    <tr>\n",
       "      <th>3<\/th>\n",
       "      <td>BMW<\/td>\n",
       "      <td>Black<\/td>\n",
       "      <td>6986.875<\/td>\n",
       "      <td>5<\/td>\n",
       "      <td>22000<\/td>\n",
       "      <td>5<\/td>\n",
       "      <td>4.2<\/td>\n",
       "      <td>4<\/td>\n",
       "      <td>True<\/td>\n",
       "    <\/tr>\n",
       "    <tr>\n",
       "      <th>4<\/th>\n",
       "      <td>Nissan<\/td>\n",
       "      <td>White<\/td>\n",
       "      <td>133184.375<\/td>\n",
       "      <td>4<\/td>\n",
       "      <td>3500<\/td>\n",
       "      <td>5<\/td>\n",
       "      <td>1.6<\/td>\n",
       "      <td>4<\/td>\n",
       "      <td>True<\/td>\n",
       "    <\/tr>\n",
       "    <tr>\n",
       "      <th>5<\/th>\n",
       "      <td>Toyota<\/td>\n",
       "      <td>Green<\/td>\n",
       "      <td>62008.125<\/td>\n",
       "      <td>4<\/td>\n",
       "      <td>4500<\/td>\n",
       "      <td>5<\/td>\n",
       "      <td>1.0<\/td>\n",
       "      <td>4<\/td>\n",
       "      <td>True<\/td>\n",
       "    <\/tr>\n",
       "    <tr>\n",
       "      <th>6<\/th>\n",
       "      <td>Honda<\/td>\n",
       "      <td>Blue<\/td>\n",
       "      <td>28561.250<\/td>\n",
       "      <td>4<\/td>\n",
       "      <td>7500<\/td>\n",
       "      <td>5<\/td>\n",
       "      <td>2.0<\/td>\n",
       "      <td>4<\/td>\n",
       "      <td>True<\/td>\n",
       "    <\/tr>\n",
       "    <tr>\n",
       "      <th>7<\/th>\n",
       "      <td>Honda<\/td>\n",
       "      <td>Blue<\/td>\n",
       "      <td>34211.250<\/td>\n",
       "      <td>4<\/td>\n",
       "      <td>7000<\/td>\n",
       "      <td>5<\/td>\n",
       "      <td>2.3<\/td>\n",
       "      <td>4<\/td>\n",
       "      <td>True<\/td>\n",
       "    <\/tr>\n",
       "    <tr>\n",
       "      <th>8<\/th>\n",
       "      <td>Toyota<\/td>\n",
       "      <td>White<\/td>\n",
       "      <td>37500.000<\/td>\n",
       "      <td>4<\/td>\n",
       "      <td>6250<\/td>\n",
       "      <td>5<\/td>\n",
       "      <td>2.0<\/td>\n",
       "      <td>4<\/td>\n",
       "      <td>True<\/td>\n",
       "    <\/tr>\n",
       "    <tr>\n",
       "      <th>9<\/th>\n",
       "      <td>Nissan<\/td>\n",
       "      <td>White<\/td>\n",
       "      <td>19750.000<\/td>\n",
       "      <td>4<\/td>\n",
       "      <td>9700<\/td>\n",
       "      <td>5<\/td>\n",
       "      <td>3.0<\/td>\n",
       "      <td>4<\/td>\n",
       "      <td>True<\/td>\n",
       "    <\/tr>\n",
       "  <\/tbody>\n",
       "<\/table>\n",
       "<\/div>"
      ]
     },
     "metadata":{
      
     },
     "output_type":"display_data"
    }
   ],
   "metadata":{
    "datalore":{
     "node_id":"WuPGjKZCLjCrK6DNlRgKWH",
     "type":"CODE",
     "hide_input_from_viewers":false,
     "hide_output_from_viewers":false,
     "report_properties":{
      "rowId":"JwKk9sBqV1QIrOeYiiE1KJ"
     }
    }
   }
  },
  {
   "cell_type":"markdown",
   "source":[
    "If you've never seen a lambda function they can be tricky. What the line above is saying is \"take the value in the `Odometer (KM)` column (`x`) and set it to be itself divided by 1.6\"."
   ],
   "attachments":{
    
   },
   "metadata":{
    "datalore":{
     "node_id":"lbYWUakyIt3hdahx0umV58",
     "type":"MD",
     "hide_input_from_viewers":false,
     "hide_output_from_viewers":false,
     "report_properties":{
      "rowId":"lqWqdkYuf53yj0AKmgEjys"
     }
    }
   }
  },
  {
   "cell_type":"markdown",
   "source":[
    "## Summary\n",
    "\n",
    "### Main topics we covered\n",
    "* [Series](https:\/\/pandas.pydata.org\/pandas-docs\/stable\/reference\/api\/pandas.Series.html) - a single column (can be multiple rows) of values.\n",
    "* [DataFrame](https:\/\/pandas.pydata.org\/pandas-docs\/stable\/reference\/frame.html) - multiple columns\/rows of values (a DataFrame is comprised of multiple Series).\n",
    "* [Importing data](https:\/\/pandas.pydata.org\/pandas-docs\/stable\/reference\/io.html) - we used [`pd.read_csv()`](https:\/\/pandas.pydata.org\/pandas-docs\/stable\/reference\/api\/pandas.read_csv.html#pandas-read-csv) to read in a CSV (comma-separated values) file but there are multiple options for reading data.\n",
    "* [Exporting data](https:\/\/pandas.pydata.org\/pandas-docs\/stable\/reference\/io.html) - we exported our data using `to_csv()`, however there are multiple methods of exporting data.\n",
    "* [Describing data](https:\/\/pandas.pydata.org\/docs\/reference\/api\/pandas.DataFrame.describe.html)\n",
    "    * `df.dtypes` - find the datatypes present in a dataframe.\n",
    "    * `df.describe()` - find various numerical features of a dataframe.\n",
    "    * `df.info()` - find the number of rows and whether or not any of them are empty.\n",
    "* [Viewing and selecting data](https:\/\/pandas.pydata.org\/docs\/user_guide\/10min.html#viewing-data)\n",
    "    * `df.head()` - view the first 5 rows of `df`.\n",
    "    * `df.loc` & `df.iloc` - select specific parts of a dataframe.\n",
    "    * `df['A']` - select column `A` of `df`.\n",
    "    * `df[df['A'] > 1000]` - selection column `A` rows with values over 1000 of `df`.\n",
    "    * `df['A']` - plot values from column `A` using matplotlib (defaults to line graph).\n",
    "* [Manipulating data and performing operations](https:\/\/pandas.pydata.org\/docs\/user_guide\/10min.html#operations) - pandas has many built-in functions you can use to manipulate data, also many of the Python operators (e.g. `+`, `-`, `>`, `==`) work with pandas.\n",
    " \n",
    "### Further reading\n",
    "Since pandas is such a large library, it would be impossible to cover it all in one go. \n",
    "\n",
    "The following are some resources you might want to look into for more.\n",
    "* [Python for Data Analysis by Wes McKinney](https:\/\/wesmckinney.com\/book\/) - possibly the most complete text of the pandas library (apart from the documentation itself) written by the creator of pandas.\n",
    "* [Data Manipulation with Pandas (section of Python Data Science Handbook by Jake VanderPlas)](https:\/\/jakevdp.github.io\/PythonDataScienceHandbook\/03.00-introduction-to-pandas.html) - a very hands-on approach to many of the main functions in the pandas library.  \n",
    "\n",
    "### Exercises\n",
    "After completing this notebook, you next thing should be to try out some more pandas code of your own.\n",
    "\n",
    "I'd suggest at least going through number 1 (write out all the code yourself), a couple from number 2 (again, write out the code yourself) and spend an hour reading number 3 (this is vast but keep it in mind).\n",
    "\n",
    "1. [10-minute introduction to pandas](https:\/\/pandas.pydata.org\/pandas-docs\/stable\/user_guide\/10min.html) - go through all the functions here and be sure to write out the code yourself.\n",
    "2. [Pandas getting started tutorial](https:\/\/pandas.pydata.org\/pandas-docs\/stable\/getting_started\/intro_tutorials\/index.html) - pick a couple from here which spark your interest and go through them both writing out the code for your self.\n",
    "3. [Pandas essential basic functionality](https:\/\/pandas.pydata.org\/pandas-docs\/stable\/user_guide\/basics.html) - spend an hour reading this and bookmark it for whenever you need to come back for an overview of pandas."
   ],
   "attachments":{
    
   },
   "metadata":{
    "datalore":{
     "node_id":"JOQQCA6GpZer0B4T2ZVq30",
     "type":"MD",
     "hide_input_from_viewers":false,
     "hide_output_from_viewers":false,
     "report_properties":{
      "rowId":"kZaVJO5Zjv525A7RstEb0Y"
     }
    }
   }
  }
 ],
 "metadata":{
  "kernelspec":{
   "display_name":"Python",
   "language":"python",
   "name":"python"
  },
  "datalore":{
   "computation_mode":"JUPYTER",
   "package_manager":"pip",
   "base_environment":"default",
   "packages":[
    
   ],
   "report_row_ids":[
    "KqQrPNkuzWtKw2olyfjPw6",
    "H9XuxtNItnAw2Id96pZCmq",
    "iCtBgAlsPsHxZsK0iBwYFv",
    "2oyJFS7yKsCZ12ToG3hgfU",
    "wS6iq6IiSWaPV9KQMoTTby",
    "T8cQiWnIYrP4STjNFdeIP5",
    "bOE186Y1p1YVTcUAofm6rF",
    "dnxT6jDuHS52Yh7u144a1W",
    "jsV1TVYCh1gM4N90y15Odm",
    "fk3fbrPHs66Sttz0x6EOzC",
    "jMWbaXOabPk8fetUjoYa7w",
    "g2MYLyw7EDqhcYmLDNE9cF",
    "rzlv5aqgIRlI8lSzyTDCON",
    "vqYMYyamW4KdLBMJQHr2OD",
    "U47RpIFE2KyDFsarW2uV7U",
    "WpPpUyKU97gbjJo227lPA3",
    "svcTNHWyS0WRO2Cr2A3D3E",
    "qrk4pIXLzVzzhRSlPC4Msn",
    "Mz5j5Bkm98HFMIqT7zDgPr",
    "4UMlT1TAClMFdwDubwzsJK",
    "RxqyxRfYe5SFzWPBNGf3kW",
    "uxHuV5ssxVqWVOX1MaWlkS",
    "WIhQtO1xdyLyEuXhvHa8dJ",
    "D6f5AMSb479IXqPCdJoRnb",
    "m4S5XDnDe0w8WBxji0HJ8y",
    "YViAT7Unu4cC0Q1IVQqQvv",
    "96xiNSOBtmtPGZ7aGOWLdv",
    "ekXrnzFkkbZNbG6pSpvklw",
    "QvVE63PzuzcV0vILL0bo71",
    "YRs3jaZYE8NdfYAlqBkJw9",
    "YHgFelBy29KC1eEAHnO3zn",
    "Pl2CaAkiuFsQWAmtwUJMn6",
    "zH96UklpAiISsr68kWhPKb",
    "D3SIg5wGcKD8mK9OMxMvy8",
    "gjT6cgotKE3H7S65U0Ff1F",
    "4RGNYHp4KHrk7LzlhvuaB3",
    "CR5VYKz0y4TYHl73JqjvCZ",
    "Yi3ZGCf4CaT6QMFsjC1NFR",
    "jISs1Lu1CLVpmQjUO58XfF",
    "aYQlgOz1RFRK8glBZ7ftCC",
    "34AAvR1cPj4Uaz4S05pTTe",
    "2cowhxevU1o9IMcBrfzffS",
    "rmE3UCfDoKZn3WPLaBvS6X",
    "bKTmx4YQckVEVsdxJRkpqD",
    "sLxa2yc5qLrEO5oqoQ9M9L",
    "7NORWVV4lAAwQrM4OJseAJ",
    "SkDjGNxexPwuknhuaMz5y8",
    "LsE3KmoOfqx5qMDPbbRnjQ",
    "Y5PfU43PmyIZZ26PS1TPdk",
    "Bfp1XXuPvl4diAiBIeenPh",
    "yksMb26EVGJZ5Oji2I7Jq3",
    "waIqQpORWLHoh39PkWUimZ",
    "L7xtd4lpuvPtHrOZWx8gbs",
    "5vImzNkcNJy9SaFGApRSbb",
    "0jlWfuduhRUDxVewHnGzgX",
    "RGDAWfUdOcJt4LckcGUx7r",
    "mc9erIByvyJ12vJpfLEklz",
    "xBZrnTulzFQc3FPWQvJa2m",
    "5SluC2JwcgVl2eMk5MG9V6",
    "hem6FsBQBRhcLhrVYAevTQ",
    "VwRA2EjXCLfCvSxvY1kywB",
    "cMnfyhjwKjJq2to8iALN4I",
    "NANBbKcRxqk37vW4XGQRga",
    "7c3K9ul3hgSkTSGqerZmuC",
    "tL94IdmoqYSFxbJlglBmlE",
    "SN7wmsiAV6QSuucao7VHKN",
    "3NB3Nmss41dae20wBT92Fn",
    "1VmR10v174MxU07Qpjl3Sf",
    "o249pmTYruSuC99sqrAM8K",
    "Glmxh3WWVjPxn54fpQvcWv",
    "IybOGBubix7vRqsdPQZecf",
    "xWWQxb8DcagZSXbZZOg5HY",
    "zueTuYOooSnNdQoEd4KTIJ",
    "rno3Qm942JFa9OdrygLKQw",
    "4PvY54QcyZmKuC2fojhLpL",
    "D7Kv7zDJmAIGhDv5kML56J",
    "L3QZlyNc7lu1LOFLV26a86",
    "uMAB9m9iAcdRCCPzeLDrbq",
    "W927GHKwaoL3QxfFlkwyYd",
    "kCQv6wEqzb0gaP2tJ9k719",
    "XVBCY0uNmi7j6r9DbuuqSv",
    "VFmwgQtbobflk4HL1KVygK",
    "gbMQBNg88WSpQLdQVCtXch",
    "fSzGYkewNkZnKCemt0Ql1q",
    "BAOSyfbaJnkBGZflB2wTyO",
    "tzteXCy9U3keHaMD3NU5pA",
    "66C3TMrvx1F4J6EXpQhv5V",
    "7ovDsI8tvW0vtqSPvcsKEJ",
    "IaBmmf0wzuPzsJYwxLNxNp",
    "MvveRa4s8P1zoELjXG0dvI",
    "lkO4WBiMBFp328y3zfBerb",
    "o2Kz61DQvU0DgrI01vskfK",
    "AEjV4Hfg5qBy7ivWP0HN9x",
    "eBJrj7803EaHCcikCFt1cO",
    "vXIc3rsyajSoIRttkSfljS",
    "NiAOU2LBgf6WLjDir72ClE",
    "b8QK1JCvePsayTwyoyZr7Q",
    "h4LIjhJVuoKF79ambRzES2",
    "BuEG77RONh4UTc51kpwfxJ",
    "QIPsSb0U31xw2f9llgIgqC",
    "rwQ6b5KcdE0TY0SfZbgns8",
    "eifiXQr73qI9MdP7y762Wc",
    "WglQUCZ004YLd7ffWkSOHc",
    "vR3FTfCSKvxPav7j6TVe8q",
    "qv33HZnFUxdcEjIjh82oPh",
    "yFuNKyg8W8paksCfHZxsYb",
    "SpQZUvXWt17oFUGjJOeMtE",
    "IXcGnVeXmWhJ99xcYzyAlb",
    "Ywa8HvA0sbVipJGqdKt6Kq",
    "Ji0vwQgpx53ku6Op2ImZuc",
    "JVrHzy5L0E3NKVa6SilKmp",
    "Qt0IkE7ndyRSEltCgbpRSW",
    "1eOyeDVRzoPpEPmHKFPxfH",
    "tqnOERqrSqjl4wlfDGJeqv",
    "wMbplJYxcBLm7HnJQNzlXk",
    "pYvqDp5pNgLtrRhKMf61XG",
    "Yn6TuGa8eAM7PVgN4wNFUe",
    "L8KCfcO3Iu6hPtfYNN5YA2",
    "Qxe2NRS2ZDrfhlFEv1UjFW",
    "A9SJlNkIZ4dMXViJlorn2g",
    "UYliqJtBnvXt6jzklbgtSU",
    "Ncq4sa0Qasr28Q35VnjnYA",
    "zYc2MFCEM0AgKJwub7g4HG",
    "I5XaBXIXDadyEpTdofl7bX",
    "svpHlzbWTl0tSAQ22wibDw",
    "cGXlXvIH8FRRxhm0Iu2S9V",
    "MdAjfbdqY4Hqn6LlcItEzv",
    "UUTlThj5bz9suF7z0kDpsT",
    "igIFfZsOyF74eZeTRn2Jjn",
    "0jYAqbSmR6s6dW0px5Cab1",
    "ur6FJFV16TgdkKENN05h4X",
    "DVbdXQWeZSKL1huneSsry7",
    "kB3c6VfbNUfQt9XtSQ9MQX",
    "MavGpwsJR5HtL3eMvMRoj3",
    "zUyLOW9xPg9yPqYquQmuz3",
    "eg4W6vLpUEG39EvcN0PVa7",
    "0oYJkcIdyWasKrLaWRMBx8",
    "veVHMLd9YVM14DjG4cQHgT",
    "pKDlyZgykrTNjVG7vsgyjL",
    "x7jzos3QK1AdBFIXYhrQkp",
    "GnD0dGopu7BaXOqCqpQIMl",
    "Xhdx467Il1t2D4tEss5Mze",
    "R9rqduHufH3lVCWY5KdKna",
    "mWtf4lKtfZ9mC8TK2NkVib",
    "RAVn01kTfln5fcs3jOdeMi",
    "qxVne4RCW0bzj8IAMbQqp0",
    "YUA4Fshat3HoFhgU6XHmPD",
    "6KRBShyV3i8MntzGzUoQcv",
    "zB2oVWViOfUcvCygahblfq",
    "2VoXMdCW7wP7vcqRbZVvlJ",
    "P9ND3FQjoMtv1ddPBSwnx0",
    "latTk6pC3qpx7AaFbAo5sv",
    "Gy2LbV2Ku4GoxqrFXCD1ZF",
    "JwKk9sBqV1QIrOeYiiE1KJ",
    "lqWqdkYuf53yj0AKmgEjys",
    "kZaVJO5Zjv525A7RstEb0Y"
   ],
   "version":3
  }
 },
 "nbformat":4,
 "nbformat_minor":4
}